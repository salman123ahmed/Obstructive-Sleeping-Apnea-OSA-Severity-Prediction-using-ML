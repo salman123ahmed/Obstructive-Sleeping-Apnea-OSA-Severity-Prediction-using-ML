{
 "cells": [
  {
   "cell_type": "code",
   "execution_count": null,
   "metadata": {
    "id": "MnuoUBn-lPvN"
   },
   "outputs": [],
   "source": [
    "# importing libraries\n",
    "import pandas as pd\n",
    "import numpy as np\n",
    "import sklearn\n",
    "import matplotlib.pyplot as plt\n",
    "%matplotlib inline\n",
    "plt.rcParams['figure.figsize'] = [18, 10] \n",
    "\n",
    "#import seaborn as sns\n",
    "import datetime as DT\n",
    "from datetime import datetime\n",
    "\n",
    "import warnings\n",
    "warnings.filterwarnings('ignore')\n"
   ]
  },
  {
   "cell_type": "code",
   "execution_count": null,
   "metadata": {
    "id": "jiHtOxuvlqlU"
   },
   "outputs": [],
   "source": [
    "df_patientfiles = pd.read_csv(r'/content/drive/MyDrive/Data Science Projects/OSA Project PhD/Datasets/BP Time series alignment /Grenoble.csv')\n",
    "df_timedata = pd.read_csv(r'/content/drive/MyDrive/Data Science Projects/OSA Project PhD/Datasets/BP Time series alignment /Grenoble_raw.csv')"
   ]
  },
  {
   "cell_type": "code",
   "execution_count": null,
   "metadata": {
    "colab": {
     "base_uri": "https://localhost:8080/",
     "height": 206
    },
    "executionInfo": {
     "elapsed": 34,
     "status": "ok",
     "timestamp": 1649113238559,
     "user": {
      "displayName": "Riya Saha",
      "userId": "06182650084884906727"
     },
     "user_tz": -60
    },
    "id": "9LMfV7PEqIfR",
    "outputId": "53bdeb90-7128-420c-ca24-20b25fcf5a24"
   },
   "outputs": [
    {
     "data": {
      "text/html": [
       "\n",
       "  <div id=\"df-6747df25-4b61-4bfa-834e-798f42c54d6a\">\n",
       "    <div class=\"colab-df-container\">\n",
       "      <div>\n",
       "<style scoped>\n",
       "    .dataframe tbody tr th:only-of-type {\n",
       "        vertical-align: middle;\n",
       "    }\n",
       "\n",
       "    .dataframe tbody tr th {\n",
       "        vertical-align: top;\n",
       "    }\n",
       "\n",
       "    .dataframe thead th {\n",
       "        text-align: right;\n",
       "    }\n",
       "</style>\n",
       "<table border=\"1\" class=\"dataframe\">\n",
       "  <thead>\n",
       "    <tr style=\"text-align: right;\">\n",
       "      <th></th>\n",
       "      <th>UNID</th>\n",
       "      <th>Time</th>\n",
       "      <th>MonDay</th>\n",
       "      <th>SBP</th>\n",
       "      <th>DBP</th>\n",
       "      <th>HR</th>\n",
       "      <th>ERR</th>\n",
       "      <th>Event</th>\n",
       "      <th>VISIT</th>\n",
       "      <th>Valid</th>\n",
       "    </tr>\n",
       "  </thead>\n",
       "  <tbody>\n",
       "    <tr>\n",
       "      <th>0</th>\n",
       "      <td>1907f4a6-b068-428d-a88e-38ca9df121f6</td>\n",
       "      <td>20MAR12:15:25:00</td>\n",
       "      <td>1</td>\n",
       "      <td>54</td>\n",
       "      <td>29</td>\n",
       "      <td>60</td>\n",
       "      <td>2</td>\n",
       "      <td>NaN</td>\n",
       "      <td>1</td>\n",
       "      <td>1</td>\n",
       "    </tr>\n",
       "    <tr>\n",
       "      <th>1</th>\n",
       "      <td>1907f4a6-b068-428d-a88e-38ca9df121f6</td>\n",
       "      <td>20MAR12:15:55:00</td>\n",
       "      <td>1</td>\n",
       "      <td>62</td>\n",
       "      <td>38</td>\n",
       "      <td>60</td>\n",
       "      <td>2</td>\n",
       "      <td>NaN</td>\n",
       "      <td>1</td>\n",
       "      <td>1</td>\n",
       "    </tr>\n",
       "    <tr>\n",
       "      <th>2</th>\n",
       "      <td>1907f4a6-b068-428d-a88e-38ca9df121f6</td>\n",
       "      <td>20MAR12:15:40:00</td>\n",
       "      <td>1</td>\n",
       "      <td>64</td>\n",
       "      <td>33</td>\n",
       "      <td>59</td>\n",
       "      <td>2</td>\n",
       "      <td>NaN</td>\n",
       "      <td>1</td>\n",
       "      <td>1</td>\n",
       "    </tr>\n",
       "    <tr>\n",
       "      <th>3</th>\n",
       "      <td>c27adf3f-9de5-4cb8-9861-6840c75e9f9b</td>\n",
       "      <td>16MAR12:21:43:00</td>\n",
       "      <td>1</td>\n",
       "      <td>67</td>\n",
       "      <td>49</td>\n",
       "      <td>68</td>\n",
       "      <td>1</td>\n",
       "      <td>NaN</td>\n",
       "      <td>1</td>\n",
       "      <td>1</td>\n",
       "    </tr>\n",
       "    <tr>\n",
       "      <th>4</th>\n",
       "      <td>1907f4a6-b068-428d-a88e-38ca9df121f6</td>\n",
       "      <td>20MAR12:16:10:00</td>\n",
       "      <td>1</td>\n",
       "      <td>68</td>\n",
       "      <td>44</td>\n",
       "      <td>60</td>\n",
       "      <td>1</td>\n",
       "      <td>NaN</td>\n",
       "      <td>1</td>\n",
       "      <td>1</td>\n",
       "    </tr>\n",
       "  </tbody>\n",
       "</table>\n",
       "</div>\n",
       "      <button class=\"colab-df-convert\" onclick=\"convertToInteractive('df-6747df25-4b61-4bfa-834e-798f42c54d6a')\"\n",
       "              title=\"Convert this dataframe to an interactive table.\"\n",
       "              style=\"display:none;\">\n",
       "        \n",
       "  <svg xmlns=\"http://www.w3.org/2000/svg\" height=\"24px\"viewBox=\"0 0 24 24\"\n",
       "       width=\"24px\">\n",
       "    <path d=\"M0 0h24v24H0V0z\" fill=\"none\"/>\n",
       "    <path d=\"M18.56 5.44l.94 2.06.94-2.06 2.06-.94-2.06-.94-.94-2.06-.94 2.06-2.06.94zm-11 1L8.5 8.5l.94-2.06 2.06-.94-2.06-.94L8.5 2.5l-.94 2.06-2.06.94zm10 10l.94 2.06.94-2.06 2.06-.94-2.06-.94-.94-2.06-.94 2.06-2.06.94z\"/><path d=\"M17.41 7.96l-1.37-1.37c-.4-.4-.92-.59-1.43-.59-.52 0-1.04.2-1.43.59L10.3 9.45l-7.72 7.72c-.78.78-.78 2.05 0 2.83L4 21.41c.39.39.9.59 1.41.59.51 0 1.02-.2 1.41-.59l7.78-7.78 2.81-2.81c.8-.78.8-2.07 0-2.86zM5.41 20L4 18.59l7.72-7.72 1.47 1.35L5.41 20z\"/>\n",
       "  </svg>\n",
       "      </button>\n",
       "      \n",
       "  <style>\n",
       "    .colab-df-container {\n",
       "      display:flex;\n",
       "      flex-wrap:wrap;\n",
       "      gap: 12px;\n",
       "    }\n",
       "\n",
       "    .colab-df-convert {\n",
       "      background-color: #E8F0FE;\n",
       "      border: none;\n",
       "      border-radius: 50%;\n",
       "      cursor: pointer;\n",
       "      display: none;\n",
       "      fill: #1967D2;\n",
       "      height: 32px;\n",
       "      padding: 0 0 0 0;\n",
       "      width: 32px;\n",
       "    }\n",
       "\n",
       "    .colab-df-convert:hover {\n",
       "      background-color: #E2EBFA;\n",
       "      box-shadow: 0px 1px 2px rgba(60, 64, 67, 0.3), 0px 1px 3px 1px rgba(60, 64, 67, 0.15);\n",
       "      fill: #174EA6;\n",
       "    }\n",
       "\n",
       "    [theme=dark] .colab-df-convert {\n",
       "      background-color: #3B4455;\n",
       "      fill: #D2E3FC;\n",
       "    }\n",
       "\n",
       "    [theme=dark] .colab-df-convert:hover {\n",
       "      background-color: #434B5C;\n",
       "      box-shadow: 0px 1px 3px 1px rgba(0, 0, 0, 0.15);\n",
       "      filter: drop-shadow(0px 1px 2px rgba(0, 0, 0, 0.3));\n",
       "      fill: #FFFFFF;\n",
       "    }\n",
       "  </style>\n",
       "\n",
       "      <script>\n",
       "        const buttonEl =\n",
       "          document.querySelector('#df-6747df25-4b61-4bfa-834e-798f42c54d6a button.colab-df-convert');\n",
       "        buttonEl.style.display =\n",
       "          google.colab.kernel.accessAllowed ? 'block' : 'none';\n",
       "\n",
       "        async function convertToInteractive(key) {\n",
       "          const element = document.querySelector('#df-6747df25-4b61-4bfa-834e-798f42c54d6a');\n",
       "          const dataTable =\n",
       "            await google.colab.kernel.invokeFunction('convertToInteractive',\n",
       "                                                     [key], {});\n",
       "          if (!dataTable) return;\n",
       "\n",
       "          const docLinkHtml = 'Like what you see? Visit the ' +\n",
       "            '<a target=\"_blank\" href=https://colab.research.google.com/notebooks/data_table.ipynb>data table notebook</a>'\n",
       "            + ' to learn more about interactive tables.';\n",
       "          element.innerHTML = '';\n",
       "          dataTable['output_type'] = 'display_data';\n",
       "          await google.colab.output.renderOutput(dataTable, element);\n",
       "          const docLink = document.createElement('div');\n",
       "          docLink.innerHTML = docLinkHtml;\n",
       "          element.appendChild(docLink);\n",
       "        }\n",
       "      </script>\n",
       "    </div>\n",
       "  </div>\n",
       "  "
      ],
      "text/plain": [
       "                                   UNID              Time  MonDay  SBP  DBP  \\\n",
       "0  1907f4a6-b068-428d-a88e-38ca9df121f6  20MAR12:15:25:00       1   54   29   \n",
       "1  1907f4a6-b068-428d-a88e-38ca9df121f6  20MAR12:15:55:00       1   62   38   \n",
       "2  1907f4a6-b068-428d-a88e-38ca9df121f6  20MAR12:15:40:00       1   64   33   \n",
       "3  c27adf3f-9de5-4cb8-9861-6840c75e9f9b  16MAR12:21:43:00       1   67   49   \n",
       "4  1907f4a6-b068-428d-a88e-38ca9df121f6  20MAR12:16:10:00       1   68   44   \n",
       "\n",
       "   HR  ERR Event  VISIT  Valid  \n",
       "0  60    2   NaN      1      1  \n",
       "1  60    2   NaN      1      1  \n",
       "2  59    2   NaN      1      1  \n",
       "3  68    1   NaN      1      1  \n",
       "4  60    1   NaN      1      1  "
      ]
     },
     "execution_count": 3,
     "metadata": {},
     "output_type": "execute_result"
    }
   ],
   "source": [
    "df_timedata.head()"
   ]
  },
  {
   "cell_type": "code",
   "execution_count": null,
   "metadata": {
    "colab": {
     "base_uri": "https://localhost:8080/"
    },
    "executionInfo": {
     "elapsed": 31,
     "status": "ok",
     "timestamp": 1649113238561,
     "user": {
      "displayName": "Riya Saha",
      "userId": "06182650084884906727"
     },
     "user_tz": -60
    },
    "id": "1n7oM9_-qVSF",
    "outputId": "81e5a7eb-14d0-415c-8b52-d798ec8c0884"
   },
   "outputs": [
    {
     "data": {
      "text/plain": [
       "(22216, 10)"
      ]
     },
     "execution_count": 4,
     "metadata": {},
     "output_type": "execute_result"
    }
   ],
   "source": [
    "df_timedata.shape"
   ]
  },
  {
   "cell_type": "code",
   "execution_count": null,
   "metadata": {
    "colab": {
     "base_uri": "https://localhost:8080/",
     "height": 299
    },
    "executionInfo": {
     "elapsed": 27,
     "status": "ok",
     "timestamp": 1649113238563,
     "user": {
      "displayName": "Riya Saha",
      "userId": "06182650084884906727"
     },
     "user_tz": -60
    },
    "id": "RJx3-dcgqn12",
    "outputId": "4ca9a78d-4687-4870-e6e6-bb9ba43bb4d5"
   },
   "outputs": [
    {
     "data": {
      "text/html": [
       "\n",
       "  <div id=\"df-f8cc7cdd-8211-4c5e-8cd9-a1e46e6e6f2c\">\n",
       "    <div class=\"colab-df-container\">\n",
       "      <div>\n",
       "<style scoped>\n",
       "    .dataframe tbody tr th:only-of-type {\n",
       "        vertical-align: middle;\n",
       "    }\n",
       "\n",
       "    .dataframe tbody tr th {\n",
       "        vertical-align: top;\n",
       "    }\n",
       "\n",
       "    .dataframe thead th {\n",
       "        text-align: right;\n",
       "    }\n",
       "</style>\n",
       "<table border=\"1\" class=\"dataframe\">\n",
       "  <thead>\n",
       "    <tr style=\"text-align: right;\">\n",
       "      <th></th>\n",
       "      <th>num</th>\n",
       "      <th>Age__years_</th>\n",
       "      <th>VAR3</th>\n",
       "      <th>Presence_of_coronary_artery_dise</th>\n",
       "      <th>Presence_of_cerebrovascula_disea</th>\n",
       "      <th>VAR6</th>\n",
       "      <th>Presence_of_dyslipidemia__hyperc</th>\n",
       "      <th>Smoking_behavior___current_smoki</th>\n",
       "      <th>Smoking_behavior__consumption__</th>\n",
       "      <th>Presence_of_hypertension__yes_no</th>\n",
       "      <th>...</th>\n",
       "      <th>nDBPnFix</th>\n",
       "      <th>nHRnFix</th>\n",
       "      <th>nSBPsdnFix</th>\n",
       "      <th>nMBPsdnFix</th>\n",
       "      <th>nDBPsdnFix</th>\n",
       "      <th>nHRsdnFix</th>\n",
       "      <th>ARV_SBP</th>\n",
       "      <th>ARV_DBP</th>\n",
       "      <th>ARV_HR</th>\n",
       "      <th>AASI</th>\n",
       "    </tr>\n",
       "  </thead>\n",
       "  <tbody>\n",
       "    <tr>\n",
       "      <th>0</th>\n",
       "      <td>1</td>\n",
       "      <td>42</td>\n",
       "      <td>M</td>\n",
       "      <td>no</td>\n",
       "      <td>no</td>\n",
       "      <td>no</td>\n",
       "      <td>no</td>\n",
       "      <td>yes</td>\n",
       "      <td>28</td>\n",
       "      <td>no</td>\n",
       "      <td>...</td>\n",
       "      <td>71.86667</td>\n",
       "      <td>99.30000</td>\n",
       "      <td>35.115380</td>\n",
       "      <td>25.355420</td>\n",
       "      <td>21.948370</td>\n",
       "      <td>21.681260</td>\n",
       "      <td>12.865390</td>\n",
       "      <td>10.173080</td>\n",
       "      <td>6.846154</td>\n",
       "      <td>0.370339</td>\n",
       "    </tr>\n",
       "    <tr>\n",
       "      <th>1</th>\n",
       "      <td>2</td>\n",
       "      <td>58</td>\n",
       "      <td>M</td>\n",
       "      <td>no</td>\n",
       "      <td>no</td>\n",
       "      <td>no</td>\n",
       "      <td>yes</td>\n",
       "      <td>no</td>\n",
       "      <td>16.25</td>\n",
       "      <td>yes</td>\n",
       "      <td>...</td>\n",
       "      <td>65.00000</td>\n",
       "      <td>54.75000</td>\n",
       "      <td>8.956460</td>\n",
       "      <td>8.295672</td>\n",
       "      <td>9.672830</td>\n",
       "      <td>4.390071</td>\n",
       "      <td>8.256757</td>\n",
       "      <td>6.148649</td>\n",
       "      <td>6.054054</td>\n",
       "      <td>0.406565</td>\n",
       "    </tr>\n",
       "    <tr>\n",
       "      <th>2</th>\n",
       "      <td>5</td>\n",
       "      <td>48</td>\n",
       "      <td>F</td>\n",
       "      <td>no</td>\n",
       "      <td>no</td>\n",
       "      <td>no</td>\n",
       "      <td>yes</td>\n",
       "      <td>yes</td>\n",
       "      <td>18</td>\n",
       "      <td>no</td>\n",
       "      <td>...</td>\n",
       "      <td>61.75000</td>\n",
       "      <td>69.08334</td>\n",
       "      <td>10.227710</td>\n",
       "      <td>7.246734</td>\n",
       "      <td>8.465169</td>\n",
       "      <td>7.153617</td>\n",
       "      <td>9.131147</td>\n",
       "      <td>7.131147</td>\n",
       "      <td>8.459017</td>\n",
       "      <td>0.427954</td>\n",
       "    </tr>\n",
       "    <tr>\n",
       "      <th>3</th>\n",
       "      <td>7</td>\n",
       "      <td>73</td>\n",
       "      <td>M</td>\n",
       "      <td>yes</td>\n",
       "      <td>no</td>\n",
       "      <td>no</td>\n",
       "      <td>yes</td>\n",
       "      <td>no</td>\n",
       "      <td>32</td>\n",
       "      <td>yes</td>\n",
       "      <td>...</td>\n",
       "      <td>68.83334</td>\n",
       "      <td>49.25000</td>\n",
       "      <td>8.233400</td>\n",
       "      <td>8.305955</td>\n",
       "      <td>10.049320</td>\n",
       "      <td>1.751190</td>\n",
       "      <td>10.222220</td>\n",
       "      <td>8.000000</td>\n",
       "      <td>2.666667</td>\n",
       "      <td>0.497447</td>\n",
       "    </tr>\n",
       "    <tr>\n",
       "      <th>4</th>\n",
       "      <td>8</td>\n",
       "      <td>51</td>\n",
       "      <td>M</td>\n",
       "      <td>no</td>\n",
       "      <td>no</td>\n",
       "      <td>yes</td>\n",
       "      <td>no</td>\n",
       "      <td>no</td>\n",
       "      <td>0</td>\n",
       "      <td>yes</td>\n",
       "      <td>...</td>\n",
       "      <td>66.41666</td>\n",
       "      <td>76.08334</td>\n",
       "      <td>7.577878</td>\n",
       "      <td>5.736645</td>\n",
       "      <td>4.601548</td>\n",
       "      <td>5.247654</td>\n",
       "      <td>10.250000</td>\n",
       "      <td>6.776316</td>\n",
       "      <td>5.552631</td>\n",
       "      <td>0.649434</td>\n",
       "    </tr>\n",
       "  </tbody>\n",
       "</table>\n",
       "<p>5 rows × 87 columns</p>\n",
       "</div>\n",
       "      <button class=\"colab-df-convert\" onclick=\"convertToInteractive('df-f8cc7cdd-8211-4c5e-8cd9-a1e46e6e6f2c')\"\n",
       "              title=\"Convert this dataframe to an interactive table.\"\n",
       "              style=\"display:none;\">\n",
       "        \n",
       "  <svg xmlns=\"http://www.w3.org/2000/svg\" height=\"24px\"viewBox=\"0 0 24 24\"\n",
       "       width=\"24px\">\n",
       "    <path d=\"M0 0h24v24H0V0z\" fill=\"none\"/>\n",
       "    <path d=\"M18.56 5.44l.94 2.06.94-2.06 2.06-.94-2.06-.94-.94-2.06-.94 2.06-2.06.94zm-11 1L8.5 8.5l.94-2.06 2.06-.94-2.06-.94L8.5 2.5l-.94 2.06-2.06.94zm10 10l.94 2.06.94-2.06 2.06-.94-2.06-.94-.94-2.06-.94 2.06-2.06.94z\"/><path d=\"M17.41 7.96l-1.37-1.37c-.4-.4-.92-.59-1.43-.59-.52 0-1.04.2-1.43.59L10.3 9.45l-7.72 7.72c-.78.78-.78 2.05 0 2.83L4 21.41c.39.39.9.59 1.41.59.51 0 1.02-.2 1.41-.59l7.78-7.78 2.81-2.81c.8-.78.8-2.07 0-2.86zM5.41 20L4 18.59l7.72-7.72 1.47 1.35L5.41 20z\"/>\n",
       "  </svg>\n",
       "      </button>\n",
       "      \n",
       "  <style>\n",
       "    .colab-df-container {\n",
       "      display:flex;\n",
       "      flex-wrap:wrap;\n",
       "      gap: 12px;\n",
       "    }\n",
       "\n",
       "    .colab-df-convert {\n",
       "      background-color: #E8F0FE;\n",
       "      border: none;\n",
       "      border-radius: 50%;\n",
       "      cursor: pointer;\n",
       "      display: none;\n",
       "      fill: #1967D2;\n",
       "      height: 32px;\n",
       "      padding: 0 0 0 0;\n",
       "      width: 32px;\n",
       "    }\n",
       "\n",
       "    .colab-df-convert:hover {\n",
       "      background-color: #E2EBFA;\n",
       "      box-shadow: 0px 1px 2px rgba(60, 64, 67, 0.3), 0px 1px 3px 1px rgba(60, 64, 67, 0.15);\n",
       "      fill: #174EA6;\n",
       "    }\n",
       "\n",
       "    [theme=dark] .colab-df-convert {\n",
       "      background-color: #3B4455;\n",
       "      fill: #D2E3FC;\n",
       "    }\n",
       "\n",
       "    [theme=dark] .colab-df-convert:hover {\n",
       "      background-color: #434B5C;\n",
       "      box-shadow: 0px 1px 3px 1px rgba(0, 0, 0, 0.15);\n",
       "      filter: drop-shadow(0px 1px 2px rgba(0, 0, 0, 0.3));\n",
       "      fill: #FFFFFF;\n",
       "    }\n",
       "  </style>\n",
       "\n",
       "      <script>\n",
       "        const buttonEl =\n",
       "          document.querySelector('#df-f8cc7cdd-8211-4c5e-8cd9-a1e46e6e6f2c button.colab-df-convert');\n",
       "        buttonEl.style.display =\n",
       "          google.colab.kernel.accessAllowed ? 'block' : 'none';\n",
       "\n",
       "        async function convertToInteractive(key) {\n",
       "          const element = document.querySelector('#df-f8cc7cdd-8211-4c5e-8cd9-a1e46e6e6f2c');\n",
       "          const dataTable =\n",
       "            await google.colab.kernel.invokeFunction('convertToInteractive',\n",
       "                                                     [key], {});\n",
       "          if (!dataTable) return;\n",
       "\n",
       "          const docLinkHtml = 'Like what you see? Visit the ' +\n",
       "            '<a target=\"_blank\" href=https://colab.research.google.com/notebooks/data_table.ipynb>data table notebook</a>'\n",
       "            + ' to learn more about interactive tables.';\n",
       "          element.innerHTML = '';\n",
       "          dataTable['output_type'] = 'display_data';\n",
       "          await google.colab.output.renderOutput(dataTable, element);\n",
       "          const docLink = document.createElement('div');\n",
       "          docLink.innerHTML = docLinkHtml;\n",
       "          element.appendChild(docLink);\n",
       "        }\n",
       "      </script>\n",
       "    </div>\n",
       "  </div>\n",
       "  "
      ],
      "text/plain": [
       "   num  Age__years_ VAR3 Presence_of_coronary_artery_dise  \\\n",
       "0    1           42    M                               no   \n",
       "1    2           58    M                               no   \n",
       "2    5           48    F                               no   \n",
       "3    7           73    M                              yes   \n",
       "4    8           51    M                               no   \n",
       "\n",
       "  Presence_of_cerebrovascula_disea VAR6 Presence_of_dyslipidemia__hyperc  \\\n",
       "0                               no   no                               no   \n",
       "1                               no   no                              yes   \n",
       "2                               no   no                              yes   \n",
       "3                               no   no                              yes   \n",
       "4                               no  yes                               no   \n",
       "\n",
       "  Smoking_behavior___current_smoki Smoking_behavior__consumption__  \\\n",
       "0                              yes                              28   \n",
       "1                               no                           16.25   \n",
       "2                              yes                              18   \n",
       "3                               no                              32   \n",
       "4                               no                               0   \n",
       "\n",
       "  Presence_of_hypertension__yes_no  ...  nDBPnFix   nHRnFix  nSBPsdnFix  \\\n",
       "0                               no  ...  71.86667  99.30000   35.115380   \n",
       "1                              yes  ...  65.00000  54.75000    8.956460   \n",
       "2                               no  ...  61.75000  69.08334   10.227710   \n",
       "3                              yes  ...  68.83334  49.25000    8.233400   \n",
       "4                              yes  ...  66.41666  76.08334    7.577878   \n",
       "\n",
       "   nMBPsdnFix  nDBPsdnFix  nHRsdnFix    ARV_SBP    ARV_DBP    ARV_HR      AASI  \n",
       "0   25.355420   21.948370  21.681260  12.865390  10.173080  6.846154  0.370339  \n",
       "1    8.295672    9.672830   4.390071   8.256757   6.148649  6.054054  0.406565  \n",
       "2    7.246734    8.465169   7.153617   9.131147   7.131147  8.459017  0.427954  \n",
       "3    8.305955   10.049320   1.751190  10.222220   8.000000  2.666667  0.497447  \n",
       "4    5.736645    4.601548   5.247654  10.250000   6.776316  5.552631  0.649434  \n",
       "\n",
       "[5 rows x 87 columns]"
      ]
     },
     "execution_count": 5,
     "metadata": {},
     "output_type": "execute_result"
    }
   ],
   "source": [
    "df_patientfiles.head()"
   ]
  },
  {
   "cell_type": "code",
   "execution_count": null,
   "metadata": {
    "colab": {
     "base_uri": "https://localhost:8080/"
    },
    "executionInfo": {
     "elapsed": 27,
     "status": "ok",
     "timestamp": 1649113238564,
     "user": {
      "displayName": "Riya Saha",
      "userId": "06182650084884906727"
     },
     "user_tz": -60
    },
    "id": "Kk3JwljTbeXq",
    "outputId": "4b7af884-fd2c-4663-ed36-fd5b649ce301"
   },
   "outputs": [
    {
     "data": {
      "text/plain": [
       "(283, 87)"
      ]
     },
     "execution_count": 6,
     "metadata": {},
     "output_type": "execute_result"
    }
   ],
   "source": [
    "df_patientfiles.shape"
   ]
  },
  {
   "cell_type": "code",
   "execution_count": null,
   "metadata": {
    "colab": {
     "base_uri": "https://localhost:8080/"
    },
    "executionInfo": {
     "elapsed": 25,
     "status": "ok",
     "timestamp": 1649113238565,
     "user": {
      "displayName": "Riya Saha",
      "userId": "06182650084884906727"
     },
     "user_tz": -60
    },
    "id": "JLhRAfuVbeZX",
    "outputId": "5436b8b8-9c05-4fcf-9b23-ef3d280bd2cb"
   },
   "outputs": [
    {
     "data": {
      "text/plain": [
       "UNID          0\n",
       "Time          0\n",
       "MonDay        0\n",
       "SBP           0\n",
       "DBP           0\n",
       "HR            0\n",
       "ERR           0\n",
       "Event     22100\n",
       "VISIT         0\n",
       "Valid         0\n",
       "dtype: int64"
      ]
     },
     "execution_count": 7,
     "metadata": {},
     "output_type": "execute_result"
    }
   ],
   "source": [
    "df_timedata.isnull().sum()"
   ]
  },
  {
   "cell_type": "code",
   "execution_count": null,
   "metadata": {
    "id": "po6uO7Lpbecs"
   },
   "outputs": [],
   "source": [
    "list_unique_unid = df_timedata['UNID'].unique()"
   ]
  },
  {
   "cell_type": "code",
   "execution_count": null,
   "metadata": {
    "colab": {
     "base_uri": "https://localhost:8080/"
    },
    "executionInfo": {
     "elapsed": 27,
     "status": "ok",
     "timestamp": 1649113238569,
     "user": {
      "displayName": "Riya Saha",
      "userId": "06182650084884906727"
     },
     "user_tz": -60
    },
    "id": "aZY6SGGBbefn",
    "outputId": "e76c16d1-58b9-4469-b56c-2b5dcfaf65f8"
   },
   "outputs": [
    {
     "data": {
      "text/plain": [
       "283"
      ]
     },
     "execution_count": 9,
     "metadata": {},
     "output_type": "execute_result"
    }
   ],
   "source": [
    "len(list_unique_unid)"
   ]
  },
  {
   "cell_type": "code",
   "execution_count": null,
   "metadata": {
    "id": "nkebDiwVbeil"
   },
   "outputs": [],
   "source": [
    "#drop Event, ERR, VISIT, MonDay and Valid  column \n",
    "df_timedata = df_timedata.drop([\"Event\",\"ERR\",\"VISIT\",\"Valid\"], axis=1)"
   ]
  },
  {
   "cell_type": "code",
   "execution_count": null,
   "metadata": {
    "colab": {
     "base_uri": "https://localhost:8080/"
    },
    "executionInfo": {
     "elapsed": 68,
     "status": "ok",
     "timestamp": 1649113239202,
     "user": {
      "displayName": "Riya Saha",
      "userId": "06182650084884906727"
     },
     "user_tz": -60
    },
    "id": "aQ7Axk-IdHZA",
    "outputId": "69845660-0598-4fe4-f92a-b4f098aa88c4"
   },
   "outputs": [
    {
     "data": {
      "text/plain": [
       "UNID      0\n",
       "Time      0\n",
       "MonDay    0\n",
       "SBP       0\n",
       "DBP       0\n",
       "HR        0\n",
       "dtype: int64"
      ]
     },
     "execution_count": 11,
     "metadata": {},
     "output_type": "execute_result"
    }
   ],
   "source": [
    "df_timedata.isnull().sum()"
   ]
  },
  {
   "cell_type": "code",
   "execution_count": null,
   "metadata": {
    "colab": {
     "base_uri": "https://localhost:8080/",
     "height": 206
    },
    "executionInfo": {
     "elapsed": 66,
     "status": "ok",
     "timestamp": 1649113239203,
     "user": {
      "displayName": "Riya Saha",
      "userId": "06182650084884906727"
     },
     "user_tz": -60
    },
    "id": "MG43fDE3j5Y3",
    "outputId": "0f6d999c-6935-4ba0-9829-1722b5fbfcb4"
   },
   "outputs": [
    {
     "data": {
      "text/html": [
       "\n",
       "  <div id=\"df-01d26a2b-d0a4-4ca0-9392-b49e3422a0d7\">\n",
       "    <div class=\"colab-df-container\">\n",
       "      <div>\n",
       "<style scoped>\n",
       "    .dataframe tbody tr th:only-of-type {\n",
       "        vertical-align: middle;\n",
       "    }\n",
       "\n",
       "    .dataframe tbody tr th {\n",
       "        vertical-align: top;\n",
       "    }\n",
       "\n",
       "    .dataframe thead th {\n",
       "        text-align: right;\n",
       "    }\n",
       "</style>\n",
       "<table border=\"1\" class=\"dataframe\">\n",
       "  <thead>\n",
       "    <tr style=\"text-align: right;\">\n",
       "      <th></th>\n",
       "      <th>UNID</th>\n",
       "      <th>Time</th>\n",
       "      <th>MonDay</th>\n",
       "      <th>SBP</th>\n",
       "      <th>DBP</th>\n",
       "      <th>HR</th>\n",
       "    </tr>\n",
       "  </thead>\n",
       "  <tbody>\n",
       "    <tr>\n",
       "      <th>0</th>\n",
       "      <td>1907f4a6-b068-428d-a88e-38ca9df121f6</td>\n",
       "      <td>20MAR12:15:25:00</td>\n",
       "      <td>1</td>\n",
       "      <td>54</td>\n",
       "      <td>29</td>\n",
       "      <td>60</td>\n",
       "    </tr>\n",
       "    <tr>\n",
       "      <th>1</th>\n",
       "      <td>1907f4a6-b068-428d-a88e-38ca9df121f6</td>\n",
       "      <td>20MAR12:15:55:00</td>\n",
       "      <td>1</td>\n",
       "      <td>62</td>\n",
       "      <td>38</td>\n",
       "      <td>60</td>\n",
       "    </tr>\n",
       "    <tr>\n",
       "      <th>2</th>\n",
       "      <td>1907f4a6-b068-428d-a88e-38ca9df121f6</td>\n",
       "      <td>20MAR12:15:40:00</td>\n",
       "      <td>1</td>\n",
       "      <td>64</td>\n",
       "      <td>33</td>\n",
       "      <td>59</td>\n",
       "    </tr>\n",
       "    <tr>\n",
       "      <th>3</th>\n",
       "      <td>c27adf3f-9de5-4cb8-9861-6840c75e9f9b</td>\n",
       "      <td>16MAR12:21:43:00</td>\n",
       "      <td>1</td>\n",
       "      <td>67</td>\n",
       "      <td>49</td>\n",
       "      <td>68</td>\n",
       "    </tr>\n",
       "    <tr>\n",
       "      <th>4</th>\n",
       "      <td>1907f4a6-b068-428d-a88e-38ca9df121f6</td>\n",
       "      <td>20MAR12:16:10:00</td>\n",
       "      <td>1</td>\n",
       "      <td>68</td>\n",
       "      <td>44</td>\n",
       "      <td>60</td>\n",
       "    </tr>\n",
       "  </tbody>\n",
       "</table>\n",
       "</div>\n",
       "      <button class=\"colab-df-convert\" onclick=\"convertToInteractive('df-01d26a2b-d0a4-4ca0-9392-b49e3422a0d7')\"\n",
       "              title=\"Convert this dataframe to an interactive table.\"\n",
       "              style=\"display:none;\">\n",
       "        \n",
       "  <svg xmlns=\"http://www.w3.org/2000/svg\" height=\"24px\"viewBox=\"0 0 24 24\"\n",
       "       width=\"24px\">\n",
       "    <path d=\"M0 0h24v24H0V0z\" fill=\"none\"/>\n",
       "    <path d=\"M18.56 5.44l.94 2.06.94-2.06 2.06-.94-2.06-.94-.94-2.06-.94 2.06-2.06.94zm-11 1L8.5 8.5l.94-2.06 2.06-.94-2.06-.94L8.5 2.5l-.94 2.06-2.06.94zm10 10l.94 2.06.94-2.06 2.06-.94-2.06-.94-.94-2.06-.94 2.06-2.06.94z\"/><path d=\"M17.41 7.96l-1.37-1.37c-.4-.4-.92-.59-1.43-.59-.52 0-1.04.2-1.43.59L10.3 9.45l-7.72 7.72c-.78.78-.78 2.05 0 2.83L4 21.41c.39.39.9.59 1.41.59.51 0 1.02-.2 1.41-.59l7.78-7.78 2.81-2.81c.8-.78.8-2.07 0-2.86zM5.41 20L4 18.59l7.72-7.72 1.47 1.35L5.41 20z\"/>\n",
       "  </svg>\n",
       "      </button>\n",
       "      \n",
       "  <style>\n",
       "    .colab-df-container {\n",
       "      display:flex;\n",
       "      flex-wrap:wrap;\n",
       "      gap: 12px;\n",
       "    }\n",
       "\n",
       "    .colab-df-convert {\n",
       "      background-color: #E8F0FE;\n",
       "      border: none;\n",
       "      border-radius: 50%;\n",
       "      cursor: pointer;\n",
       "      display: none;\n",
       "      fill: #1967D2;\n",
       "      height: 32px;\n",
       "      padding: 0 0 0 0;\n",
       "      width: 32px;\n",
       "    }\n",
       "\n",
       "    .colab-df-convert:hover {\n",
       "      background-color: #E2EBFA;\n",
       "      box-shadow: 0px 1px 2px rgba(60, 64, 67, 0.3), 0px 1px 3px 1px rgba(60, 64, 67, 0.15);\n",
       "      fill: #174EA6;\n",
       "    }\n",
       "\n",
       "    [theme=dark] .colab-df-convert {\n",
       "      background-color: #3B4455;\n",
       "      fill: #D2E3FC;\n",
       "    }\n",
       "\n",
       "    [theme=dark] .colab-df-convert:hover {\n",
       "      background-color: #434B5C;\n",
       "      box-shadow: 0px 1px 3px 1px rgba(0, 0, 0, 0.15);\n",
       "      filter: drop-shadow(0px 1px 2px rgba(0, 0, 0, 0.3));\n",
       "      fill: #FFFFFF;\n",
       "    }\n",
       "  </style>\n",
       "\n",
       "      <script>\n",
       "        const buttonEl =\n",
       "          document.querySelector('#df-01d26a2b-d0a4-4ca0-9392-b49e3422a0d7 button.colab-df-convert');\n",
       "        buttonEl.style.display =\n",
       "          google.colab.kernel.accessAllowed ? 'block' : 'none';\n",
       "\n",
       "        async function convertToInteractive(key) {\n",
       "          const element = document.querySelector('#df-01d26a2b-d0a4-4ca0-9392-b49e3422a0d7');\n",
       "          const dataTable =\n",
       "            await google.colab.kernel.invokeFunction('convertToInteractive',\n",
       "                                                     [key], {});\n",
       "          if (!dataTable) return;\n",
       "\n",
       "          const docLinkHtml = 'Like what you see? Visit the ' +\n",
       "            '<a target=\"_blank\" href=https://colab.research.google.com/notebooks/data_table.ipynb>data table notebook</a>'\n",
       "            + ' to learn more about interactive tables.';\n",
       "          element.innerHTML = '';\n",
       "          dataTable['output_type'] = 'display_data';\n",
       "          await google.colab.output.renderOutput(dataTable, element);\n",
       "          const docLink = document.createElement('div');\n",
       "          docLink.innerHTML = docLinkHtml;\n",
       "          element.appendChild(docLink);\n",
       "        }\n",
       "      </script>\n",
       "    </div>\n",
       "  </div>\n",
       "  "
      ],
      "text/plain": [
       "                                   UNID              Time  MonDay  SBP  DBP  \\\n",
       "0  1907f4a6-b068-428d-a88e-38ca9df121f6  20MAR12:15:25:00       1   54   29   \n",
       "1  1907f4a6-b068-428d-a88e-38ca9df121f6  20MAR12:15:55:00       1   62   38   \n",
       "2  1907f4a6-b068-428d-a88e-38ca9df121f6  20MAR12:15:40:00       1   64   33   \n",
       "3  c27adf3f-9de5-4cb8-9861-6840c75e9f9b  16MAR12:21:43:00       1   67   49   \n",
       "4  1907f4a6-b068-428d-a88e-38ca9df121f6  20MAR12:16:10:00       1   68   44   \n",
       "\n",
       "   HR  \n",
       "0  60  \n",
       "1  60  \n",
       "2  59  \n",
       "3  68  \n",
       "4  60  "
      ]
     },
     "execution_count": 12,
     "metadata": {},
     "output_type": "execute_result"
    }
   ],
   "source": [
    "df_timedata.head()"
   ]
  },
  {
   "cell_type": "code",
   "execution_count": null,
   "metadata": {
    "colab": {
     "base_uri": "https://localhost:8080/"
    },
    "executionInfo": {
     "elapsed": 66,
     "status": "ok",
     "timestamp": 1649113239204,
     "user": {
      "displayName": "Riya Saha",
      "userId": "06182650084884906727"
     },
     "user_tz": -60
    },
    "id": "8Pd7d7Vk1trY",
    "outputId": "a53116b1-cc1b-4d84-dc26-f4aee6fe4a0b"
   },
   "outputs": [
    {
     "data": {
      "text/plain": [
       "283"
      ]
     },
     "execution_count": 13,
     "metadata": {},
     "output_type": "execute_result"
    }
   ],
   "source": [
    "list_unique_unid = df_timedata['UNID'].unique()\n",
    "len(list_unique_unid)"
   ]
  },
  {
   "cell_type": "code",
   "execution_count": null,
   "metadata": {
    "colab": {
     "base_uri": "https://localhost:8080/",
     "height": 299
    },
    "executionInfo": {
     "elapsed": 63,
     "status": "ok",
     "timestamp": 1649113239206,
     "user": {
      "displayName": "Riya Saha",
      "userId": "06182650084884906727"
     },
     "user_tz": -60
    },
    "id": "9RlWcPxGdKum",
    "outputId": "016f644e-eb86-4dd3-8c86-2b239b4737e2"
   },
   "outputs": [
    {
     "data": {
      "text/html": [
       "\n",
       "  <div id=\"df-766974ab-13c4-4499-98ec-52b7ad3aeb75\">\n",
       "    <div class=\"colab-df-container\">\n",
       "      <div>\n",
       "<style scoped>\n",
       "    .dataframe tbody tr th:only-of-type {\n",
       "        vertical-align: middle;\n",
       "    }\n",
       "\n",
       "    .dataframe tbody tr th {\n",
       "        vertical-align: top;\n",
       "    }\n",
       "\n",
       "    .dataframe thead th {\n",
       "        text-align: right;\n",
       "    }\n",
       "</style>\n",
       "<table border=\"1\" class=\"dataframe\">\n",
       "  <thead>\n",
       "    <tr style=\"text-align: right;\">\n",
       "      <th></th>\n",
       "      <th>num</th>\n",
       "      <th>Age__years_</th>\n",
       "      <th>Sex</th>\n",
       "      <th>Presence_of_coronary_artery_dise</th>\n",
       "      <th>Presence_of_cerebrovascula_disea</th>\n",
       "      <th>Presence_of_diabetes</th>\n",
       "      <th>Presence_of_dyslipidemia__hyperc</th>\n",
       "      <th>Smoking_behavior___current_smoki</th>\n",
       "      <th>Smoking_behavior__consumption__</th>\n",
       "      <th>Presence_of_hypertension__yes_no</th>\n",
       "      <th>...</th>\n",
       "      <th>nDBPnFix</th>\n",
       "      <th>nHRnFix</th>\n",
       "      <th>nSBPsdnFix</th>\n",
       "      <th>nMBPsdnFix</th>\n",
       "      <th>nDBPsdnFix</th>\n",
       "      <th>nHRsdnFix</th>\n",
       "      <th>ARV_SBP</th>\n",
       "      <th>ARV_DBP</th>\n",
       "      <th>ARV_HR</th>\n",
       "      <th>AASI</th>\n",
       "    </tr>\n",
       "  </thead>\n",
       "  <tbody>\n",
       "    <tr>\n",
       "      <th>0</th>\n",
       "      <td>1</td>\n",
       "      <td>42</td>\n",
       "      <td>M</td>\n",
       "      <td>no</td>\n",
       "      <td>no</td>\n",
       "      <td>no</td>\n",
       "      <td>no</td>\n",
       "      <td>yes</td>\n",
       "      <td>28</td>\n",
       "      <td>no</td>\n",
       "      <td>...</td>\n",
       "      <td>71.86667</td>\n",
       "      <td>99.30000</td>\n",
       "      <td>35.115380</td>\n",
       "      <td>25.355420</td>\n",
       "      <td>21.948370</td>\n",
       "      <td>21.681260</td>\n",
       "      <td>12.865390</td>\n",
       "      <td>10.173080</td>\n",
       "      <td>6.846154</td>\n",
       "      <td>0.370339</td>\n",
       "    </tr>\n",
       "    <tr>\n",
       "      <th>1</th>\n",
       "      <td>2</td>\n",
       "      <td>58</td>\n",
       "      <td>M</td>\n",
       "      <td>no</td>\n",
       "      <td>no</td>\n",
       "      <td>no</td>\n",
       "      <td>yes</td>\n",
       "      <td>no</td>\n",
       "      <td>16.25</td>\n",
       "      <td>yes</td>\n",
       "      <td>...</td>\n",
       "      <td>65.00000</td>\n",
       "      <td>54.75000</td>\n",
       "      <td>8.956460</td>\n",
       "      <td>8.295672</td>\n",
       "      <td>9.672830</td>\n",
       "      <td>4.390071</td>\n",
       "      <td>8.256757</td>\n",
       "      <td>6.148649</td>\n",
       "      <td>6.054054</td>\n",
       "      <td>0.406565</td>\n",
       "    </tr>\n",
       "    <tr>\n",
       "      <th>2</th>\n",
       "      <td>5</td>\n",
       "      <td>48</td>\n",
       "      <td>F</td>\n",
       "      <td>no</td>\n",
       "      <td>no</td>\n",
       "      <td>no</td>\n",
       "      <td>yes</td>\n",
       "      <td>yes</td>\n",
       "      <td>18</td>\n",
       "      <td>no</td>\n",
       "      <td>...</td>\n",
       "      <td>61.75000</td>\n",
       "      <td>69.08334</td>\n",
       "      <td>10.227710</td>\n",
       "      <td>7.246734</td>\n",
       "      <td>8.465169</td>\n",
       "      <td>7.153617</td>\n",
       "      <td>9.131147</td>\n",
       "      <td>7.131147</td>\n",
       "      <td>8.459017</td>\n",
       "      <td>0.427954</td>\n",
       "    </tr>\n",
       "    <tr>\n",
       "      <th>3</th>\n",
       "      <td>7</td>\n",
       "      <td>73</td>\n",
       "      <td>M</td>\n",
       "      <td>yes</td>\n",
       "      <td>no</td>\n",
       "      <td>no</td>\n",
       "      <td>yes</td>\n",
       "      <td>no</td>\n",
       "      <td>32</td>\n",
       "      <td>yes</td>\n",
       "      <td>...</td>\n",
       "      <td>68.83334</td>\n",
       "      <td>49.25000</td>\n",
       "      <td>8.233400</td>\n",
       "      <td>8.305955</td>\n",
       "      <td>10.049320</td>\n",
       "      <td>1.751190</td>\n",
       "      <td>10.222220</td>\n",
       "      <td>8.000000</td>\n",
       "      <td>2.666667</td>\n",
       "      <td>0.497447</td>\n",
       "    </tr>\n",
       "    <tr>\n",
       "      <th>4</th>\n",
       "      <td>8</td>\n",
       "      <td>51</td>\n",
       "      <td>M</td>\n",
       "      <td>no</td>\n",
       "      <td>no</td>\n",
       "      <td>yes</td>\n",
       "      <td>no</td>\n",
       "      <td>no</td>\n",
       "      <td>0</td>\n",
       "      <td>yes</td>\n",
       "      <td>...</td>\n",
       "      <td>66.41666</td>\n",
       "      <td>76.08334</td>\n",
       "      <td>7.577878</td>\n",
       "      <td>5.736645</td>\n",
       "      <td>4.601548</td>\n",
       "      <td>5.247654</td>\n",
       "      <td>10.250000</td>\n",
       "      <td>6.776316</td>\n",
       "      <td>5.552631</td>\n",
       "      <td>0.649434</td>\n",
       "    </tr>\n",
       "  </tbody>\n",
       "</table>\n",
       "<p>5 rows × 87 columns</p>\n",
       "</div>\n",
       "      <button class=\"colab-df-convert\" onclick=\"convertToInteractive('df-766974ab-13c4-4499-98ec-52b7ad3aeb75')\"\n",
       "              title=\"Convert this dataframe to an interactive table.\"\n",
       "              style=\"display:none;\">\n",
       "        \n",
       "  <svg xmlns=\"http://www.w3.org/2000/svg\" height=\"24px\"viewBox=\"0 0 24 24\"\n",
       "       width=\"24px\">\n",
       "    <path d=\"M0 0h24v24H0V0z\" fill=\"none\"/>\n",
       "    <path d=\"M18.56 5.44l.94 2.06.94-2.06 2.06-.94-2.06-.94-.94-2.06-.94 2.06-2.06.94zm-11 1L8.5 8.5l.94-2.06 2.06-.94-2.06-.94L8.5 2.5l-.94 2.06-2.06.94zm10 10l.94 2.06.94-2.06 2.06-.94-2.06-.94-.94-2.06-.94 2.06-2.06.94z\"/><path d=\"M17.41 7.96l-1.37-1.37c-.4-.4-.92-.59-1.43-.59-.52 0-1.04.2-1.43.59L10.3 9.45l-7.72 7.72c-.78.78-.78 2.05 0 2.83L4 21.41c.39.39.9.59 1.41.59.51 0 1.02-.2 1.41-.59l7.78-7.78 2.81-2.81c.8-.78.8-2.07 0-2.86zM5.41 20L4 18.59l7.72-7.72 1.47 1.35L5.41 20z\"/>\n",
       "  </svg>\n",
       "      </button>\n",
       "      \n",
       "  <style>\n",
       "    .colab-df-container {\n",
       "      display:flex;\n",
       "      flex-wrap:wrap;\n",
       "      gap: 12px;\n",
       "    }\n",
       "\n",
       "    .colab-df-convert {\n",
       "      background-color: #E8F0FE;\n",
       "      border: none;\n",
       "      border-radius: 50%;\n",
       "      cursor: pointer;\n",
       "      display: none;\n",
       "      fill: #1967D2;\n",
       "      height: 32px;\n",
       "      padding: 0 0 0 0;\n",
       "      width: 32px;\n",
       "    }\n",
       "\n",
       "    .colab-df-convert:hover {\n",
       "      background-color: #E2EBFA;\n",
       "      box-shadow: 0px 1px 2px rgba(60, 64, 67, 0.3), 0px 1px 3px 1px rgba(60, 64, 67, 0.15);\n",
       "      fill: #174EA6;\n",
       "    }\n",
       "\n",
       "    [theme=dark] .colab-df-convert {\n",
       "      background-color: #3B4455;\n",
       "      fill: #D2E3FC;\n",
       "    }\n",
       "\n",
       "    [theme=dark] .colab-df-convert:hover {\n",
       "      background-color: #434B5C;\n",
       "      box-shadow: 0px 1px 3px 1px rgba(0, 0, 0, 0.15);\n",
       "      filter: drop-shadow(0px 1px 2px rgba(0, 0, 0, 0.3));\n",
       "      fill: #FFFFFF;\n",
       "    }\n",
       "  </style>\n",
       "\n",
       "      <script>\n",
       "        const buttonEl =\n",
       "          document.querySelector('#df-766974ab-13c4-4499-98ec-52b7ad3aeb75 button.colab-df-convert');\n",
       "        buttonEl.style.display =\n",
       "          google.colab.kernel.accessAllowed ? 'block' : 'none';\n",
       "\n",
       "        async function convertToInteractive(key) {\n",
       "          const element = document.querySelector('#df-766974ab-13c4-4499-98ec-52b7ad3aeb75');\n",
       "          const dataTable =\n",
       "            await google.colab.kernel.invokeFunction('convertToInteractive',\n",
       "                                                     [key], {});\n",
       "          if (!dataTable) return;\n",
       "\n",
       "          const docLinkHtml = 'Like what you see? Visit the ' +\n",
       "            '<a target=\"_blank\" href=https://colab.research.google.com/notebooks/data_table.ipynb>data table notebook</a>'\n",
       "            + ' to learn more about interactive tables.';\n",
       "          element.innerHTML = '';\n",
       "          dataTable['output_type'] = 'display_data';\n",
       "          await google.colab.output.renderOutput(dataTable, element);\n",
       "          const docLink = document.createElement('div');\n",
       "          docLink.innerHTML = docLinkHtml;\n",
       "          element.appendChild(docLink);\n",
       "        }\n",
       "      </script>\n",
       "    </div>\n",
       "  </div>\n",
       "  "
      ],
      "text/plain": [
       "   num  Age__years_ Sex Presence_of_coronary_artery_dise  \\\n",
       "0    1           42   M                               no   \n",
       "1    2           58   M                               no   \n",
       "2    5           48   F                               no   \n",
       "3    7           73   M                              yes   \n",
       "4    8           51   M                               no   \n",
       "\n",
       "  Presence_of_cerebrovascula_disea Presence_of_diabetes  \\\n",
       "0                               no                   no   \n",
       "1                               no                   no   \n",
       "2                               no                   no   \n",
       "3                               no                   no   \n",
       "4                               no                  yes   \n",
       "\n",
       "  Presence_of_dyslipidemia__hyperc Smoking_behavior___current_smoki  \\\n",
       "0                               no                              yes   \n",
       "1                              yes                               no   \n",
       "2                              yes                              yes   \n",
       "3                              yes                               no   \n",
       "4                               no                               no   \n",
       "\n",
       "  Smoking_behavior__consumption__ Presence_of_hypertension__yes_no  ...  \\\n",
       "0                              28                               no  ...   \n",
       "1                           16.25                              yes  ...   \n",
       "2                              18                               no  ...   \n",
       "3                              32                              yes  ...   \n",
       "4                               0                              yes  ...   \n",
       "\n",
       "   nDBPnFix   nHRnFix  nSBPsdnFix  nMBPsdnFix  nDBPsdnFix  nHRsdnFix  \\\n",
       "0  71.86667  99.30000   35.115380   25.355420   21.948370  21.681260   \n",
       "1  65.00000  54.75000    8.956460    8.295672    9.672830   4.390071   \n",
       "2  61.75000  69.08334   10.227710    7.246734    8.465169   7.153617   \n",
       "3  68.83334  49.25000    8.233400    8.305955   10.049320   1.751190   \n",
       "4  66.41666  76.08334    7.577878    5.736645    4.601548   5.247654   \n",
       "\n",
       "     ARV_SBP    ARV_DBP    ARV_HR      AASI  \n",
       "0  12.865390  10.173080  6.846154  0.370339  \n",
       "1   8.256757   6.148649  6.054054  0.406565  \n",
       "2   9.131147   7.131147  8.459017  0.427954  \n",
       "3  10.222220   8.000000  2.666667  0.497447  \n",
       "4  10.250000   6.776316  5.552631  0.649434  \n",
       "\n",
       "[5 rows x 87 columns]"
      ]
     },
     "execution_count": 14,
     "metadata": {},
     "output_type": "execute_result"
    }
   ],
   "source": [
    "df_patientfiles.rename(columns={\"UnID\": \"UNID\",\"VAR3\":\"Sex\",\"VAR6\":\"Presence_of_diabetes\",\"VAR15\":\"BMI\",\"VAR41\":\"Clinic_seated_sbp\",\"VAR42\":\"Clinic_seated_dbp\",\"VAR45\":\"AHI_tot\",\"VAR46\":\"Mean_nocturnal_satO2\",\"VAR47\":\"Min_nocturnal_satO2\",\"VAR49\":\"PWV\",\"VAR50\":\"Delay_time_car_fem\",\"VAR51\":\"Car_fem_distance\",\"VAR52\":\"Creatinine\",\"VAR53\":\"Glucose\",\"VAR54\":\"Total_cholesterol\",\"VAR55\":\"Triglycerides\",\"VAR56\":\"HDL\",\"VAR57\":\"LDL\"}, inplace=True)\n",
    "\n",
    "df_patientfiles.head()\n"
   ]
  },
  {
   "cell_type": "code",
   "execution_count": null,
   "metadata": {
    "id": "3sdNxtJTdqx4"
   },
   "outputs": [],
   "source": [
    "list_unique_unid_2 = df_patientfiles['UNID'].unique()"
   ]
  },
  {
   "cell_type": "code",
   "execution_count": null,
   "metadata": {
    "colab": {
     "base_uri": "https://localhost:8080/"
    },
    "executionInfo": {
     "elapsed": 63,
     "status": "ok",
     "timestamp": 1649113239208,
     "user": {
      "displayName": "Riya Saha",
      "userId": "06182650084884906727"
     },
     "user_tz": -60
    },
    "id": "f8UGiWg4d5vW",
    "outputId": "9411b194-9c70-4588-f9ae-dbb60c33ccb8"
   },
   "outputs": [
    {
     "data": {
      "text/plain": [
       "283"
      ]
     },
     "execution_count": 16,
     "metadata": {},
     "output_type": "execute_result"
    }
   ],
   "source": [
    "len(list_unique_unid_2)"
   ]
  },
  {
   "cell_type": "code",
   "execution_count": null,
   "metadata": {
    "id": "qfSocLzjd8DG"
   },
   "outputs": [],
   "source": [
    "list_unique_unid_3 = df_patientfiles['AHI_tot'].unique()"
   ]
  },
  {
   "cell_type": "code",
   "execution_count": null,
   "metadata": {
    "colab": {
     "base_uri": "https://localhost:8080/"
    },
    "executionInfo": {
     "elapsed": 60,
     "status": "ok",
     "timestamp": 1649113239209,
     "user": {
      "displayName": "Riya Saha",
      "userId": "06182650084884906727"
     },
     "user_tz": -60
    },
    "id": "MhwIovcLfMe7",
    "outputId": "702394dc-2a81-45e6-a55a-6a105a3b2ea5"
   },
   "outputs": [
    {
     "data": {
      "text/plain": [
       "227"
      ]
     },
     "execution_count": 18,
     "metadata": {},
     "output_type": "execute_result"
    }
   ],
   "source": [
    "len(list_unique_unid_3)"
   ]
  },
  {
   "cell_type": "code",
   "execution_count": null,
   "metadata": {
    "id": "3UdvAgd0fUct"
   },
   "outputs": [],
   "source": [
    "#Classify the OSA severity of patients by the aHI values:\n",
    "#<5=normal, 5<x<15 mild, 15<x<30 moderate, >30 severe.\n",
    "\n",
    "#Create the OSA Severity column with just a random value.\n",
    "df_patientfiles['OSA_Severity']='N'\n",
    "\n",
    "#Then replace the N with the number representing the severity of OSA value\n",
    "\n",
    "#(Normal=1, Mild=2, Moderate=3, Severe=4)\n",
    "\n",
    "for i in range(0,len(df_patientfiles)):\n",
    "    if df_patientfiles.loc[i,'AHI_tot']<=5:\n",
    "        df_patientfiles.loc[i,'OSA_Severity']='1'\n",
    "    elif df_patientfiles.loc[i,'AHI_tot']<=15:\n",
    "        df_patientfiles.loc[i,'OSA_Severity']='2'\n",
    "    elif df_patientfiles.loc[i,'AHI_tot']<=30:\n",
    "        df_patientfiles.loc[i,'OSA_Severity']='3'\n",
    "    elif df_patientfiles.loc[i,'AHI_tot']>30:\n",
    "        df_patientfiles.loc[i,'OSA_Severity']='4'\n",
    "#print(df_patientfiles)"
   ]
  },
  {
   "cell_type": "code",
   "execution_count": null,
   "metadata": {
    "colab": {
     "base_uri": "https://localhost:8080/"
    },
    "executionInfo": {
     "elapsed": 57,
     "status": "ok",
     "timestamp": 1649113239210,
     "user": {
      "displayName": "Riya Saha",
      "userId": "06182650084884906727"
     },
     "user_tz": -60
    },
    "id": "pwE3J2kFhI6p",
    "outputId": "8f0d9bad-3f4a-4af0-cbce-ce42794616f0"
   },
   "outputs": [
    {
     "data": {
      "text/plain": [
       "array(['4', '3', '2'], dtype=object)"
      ]
     },
     "execution_count": 20,
     "metadata": {},
     "output_type": "execute_result"
    }
   ],
   "source": [
    "list_unique_unid_4 = df_patientfiles['OSA_Severity'].unique()\n",
    "\n",
    "list_unique_unid_4\n"
   ]
  },
  {
   "cell_type": "code",
   "execution_count": null,
   "metadata": {
    "colab": {
     "base_uri": "https://localhost:8080/"
    },
    "executionInfo": {
     "elapsed": 39,
     "status": "ok",
     "timestamp": 1649113239624,
     "user": {
      "displayName": "Riya Saha",
      "userId": "06182650084884906727"
     },
     "user_tz": -60
    },
    "id": "4IuDM55AiJc-",
    "outputId": "71079e3b-c866-4721-dc8a-38d8788a3cd5"
   },
   "outputs": [
    {
     "data": {
      "text/plain": [
       "4    193\n",
       "3     83\n",
       "2      7\n",
       "Name: OSA_Severity, dtype: int64"
      ]
     },
     "execution_count": 21,
     "metadata": {},
     "output_type": "execute_result"
    }
   ],
   "source": [
    "df_patientfiles['OSA_Severity'].value_counts()"
   ]
  },
  {
   "cell_type": "code",
   "execution_count": null,
   "metadata": {
    "id": "jbSN5djLiSwd"
   },
   "outputs": [],
   "source": [
    "df_patient_2 = df_patientfiles[['UNID', 'OSA_Severity']]"
   ]
  },
  {
   "cell_type": "code",
   "execution_count": null,
   "metadata": {
    "colab": {
     "base_uri": "https://localhost:8080/",
     "height": 206
    },
    "executionInfo": {
     "elapsed": 37,
     "status": "ok",
     "timestamp": 1649113239625,
     "user": {
      "displayName": "Riya Saha",
      "userId": "06182650084884906727"
     },
     "user_tz": -60
    },
    "id": "jEk7tnvyjVzS",
    "outputId": "6e57f90e-1693-4158-9aff-17e9a3155fe1"
   },
   "outputs": [
    {
     "data": {
      "text/html": [
       "\n",
       "  <div id=\"df-2b4857a1-b38f-4cd9-b09c-6f30c4d7f075\">\n",
       "    <div class=\"colab-df-container\">\n",
       "      <div>\n",
       "<style scoped>\n",
       "    .dataframe tbody tr th:only-of-type {\n",
       "        vertical-align: middle;\n",
       "    }\n",
       "\n",
       "    .dataframe tbody tr th {\n",
       "        vertical-align: top;\n",
       "    }\n",
       "\n",
       "    .dataframe thead th {\n",
       "        text-align: right;\n",
       "    }\n",
       "</style>\n",
       "<table border=\"1\" class=\"dataframe\">\n",
       "  <thead>\n",
       "    <tr style=\"text-align: right;\">\n",
       "      <th></th>\n",
       "      <th>UNID</th>\n",
       "      <th>OSA_Severity</th>\n",
       "    </tr>\n",
       "  </thead>\n",
       "  <tbody>\n",
       "    <tr>\n",
       "      <th>0</th>\n",
       "      <td>d1e81ac5-d7f3-4e83-aa02-6b36f517fc60</td>\n",
       "      <td>4</td>\n",
       "    </tr>\n",
       "    <tr>\n",
       "      <th>1</th>\n",
       "      <td>100b6949-5b84-47c8-b8f5-cc24db323288</td>\n",
       "      <td>4</td>\n",
       "    </tr>\n",
       "    <tr>\n",
       "      <th>2</th>\n",
       "      <td>fc7f9de0-f972-438f-8c04-e47fee2b4d7e</td>\n",
       "      <td>3</td>\n",
       "    </tr>\n",
       "    <tr>\n",
       "      <th>3</th>\n",
       "      <td>a758b176-096d-4b6b-a2ff-29c572b56db9</td>\n",
       "      <td>4</td>\n",
       "    </tr>\n",
       "    <tr>\n",
       "      <th>4</th>\n",
       "      <td>d012f10b-5add-49ac-b2bf-dd6e94567d01</td>\n",
       "      <td>4</td>\n",
       "    </tr>\n",
       "  </tbody>\n",
       "</table>\n",
       "</div>\n",
       "      <button class=\"colab-df-convert\" onclick=\"convertToInteractive('df-2b4857a1-b38f-4cd9-b09c-6f30c4d7f075')\"\n",
       "              title=\"Convert this dataframe to an interactive table.\"\n",
       "              style=\"display:none;\">\n",
       "        \n",
       "  <svg xmlns=\"http://www.w3.org/2000/svg\" height=\"24px\"viewBox=\"0 0 24 24\"\n",
       "       width=\"24px\">\n",
       "    <path d=\"M0 0h24v24H0V0z\" fill=\"none\"/>\n",
       "    <path d=\"M18.56 5.44l.94 2.06.94-2.06 2.06-.94-2.06-.94-.94-2.06-.94 2.06-2.06.94zm-11 1L8.5 8.5l.94-2.06 2.06-.94-2.06-.94L8.5 2.5l-.94 2.06-2.06.94zm10 10l.94 2.06.94-2.06 2.06-.94-2.06-.94-.94-2.06-.94 2.06-2.06.94z\"/><path d=\"M17.41 7.96l-1.37-1.37c-.4-.4-.92-.59-1.43-.59-.52 0-1.04.2-1.43.59L10.3 9.45l-7.72 7.72c-.78.78-.78 2.05 0 2.83L4 21.41c.39.39.9.59 1.41.59.51 0 1.02-.2 1.41-.59l7.78-7.78 2.81-2.81c.8-.78.8-2.07 0-2.86zM5.41 20L4 18.59l7.72-7.72 1.47 1.35L5.41 20z\"/>\n",
       "  </svg>\n",
       "      </button>\n",
       "      \n",
       "  <style>\n",
       "    .colab-df-container {\n",
       "      display:flex;\n",
       "      flex-wrap:wrap;\n",
       "      gap: 12px;\n",
       "    }\n",
       "\n",
       "    .colab-df-convert {\n",
       "      background-color: #E8F0FE;\n",
       "      border: none;\n",
       "      border-radius: 50%;\n",
       "      cursor: pointer;\n",
       "      display: none;\n",
       "      fill: #1967D2;\n",
       "      height: 32px;\n",
       "      padding: 0 0 0 0;\n",
       "      width: 32px;\n",
       "    }\n",
       "\n",
       "    .colab-df-convert:hover {\n",
       "      background-color: #E2EBFA;\n",
       "      box-shadow: 0px 1px 2px rgba(60, 64, 67, 0.3), 0px 1px 3px 1px rgba(60, 64, 67, 0.15);\n",
       "      fill: #174EA6;\n",
       "    }\n",
       "\n",
       "    [theme=dark] .colab-df-convert {\n",
       "      background-color: #3B4455;\n",
       "      fill: #D2E3FC;\n",
       "    }\n",
       "\n",
       "    [theme=dark] .colab-df-convert:hover {\n",
       "      background-color: #434B5C;\n",
       "      box-shadow: 0px 1px 3px 1px rgba(0, 0, 0, 0.15);\n",
       "      filter: drop-shadow(0px 1px 2px rgba(0, 0, 0, 0.3));\n",
       "      fill: #FFFFFF;\n",
       "    }\n",
       "  </style>\n",
       "\n",
       "      <script>\n",
       "        const buttonEl =\n",
       "          document.querySelector('#df-2b4857a1-b38f-4cd9-b09c-6f30c4d7f075 button.colab-df-convert');\n",
       "        buttonEl.style.display =\n",
       "          google.colab.kernel.accessAllowed ? 'block' : 'none';\n",
       "\n",
       "        async function convertToInteractive(key) {\n",
       "          const element = document.querySelector('#df-2b4857a1-b38f-4cd9-b09c-6f30c4d7f075');\n",
       "          const dataTable =\n",
       "            await google.colab.kernel.invokeFunction('convertToInteractive',\n",
       "                                                     [key], {});\n",
       "          if (!dataTable) return;\n",
       "\n",
       "          const docLinkHtml = 'Like what you see? Visit the ' +\n",
       "            '<a target=\"_blank\" href=https://colab.research.google.com/notebooks/data_table.ipynb>data table notebook</a>'\n",
       "            + ' to learn more about interactive tables.';\n",
       "          element.innerHTML = '';\n",
       "          dataTable['output_type'] = 'display_data';\n",
       "          await google.colab.output.renderOutput(dataTable, element);\n",
       "          const docLink = document.createElement('div');\n",
       "          docLink.innerHTML = docLinkHtml;\n",
       "          element.appendChild(docLink);\n",
       "        }\n",
       "      </script>\n",
       "    </div>\n",
       "  </div>\n",
       "  "
      ],
      "text/plain": [
       "                                   UNID OSA_Severity\n",
       "0  d1e81ac5-d7f3-4e83-aa02-6b36f517fc60            4\n",
       "1  100b6949-5b84-47c8-b8f5-cc24db323288            4\n",
       "2  fc7f9de0-f972-438f-8c04-e47fee2b4d7e            3\n",
       "3  a758b176-096d-4b6b-a2ff-29c572b56db9            4\n",
       "4  d012f10b-5add-49ac-b2bf-dd6e94567d01            4"
      ]
     },
     "execution_count": 23,
     "metadata": {},
     "output_type": "execute_result"
    }
   ],
   "source": [
    "df_patient_2.head()"
   ]
  },
  {
   "cell_type": "code",
   "execution_count": null,
   "metadata": {
    "colab": {
     "base_uri": "https://localhost:8080/"
    },
    "executionInfo": {
     "elapsed": 37,
     "status": "ok",
     "timestamp": 1649113239626,
     "user": {
      "displayName": "Riya Saha",
      "userId": "06182650084884906727"
     },
     "user_tz": -60
    },
    "id": "P1IjiOY1SQgo",
    "outputId": "4811bcd6-7920-4648-af5a-e965fd6efda7"
   },
   "outputs": [
    {
     "data": {
      "text/plain": [
       "4    193\n",
       "3     83\n",
       "2      7\n",
       "Name: OSA_Severity, dtype: int64"
      ]
     },
     "execution_count": 24,
     "metadata": {},
     "output_type": "execute_result"
    }
   ],
   "source": [
    "df_patient_2['OSA_Severity'].value_counts()"
   ]
  },
  {
   "cell_type": "code",
   "execution_count": null,
   "metadata": {
    "id": "GqdlX1Uejgdj"
   },
   "outputs": [],
   "source": [
    "df_new_merge = df_timedata.merge(df_patient_2, how='inner', on='UNID')"
   ]
  },
  {
   "cell_type": "code",
   "execution_count": null,
   "metadata": {
    "colab": {
     "base_uri": "https://localhost:8080/"
    },
    "executionInfo": {
     "elapsed": 34,
     "status": "ok",
     "timestamp": 1649113239628,
     "user": {
      "displayName": "Riya Saha",
      "userId": "06182650084884906727"
     },
     "user_tz": -60
    },
    "id": "E4mim6XS_qH0",
    "outputId": "7c607a3f-cd1a-448c-b4be-717aafacaa6e"
   },
   "outputs": [
    {
     "data": {
      "text/plain": [
       "2    331\n",
       "1    210\n",
       "Name: MonDay, dtype: int64"
      ]
     },
     "execution_count": 26,
     "metadata": {},
     "output_type": "execute_result"
    }
   ],
   "source": [
    "df_patient_mild = df_new_merge[df_new_merge[\"OSA_Severity\"]=='2']\n",
    "df_patient_mild = df_patient_mild[df_patient_mild[\"MonDay\"].isin([1,2,3,4])]\n",
    "df_patient_mild['MonDay'].value_counts()"
   ]
  },
  {
   "cell_type": "code",
   "execution_count": null,
   "metadata": {
    "colab": {
     "base_uri": "https://localhost:8080/",
     "height": 423
    },
    "executionInfo": {
     "elapsed": 20,
     "status": "ok",
     "timestamp": 1649113239629,
     "user": {
      "displayName": "Riya Saha",
      "userId": "06182650084884906727"
     },
     "user_tz": -60
    },
    "id": "kU0VE9MrEBpM",
    "outputId": "a43a0f96-97a1-4c71-bb44-9f2d558849e1"
   },
   "outputs": [
    {
     "data": {
      "text/html": [
       "\n",
       "  <div id=\"df-2e268b35-2a22-48d0-ab86-433351480713\">\n",
       "    <div class=\"colab-df-container\">\n",
       "      <div>\n",
       "<style scoped>\n",
       "    .dataframe tbody tr th:only-of-type {\n",
       "        vertical-align: middle;\n",
       "    }\n",
       "\n",
       "    .dataframe tbody tr th {\n",
       "        vertical-align: top;\n",
       "    }\n",
       "\n",
       "    .dataframe thead th {\n",
       "        text-align: right;\n",
       "    }\n",
       "</style>\n",
       "<table border=\"1\" class=\"dataframe\">\n",
       "  <thead>\n",
       "    <tr style=\"text-align: right;\">\n",
       "      <th></th>\n",
       "      <th>UNID</th>\n",
       "      <th>SBP</th>\n",
       "      <th>DBP</th>\n",
       "      <th>HR</th>\n",
       "      <th>OSA_Severity</th>\n",
       "      <th>Timestamp</th>\n",
       "    </tr>\n",
       "  </thead>\n",
       "  <tbody>\n",
       "    <tr>\n",
       "      <th>824</th>\n",
       "      <td>4080ad0e-b212-44ab-a25e-86a773f89413</td>\n",
       "      <td>74</td>\n",
       "      <td>41</td>\n",
       "      <td>87</td>\n",
       "      <td>2</td>\n",
       "      <td>Jan 2 2011 02:34:00</td>\n",
       "    </tr>\n",
       "    <tr>\n",
       "      <th>825</th>\n",
       "      <td>4080ad0e-b212-44ab-a25e-86a773f89413</td>\n",
       "      <td>79</td>\n",
       "      <td>37</td>\n",
       "      <td>82</td>\n",
       "      <td>2</td>\n",
       "      <td>Jan 2 2011 04:04:00</td>\n",
       "    </tr>\n",
       "    <tr>\n",
       "      <th>826</th>\n",
       "      <td>4080ad0e-b212-44ab-a25e-86a773f89413</td>\n",
       "      <td>82</td>\n",
       "      <td>62</td>\n",
       "      <td>101</td>\n",
       "      <td>2</td>\n",
       "      <td>Jan 1 2011 12:49:00</td>\n",
       "    </tr>\n",
       "    <tr>\n",
       "      <th>827</th>\n",
       "      <td>4080ad0e-b212-44ab-a25e-86a773f89413</td>\n",
       "      <td>82</td>\n",
       "      <td>43</td>\n",
       "      <td>88</td>\n",
       "      <td>2</td>\n",
       "      <td>Jan 2 2011 03:04:00</td>\n",
       "    </tr>\n",
       "    <tr>\n",
       "      <th>828</th>\n",
       "      <td>4080ad0e-b212-44ab-a25e-86a773f89413</td>\n",
       "      <td>86</td>\n",
       "      <td>53</td>\n",
       "      <td>82</td>\n",
       "      <td>2</td>\n",
       "      <td>Jan 2 2011 04:34:00</td>\n",
       "    </tr>\n",
       "    <tr>\n",
       "      <th>...</th>\n",
       "      <td>...</td>\n",
       "      <td>...</td>\n",
       "      <td>...</td>\n",
       "      <td>...</td>\n",
       "      <td>...</td>\n",
       "      <td>...</td>\n",
       "    </tr>\n",
       "    <tr>\n",
       "      <th>21269</th>\n",
       "      <td>4c51bb1b-8f85-4a20-8c54-a9ec0cab2fc2</td>\n",
       "      <td>175</td>\n",
       "      <td>68</td>\n",
       "      <td>86</td>\n",
       "      <td>2</td>\n",
       "      <td>Jan 1 2011 15:50:00</td>\n",
       "    </tr>\n",
       "    <tr>\n",
       "      <th>21270</th>\n",
       "      <td>4c51bb1b-8f85-4a20-8c54-a9ec0cab2fc2</td>\n",
       "      <td>176</td>\n",
       "      <td>75</td>\n",
       "      <td>84</td>\n",
       "      <td>2</td>\n",
       "      <td>Jan 2 2011 14:50:00</td>\n",
       "    </tr>\n",
       "    <tr>\n",
       "      <th>21271</th>\n",
       "      <td>4c51bb1b-8f85-4a20-8c54-a9ec0cab2fc2</td>\n",
       "      <td>177</td>\n",
       "      <td>81</td>\n",
       "      <td>90</td>\n",
       "      <td>2</td>\n",
       "      <td>Jan 1 2011 15:05:00</td>\n",
       "    </tr>\n",
       "    <tr>\n",
       "      <th>21272</th>\n",
       "      <td>4c51bb1b-8f85-4a20-8c54-a9ec0cab2fc2</td>\n",
       "      <td>180</td>\n",
       "      <td>79</td>\n",
       "      <td>84</td>\n",
       "      <td>2</td>\n",
       "      <td>Jan 1 2011 17:35:00</td>\n",
       "    </tr>\n",
       "    <tr>\n",
       "      <th>21273</th>\n",
       "      <td>4c51bb1b-8f85-4a20-8c54-a9ec0cab2fc2</td>\n",
       "      <td>180</td>\n",
       "      <td>73</td>\n",
       "      <td>87</td>\n",
       "      <td>2</td>\n",
       "      <td>Jan 1 2011 22:35:00</td>\n",
       "    </tr>\n",
       "  </tbody>\n",
       "</table>\n",
       "<p>541 rows × 6 columns</p>\n",
       "</div>\n",
       "      <button class=\"colab-df-convert\" onclick=\"convertToInteractive('df-2e268b35-2a22-48d0-ab86-433351480713')\"\n",
       "              title=\"Convert this dataframe to an interactive table.\"\n",
       "              style=\"display:none;\">\n",
       "        \n",
       "  <svg xmlns=\"http://www.w3.org/2000/svg\" height=\"24px\"viewBox=\"0 0 24 24\"\n",
       "       width=\"24px\">\n",
       "    <path d=\"M0 0h24v24H0V0z\" fill=\"none\"/>\n",
       "    <path d=\"M18.56 5.44l.94 2.06.94-2.06 2.06-.94-2.06-.94-.94-2.06-.94 2.06-2.06.94zm-11 1L8.5 8.5l.94-2.06 2.06-.94-2.06-.94L8.5 2.5l-.94 2.06-2.06.94zm10 10l.94 2.06.94-2.06 2.06-.94-2.06-.94-.94-2.06-.94 2.06-2.06.94z\"/><path d=\"M17.41 7.96l-1.37-1.37c-.4-.4-.92-.59-1.43-.59-.52 0-1.04.2-1.43.59L10.3 9.45l-7.72 7.72c-.78.78-.78 2.05 0 2.83L4 21.41c.39.39.9.59 1.41.59.51 0 1.02-.2 1.41-.59l7.78-7.78 2.81-2.81c.8-.78.8-2.07 0-2.86zM5.41 20L4 18.59l7.72-7.72 1.47 1.35L5.41 20z\"/>\n",
       "  </svg>\n",
       "      </button>\n",
       "      \n",
       "  <style>\n",
       "    .colab-df-container {\n",
       "      display:flex;\n",
       "      flex-wrap:wrap;\n",
       "      gap: 12px;\n",
       "    }\n",
       "\n",
       "    .colab-df-convert {\n",
       "      background-color: #E8F0FE;\n",
       "      border: none;\n",
       "      border-radius: 50%;\n",
       "      cursor: pointer;\n",
       "      display: none;\n",
       "      fill: #1967D2;\n",
       "      height: 32px;\n",
       "      padding: 0 0 0 0;\n",
       "      width: 32px;\n",
       "    }\n",
       "\n",
       "    .colab-df-convert:hover {\n",
       "      background-color: #E2EBFA;\n",
       "      box-shadow: 0px 1px 2px rgba(60, 64, 67, 0.3), 0px 1px 3px 1px rgba(60, 64, 67, 0.15);\n",
       "      fill: #174EA6;\n",
       "    }\n",
       "\n",
       "    [theme=dark] .colab-df-convert {\n",
       "      background-color: #3B4455;\n",
       "      fill: #D2E3FC;\n",
       "    }\n",
       "\n",
       "    [theme=dark] .colab-df-convert:hover {\n",
       "      background-color: #434B5C;\n",
       "      box-shadow: 0px 1px 3px 1px rgba(0, 0, 0, 0.15);\n",
       "      filter: drop-shadow(0px 1px 2px rgba(0, 0, 0, 0.3));\n",
       "      fill: #FFFFFF;\n",
       "    }\n",
       "  </style>\n",
       "\n",
       "      <script>\n",
       "        const buttonEl =\n",
       "          document.querySelector('#df-2e268b35-2a22-48d0-ab86-433351480713 button.colab-df-convert');\n",
       "        buttonEl.style.display =\n",
       "          google.colab.kernel.accessAllowed ? 'block' : 'none';\n",
       "\n",
       "        async function convertToInteractive(key) {\n",
       "          const element = document.querySelector('#df-2e268b35-2a22-48d0-ab86-433351480713');\n",
       "          const dataTable =\n",
       "            await google.colab.kernel.invokeFunction('convertToInteractive',\n",
       "                                                     [key], {});\n",
       "          if (!dataTable) return;\n",
       "\n",
       "          const docLinkHtml = 'Like what you see? Visit the ' +\n",
       "            '<a target=\"_blank\" href=https://colab.research.google.com/notebooks/data_table.ipynb>data table notebook</a>'\n",
       "            + ' to learn more about interactive tables.';\n",
       "          element.innerHTML = '';\n",
       "          dataTable['output_type'] = 'display_data';\n",
       "          await google.colab.output.renderOutput(dataTable, element);\n",
       "          const docLink = document.createElement('div');\n",
       "          docLink.innerHTML = docLinkHtml;\n",
       "          element.appendChild(docLink);\n",
       "        }\n",
       "      </script>\n",
       "    </div>\n",
       "  </div>\n",
       "  "
      ],
      "text/plain": [
       "                                       UNID  SBP  DBP   HR OSA_Severity  \\\n",
       "824    4080ad0e-b212-44ab-a25e-86a773f89413   74   41   87            2   \n",
       "825    4080ad0e-b212-44ab-a25e-86a773f89413   79   37   82            2   \n",
       "826    4080ad0e-b212-44ab-a25e-86a773f89413   82   62  101            2   \n",
       "827    4080ad0e-b212-44ab-a25e-86a773f89413   82   43   88            2   \n",
       "828    4080ad0e-b212-44ab-a25e-86a773f89413   86   53   82            2   \n",
       "...                                     ...  ...  ...  ...          ...   \n",
       "21269  4c51bb1b-8f85-4a20-8c54-a9ec0cab2fc2  175   68   86            2   \n",
       "21270  4c51bb1b-8f85-4a20-8c54-a9ec0cab2fc2  176   75   84            2   \n",
       "21271  4c51bb1b-8f85-4a20-8c54-a9ec0cab2fc2  177   81   90            2   \n",
       "21272  4c51bb1b-8f85-4a20-8c54-a9ec0cab2fc2  180   79   84            2   \n",
       "21273  4c51bb1b-8f85-4a20-8c54-a9ec0cab2fc2  180   73   87            2   \n",
       "\n",
       "                 Timestamp  \n",
       "824    Jan 2 2011 02:34:00  \n",
       "825    Jan 2 2011 04:04:00  \n",
       "826    Jan 1 2011 12:49:00  \n",
       "827    Jan 2 2011 03:04:00  \n",
       "828    Jan 2 2011 04:34:00  \n",
       "...                    ...  \n",
       "21269  Jan 1 2011 15:50:00  \n",
       "21270  Jan 2 2011 14:50:00  \n",
       "21271  Jan 1 2011 15:05:00  \n",
       "21272  Jan 1 2011 17:35:00  \n",
       "21273  Jan 1 2011 22:35:00  \n",
       "\n",
       "[541 rows x 6 columns]"
      ]
     },
     "execution_count": 27,
     "metadata": {},
     "output_type": "execute_result"
    }
   ],
   "source": [
    "df_temp= df_patient_mild\n",
    "df_temp['Timestamp'] = 'Jan '+df_temp['MonDay'].astype(str)+' 2011 '+df_temp['Time'].str.split(':',n=1).str[-1]\n",
    "df_patient_mild = df_temp.drop(['Time', 'MonDay'], axis=1)\n",
    "df_patient_mild"
   ]
  },
  {
   "cell_type": "code",
   "execution_count": null,
   "metadata": {
    "id": "LoEadwcnIFQO"
   },
   "outputs": [],
   "source": [
    "df_patient_mild['Timestamp'] = pd.to_datetime(df_patient_mild['Timestamp'], format = \"%b %d %Y %H:%M:%S\")"
   ]
  },
  {
   "cell_type": "code",
   "execution_count": null,
   "metadata": {
    "id": "8O235mSeJ3Ta"
   },
   "outputs": [],
   "source": [
    "from matplotlib.dates import DateFormatter\n",
    "date_form = DateFormatter(\"%d-%H:%M:%S\")"
   ]
  },
  {
   "cell_type": "code",
   "execution_count": null,
   "metadata": {
    "colab": {
     "base_uri": "https://localhost:8080/"
    },
    "executionInfo": {
     "elapsed": 443,
     "status": "ok",
     "timestamp": 1649113240055,
     "user": {
      "displayName": "Riya Saha",
      "userId": "06182650084884906727"
     },
     "user_tz": -60
    },
    "id": "eD0Pvp45B5Oi",
    "outputId": "23ccd8af-78e6-415e-fe21-93df6b0cd1be"
   },
   "outputs": [
    {
     "name": "stdout",
     "output_type": "stream",
     "text": [
      "4080ad0e-b212-44ab-a25e-86a773f89413 72 159.66118935837244 251.3888888888889 87.63360719874807 166.2278951486698\n",
      "b460f325-cff8-42bb-be4f-d38e764c5ff5 69 105.5464620630861 212.57331628303498 165.0562659846547 161.05868144359192\n",
      "9c918772-bf64-42a0-8739-c52314c0275a 79 186.56377799415768 407.08893216488156 160.02499188575132 251.22590068159684\n",
      "6cbf774b-aac4-4b63-bca4-2d4679dfad12 69 204.97996589940317 142.1909633418585 274.36231884057963 207.17774936061377\n",
      "c5b286bf-0038-4ac4-800c-c40b4fecfaa6 83 76.11960035263 216.05142521304737 48.9212459594475 113.6974238417083\n",
      "0fe4d385-d136-432c-a5d9-6ff2ae005542 84 110.6844520940907 246.14959839357422 88.71371199082044 148.5159208261618\n",
      "4c51bb1b-8f85-4a20-8c54-a9ec0cab2fc2 85 35.77170868347341 202.16302521008416 37.44817927170869 91.79430438842208\n",
      "4c51bb1b-8f85-4a20-8c54-a9ec0cab2fc2\n"
     ]
    }
   ],
   "source": [
    "minimum = 9999999\n",
    "min_unid = -1\n",
    "for unid in df_patient_mild[\"UNID\"].unique().tolist():\n",
    "   df_patient = df_patient_mild[df_patient_mild[\"UNID\"]==unid]\n",
    "   diff = df_patient[\"Timestamp\"].max()-df_patient[\"Timestamp\"].min()\n",
    "  \n",
    "   dbp = df_patient[\"DBP\"].var()\n",
    "   sbp = df_patient[\"SBP\"].var()\n",
    "   hr = df_patient[\"HR\"].var()\n",
    "   avg_var = (dbp+sbp+hr)/3\n",
    "   if avg_var < minimum:\n",
    "       minimum = avg_var\n",
    "       min_unid = unid\n",
    "   print(unid,str(len(df_patient)),dbp,sbp,hr,avg_var)\n",
    "  \n",
    "print(unid)  \n",
    "\n",
    "  #plot = df_patient[['Timestamp','SBP','DBP','HR']].plot(x='Timestamp', title='SEVERE-'+unid+'-'+str(len(df_patient))+'-'+df_patient[\"Timestamp\"].min().strftime('%d %H:%M:%S')+'-'+df_patient[\"Timestamp\"].max().strftime('%d %H:%M:%S'), )\n",
    "  #plot.xaxis.set_major_formatter(date_form)\n",
    "  #fig = plot.get_figure()\n",
    "  #fig.savefig('/content/drive/MyDrive/Data Science Projects/OSA Project PhD/Datasets/BP Time series alignment /plots2/SEVERE-'+unid+\".png\")\n"
   ]
  },
  {
   "cell_type": "code",
   "execution_count": null,
   "metadata": {
    "colab": {
     "base_uri": "https://localhost:8080/"
    },
    "executionInfo": {
     "elapsed": 19,
     "status": "ok",
     "timestamp": 1649113240057,
     "user": {
      "displayName": "Riya Saha",
      "userId": "06182650084884906727"
     },
     "user_tz": -60
    },
    "id": "73vS0ktqjaA5",
    "outputId": "fbef4e15-815b-45af-95f1-db1e5a7f7b8d"
   },
   "outputs": [
    {
     "name": "stdout",
     "output_type": "stream",
     "text": [
      "4c51bb1b-8f85-4a20-8c54-a9ec0cab2fc2 87060.0\n"
     ]
    }
   ],
   "source": [
    "minimum = 9999999999\n",
    "min_unid = -1\n",
    "for unid in df_patient_mild[\"UNID\"].unique().tolist():\n",
    " df_patient = df_patient_mild[df_patient_mild[\"UNID\"]==unid]\n",
    " diff = (df_patient[\"Timestamp\"].max()-df_patient[\"Timestamp\"].min()).total_seconds()        # total time = 24*60*60 = 86400 seconds\n",
    " #print(diff)\n",
    " dbp = df_patient[\"DBP\"].var()\n",
    " sbp = df_patient[\"SBP\"].var()\n",
    " hr = df_patient[\"HR\"].var()\n",
    " avg_var = (dbp+sbp+hr)/3\n",
    " if diff < minimum:\n",
    "   minimum = diff\n",
    "   min_unid = unid\n",
    "print(unid, minimum)"
   ]
  },
  {
   "cell_type": "code",
   "execution_count": null,
   "metadata": {
    "colab": {
     "base_uri": "https://localhost:8080/"
    },
    "executionInfo": {
     "elapsed": 17,
     "status": "ok",
     "timestamp": 1649113240058,
     "user": {
      "displayName": "Riya Saha",
      "userId": "06182650084884906727"
     },
     "user_tz": -60
    },
    "id": "JqX0eywUg9Jh",
    "outputId": "eaed4cdd-c741-42f6-be78-aefff110bc12"
   },
   "outputs": [
    {
     "data": {
      "text/plain": [
       "2    3415\n",
       "1    3068\n",
       "Name: MonDay, dtype: int64"
      ]
     },
     "execution_count": 32,
     "metadata": {},
     "output_type": "execute_result"
    }
   ],
   "source": [
    "df_patient_moderate = df_new_merge[df_new_merge[\"OSA_Severity\"]=='3']\n",
    "df_patient_moderate = df_patient_moderate[df_patient_moderate[\"MonDay\"].isin([1,2,3,4])]\n",
    "df_patient_moderate['MonDay'].value_counts()"
   ]
  },
  {
   "cell_type": "code",
   "execution_count": null,
   "metadata": {
    "colab": {
     "base_uri": "https://localhost:8080/",
     "height": 423
    },
    "executionInfo": {
     "elapsed": 14,
     "status": "ok",
     "timestamp": 1649113240058,
     "user": {
      "displayName": "Riya Saha",
      "userId": "06182650084884906727"
     },
     "user_tz": -60
    },
    "id": "_kk1WNLTOShk",
    "outputId": "71f91dcd-9984-43e8-bd54-52622b46571d"
   },
   "outputs": [
    {
     "data": {
      "text/html": [
       "\n",
       "  <div id=\"df-76cd0961-a78f-48d9-82b4-7146a477b23e\">\n",
       "    <div class=\"colab-df-container\">\n",
       "      <div>\n",
       "<style scoped>\n",
       "    .dataframe tbody tr th:only-of-type {\n",
       "        vertical-align: middle;\n",
       "    }\n",
       "\n",
       "    .dataframe tbody tr th {\n",
       "        vertical-align: top;\n",
       "    }\n",
       "\n",
       "    .dataframe thead th {\n",
       "        text-align: right;\n",
       "    }\n",
       "</style>\n",
       "<table border=\"1\" class=\"dataframe\">\n",
       "  <thead>\n",
       "    <tr style=\"text-align: right;\">\n",
       "      <th></th>\n",
       "      <th>UNID</th>\n",
       "      <th>SBP</th>\n",
       "      <th>DBP</th>\n",
       "      <th>HR</th>\n",
       "      <th>OSA_Severity</th>\n",
       "      <th>Timestamp</th>\n",
       "    </tr>\n",
       "  </thead>\n",
       "  <tbody>\n",
       "    <tr>\n",
       "      <th>0</th>\n",
       "      <td>1907f4a6-b068-428d-a88e-38ca9df121f6</td>\n",
       "      <td>54</td>\n",
       "      <td>29</td>\n",
       "      <td>60</td>\n",
       "      <td>3</td>\n",
       "      <td>Jan 1 2011 15:25:00</td>\n",
       "    </tr>\n",
       "    <tr>\n",
       "      <th>1</th>\n",
       "      <td>1907f4a6-b068-428d-a88e-38ca9df121f6</td>\n",
       "      <td>62</td>\n",
       "      <td>38</td>\n",
       "      <td>60</td>\n",
       "      <td>3</td>\n",
       "      <td>Jan 1 2011 15:55:00</td>\n",
       "    </tr>\n",
       "    <tr>\n",
       "      <th>2</th>\n",
       "      <td>1907f4a6-b068-428d-a88e-38ca9df121f6</td>\n",
       "      <td>64</td>\n",
       "      <td>33</td>\n",
       "      <td>59</td>\n",
       "      <td>3</td>\n",
       "      <td>Jan 1 2011 15:40:00</td>\n",
       "    </tr>\n",
       "    <tr>\n",
       "      <th>3</th>\n",
       "      <td>1907f4a6-b068-428d-a88e-38ca9df121f6</td>\n",
       "      <td>68</td>\n",
       "      <td>44</td>\n",
       "      <td>60</td>\n",
       "      <td>3</td>\n",
       "      <td>Jan 1 2011 16:10:00</td>\n",
       "    </tr>\n",
       "    <tr>\n",
       "      <th>4</th>\n",
       "      <td>1907f4a6-b068-428d-a88e-38ca9df121f6</td>\n",
       "      <td>76</td>\n",
       "      <td>52</td>\n",
       "      <td>62</td>\n",
       "      <td>3</td>\n",
       "      <td>Jan 1 2011 14:10:00</td>\n",
       "    </tr>\n",
       "    <tr>\n",
       "      <th>...</th>\n",
       "      <td>...</td>\n",
       "      <td>...</td>\n",
       "      <td>...</td>\n",
       "      <td>...</td>\n",
       "      <td>...</td>\n",
       "      <td>...</td>\n",
       "    </tr>\n",
       "    <tr>\n",
       "      <th>21734</th>\n",
       "      <td>c3676c60-a7a1-4cf3-af8f-e4a929bfe0fc</td>\n",
       "      <td>184</td>\n",
       "      <td>115</td>\n",
       "      <td>80</td>\n",
       "      <td>3</td>\n",
       "      <td>Jan 2 2011 09:58:00</td>\n",
       "    </tr>\n",
       "    <tr>\n",
       "      <th>21735</th>\n",
       "      <td>c3676c60-a7a1-4cf3-af8f-e4a929bfe0fc</td>\n",
       "      <td>185</td>\n",
       "      <td>106</td>\n",
       "      <td>80</td>\n",
       "      <td>3</td>\n",
       "      <td>Jan 1 2011 10:41:00</td>\n",
       "    </tr>\n",
       "    <tr>\n",
       "      <th>21736</th>\n",
       "      <td>c3676c60-a7a1-4cf3-af8f-e4a929bfe0fc</td>\n",
       "      <td>185</td>\n",
       "      <td>97</td>\n",
       "      <td>92</td>\n",
       "      <td>3</td>\n",
       "      <td>Jan 1 2011 13:41:00</td>\n",
       "    </tr>\n",
       "    <tr>\n",
       "      <th>21737</th>\n",
       "      <td>c3676c60-a7a1-4cf3-af8f-e4a929bfe0fc</td>\n",
       "      <td>185</td>\n",
       "      <td>106</td>\n",
       "      <td>93</td>\n",
       "      <td>3</td>\n",
       "      <td>Jan 1 2011 18:56:00</td>\n",
       "    </tr>\n",
       "    <tr>\n",
       "      <th>21738</th>\n",
       "      <td>c3676c60-a7a1-4cf3-af8f-e4a929bfe0fc</td>\n",
       "      <td>185</td>\n",
       "      <td>112</td>\n",
       "      <td>80</td>\n",
       "      <td>3</td>\n",
       "      <td>Jan 2 2011 10:26:00</td>\n",
       "    </tr>\n",
       "  </tbody>\n",
       "</table>\n",
       "<p>6483 rows × 6 columns</p>\n",
       "</div>\n",
       "      <button class=\"colab-df-convert\" onclick=\"convertToInteractive('df-76cd0961-a78f-48d9-82b4-7146a477b23e')\"\n",
       "              title=\"Convert this dataframe to an interactive table.\"\n",
       "              style=\"display:none;\">\n",
       "        \n",
       "  <svg xmlns=\"http://www.w3.org/2000/svg\" height=\"24px\"viewBox=\"0 0 24 24\"\n",
       "       width=\"24px\">\n",
       "    <path d=\"M0 0h24v24H0V0z\" fill=\"none\"/>\n",
       "    <path d=\"M18.56 5.44l.94 2.06.94-2.06 2.06-.94-2.06-.94-.94-2.06-.94 2.06-2.06.94zm-11 1L8.5 8.5l.94-2.06 2.06-.94-2.06-.94L8.5 2.5l-.94 2.06-2.06.94zm10 10l.94 2.06.94-2.06 2.06-.94-2.06-.94-.94-2.06-.94 2.06-2.06.94z\"/><path d=\"M17.41 7.96l-1.37-1.37c-.4-.4-.92-.59-1.43-.59-.52 0-1.04.2-1.43.59L10.3 9.45l-7.72 7.72c-.78.78-.78 2.05 0 2.83L4 21.41c.39.39.9.59 1.41.59.51 0 1.02-.2 1.41-.59l7.78-7.78 2.81-2.81c.8-.78.8-2.07 0-2.86zM5.41 20L4 18.59l7.72-7.72 1.47 1.35L5.41 20z\"/>\n",
       "  </svg>\n",
       "      </button>\n",
       "      \n",
       "  <style>\n",
       "    .colab-df-container {\n",
       "      display:flex;\n",
       "      flex-wrap:wrap;\n",
       "      gap: 12px;\n",
       "    }\n",
       "\n",
       "    .colab-df-convert {\n",
       "      background-color: #E8F0FE;\n",
       "      border: none;\n",
       "      border-radius: 50%;\n",
       "      cursor: pointer;\n",
       "      display: none;\n",
       "      fill: #1967D2;\n",
       "      height: 32px;\n",
       "      padding: 0 0 0 0;\n",
       "      width: 32px;\n",
       "    }\n",
       "\n",
       "    .colab-df-convert:hover {\n",
       "      background-color: #E2EBFA;\n",
       "      box-shadow: 0px 1px 2px rgba(60, 64, 67, 0.3), 0px 1px 3px 1px rgba(60, 64, 67, 0.15);\n",
       "      fill: #174EA6;\n",
       "    }\n",
       "\n",
       "    [theme=dark] .colab-df-convert {\n",
       "      background-color: #3B4455;\n",
       "      fill: #D2E3FC;\n",
       "    }\n",
       "\n",
       "    [theme=dark] .colab-df-convert:hover {\n",
       "      background-color: #434B5C;\n",
       "      box-shadow: 0px 1px 3px 1px rgba(0, 0, 0, 0.15);\n",
       "      filter: drop-shadow(0px 1px 2px rgba(0, 0, 0, 0.3));\n",
       "      fill: #FFFFFF;\n",
       "    }\n",
       "  </style>\n",
       "\n",
       "      <script>\n",
       "        const buttonEl =\n",
       "          document.querySelector('#df-76cd0961-a78f-48d9-82b4-7146a477b23e button.colab-df-convert');\n",
       "        buttonEl.style.display =\n",
       "          google.colab.kernel.accessAllowed ? 'block' : 'none';\n",
       "\n",
       "        async function convertToInteractive(key) {\n",
       "          const element = document.querySelector('#df-76cd0961-a78f-48d9-82b4-7146a477b23e');\n",
       "          const dataTable =\n",
       "            await google.colab.kernel.invokeFunction('convertToInteractive',\n",
       "                                                     [key], {});\n",
       "          if (!dataTable) return;\n",
       "\n",
       "          const docLinkHtml = 'Like what you see? Visit the ' +\n",
       "            '<a target=\"_blank\" href=https://colab.research.google.com/notebooks/data_table.ipynb>data table notebook</a>'\n",
       "            + ' to learn more about interactive tables.';\n",
       "          element.innerHTML = '';\n",
       "          dataTable['output_type'] = 'display_data';\n",
       "          await google.colab.output.renderOutput(dataTable, element);\n",
       "          const docLink = document.createElement('div');\n",
       "          docLink.innerHTML = docLinkHtml;\n",
       "          element.appendChild(docLink);\n",
       "        }\n",
       "      </script>\n",
       "    </div>\n",
       "  </div>\n",
       "  "
      ],
      "text/plain": [
       "                                       UNID  SBP  DBP  HR OSA_Severity  \\\n",
       "0      1907f4a6-b068-428d-a88e-38ca9df121f6   54   29  60            3   \n",
       "1      1907f4a6-b068-428d-a88e-38ca9df121f6   62   38  60            3   \n",
       "2      1907f4a6-b068-428d-a88e-38ca9df121f6   64   33  59            3   \n",
       "3      1907f4a6-b068-428d-a88e-38ca9df121f6   68   44  60            3   \n",
       "4      1907f4a6-b068-428d-a88e-38ca9df121f6   76   52  62            3   \n",
       "...                                     ...  ...  ...  ..          ...   \n",
       "21734  c3676c60-a7a1-4cf3-af8f-e4a929bfe0fc  184  115  80            3   \n",
       "21735  c3676c60-a7a1-4cf3-af8f-e4a929bfe0fc  185  106  80            3   \n",
       "21736  c3676c60-a7a1-4cf3-af8f-e4a929bfe0fc  185   97  92            3   \n",
       "21737  c3676c60-a7a1-4cf3-af8f-e4a929bfe0fc  185  106  93            3   \n",
       "21738  c3676c60-a7a1-4cf3-af8f-e4a929bfe0fc  185  112  80            3   \n",
       "\n",
       "                 Timestamp  \n",
       "0      Jan 1 2011 15:25:00  \n",
       "1      Jan 1 2011 15:55:00  \n",
       "2      Jan 1 2011 15:40:00  \n",
       "3      Jan 1 2011 16:10:00  \n",
       "4      Jan 1 2011 14:10:00  \n",
       "...                    ...  \n",
       "21734  Jan 2 2011 09:58:00  \n",
       "21735  Jan 1 2011 10:41:00  \n",
       "21736  Jan 1 2011 13:41:00  \n",
       "21737  Jan 1 2011 18:56:00  \n",
       "21738  Jan 2 2011 10:26:00  \n",
       "\n",
       "[6483 rows x 6 columns]"
      ]
     },
     "execution_count": 33,
     "metadata": {},
     "output_type": "execute_result"
    }
   ],
   "source": [
    "df_temp_moderate= df_patient_moderate\n",
    "df_temp_moderate['Timestamp'] = 'Jan '+df_temp_moderate['MonDay'].astype(str)+' 2011 '+df_temp_moderate['Time'].str.split(':',n=1).str[-1]\n",
    "df_patient_moderate = df_temp_moderate.drop(['Time', 'MonDay'], axis=1)\n",
    "df_patient_moderate"
   ]
  },
  {
   "cell_type": "code",
   "execution_count": null,
   "metadata": {
    "id": "jrZLoRoUOSpO"
   },
   "outputs": [],
   "source": [
    "df_patient_moderate['Timestamp'] = pd.to_datetime(df_patient_moderate['Timestamp'], format = \"%b %d %Y %H:%M:%S\")"
   ]
  },
  {
   "cell_type": "code",
   "execution_count": null,
   "metadata": {
    "colab": {
     "base_uri": "https://localhost:8080/"
    },
    "executionInfo": {
     "elapsed": 550,
     "status": "ok",
     "timestamp": 1649113240596,
     "user": {
      "displayName": "Riya Saha",
      "userId": "06182650084884906727"
     },
     "user_tz": -60
    },
    "id": "xRwogGGjOSrT",
    "outputId": "a53290bd-fa2b-42fe-ae92-25a7e0a2e67a"
   },
   "outputs": [
    {
     "name": "stdout",
     "output_type": "stream",
     "text": [
      "c3676c60-a7a1-4cf3-af8f-e4a929bfe0fc\n"
     ]
    }
   ],
   "source": [
    "minimum = 9999999\n",
    "min_unid = -1\n",
    "for unid in df_patient_moderate[\"UNID\"].unique().tolist():\n",
    "  df_patient = df_patient_moderate[df_patient_moderate[\"UNID\"]==unid]\n",
    "  diff = df_patient[\"Timestamp\"].max()-df_patient[\"Timestamp\"].min()\n",
    "  dbp = df_patient[\"DBP\"].var()\n",
    "  sbp = df_patient[\"SBP\"].var()\n",
    "  hr = df_patient[\"HR\"].var()\n",
    "  avg_var = (dbp+sbp+hr)/3\n",
    "  if avg_var < minimum:\n",
    "    minimum = avg_var\n",
    "    min_unid = unid\n",
    "  #print(unid,str(len(df_patient)),dbp,sbp,hr,avg_var)\n",
    "  #plot = df_patient[['Timestamp','SBP','DBP','HR']].plot(x='Timestamp', title='SEVERE-'+unid+'-'+str(len(df_patient))+'-'+df_patient[\"Timestamp\"].min().strftime('%d %H:%M:%S')+'-'+df_patient[\"Timestamp\"].max().strftime('%d %H:%M:%S'), )\n",
    "  #plot.xaxis.set_major_formatter(date_form)\n",
    "  #fig = plot.get_figure()\n",
    "  #fig.savefig('/content/drive/MyDrive/Data Science Projects/OSA Project PhD/Datasets/BP Time series alignment /plots2/SEVERE-'+unid+\".png\")\n",
    "print(unid)"
   ]
  },
  {
   "cell_type": "code",
   "execution_count": null,
   "metadata": {
    "colab": {
     "base_uri": "https://localhost:8080/"
    },
    "executionInfo": {
     "elapsed": 398,
     "status": "ok",
     "timestamp": 1649113240991,
     "user": {
      "displayName": "Riya Saha",
      "userId": "06182650084884906727"
     },
     "user_tz": -60
    },
    "id": "iAZhD13ltMvh",
    "outputId": "a87b98a2-8df3-46c3-82dd-7b6cec27569d"
   },
   "outputs": [
    {
     "name": "stdout",
     "output_type": "stream",
     "text": [
      "c3676c60-a7a1-4cf3-af8f-e4a929bfe0fc 80100.0\n"
     ]
    }
   ],
   "source": [
    "minimum = 9999999999\n",
    "min_unid = -1\n",
    "for unid in df_patient_moderate[\"UNID\"].unique().tolist():\n",
    " df_patient = df_patient_moderate[df_patient_moderate[\"UNID\"]==unid]\n",
    " diff = (df_patient[\"Timestamp\"].max()-df_patient[\"Timestamp\"].min()).total_seconds()\n",
    " #print(diff)\n",
    " dbp = df_patient[\"DBP\"].var()\n",
    " sbp = df_patient[\"SBP\"].var()\n",
    " hr = df_patient[\"HR\"].var()\n",
    " avg_var = (dbp+sbp+hr)/3\n",
    " if diff < minimum:\n",
    "   minimum = diff\n",
    "   min_unid = unid\n",
    "print(unid, minimum)"
   ]
  },
  {
   "cell_type": "code",
   "execution_count": null,
   "metadata": {
    "colab": {
     "base_uri": "https://localhost:8080/"
    },
    "executionInfo": {
     "elapsed": 19,
     "status": "ok",
     "timestamp": 1649113240996,
     "user": {
      "displayName": "Riya Saha",
      "userId": "06182650084884906727"
     },
     "user_tz": -60
    },
    "id": "j_FkJ1aUOSvN",
    "outputId": "7a08223a-0474-432d-88b9-7dfdc8623aa4"
   },
   "outputs": [
    {
     "data": {
      "text/plain": [
       "1    7669\n",
       "2    7438\n",
       "Name: MonDay, dtype: int64"
      ]
     },
     "execution_count": 37,
     "metadata": {},
     "output_type": "execute_result"
    }
   ],
   "source": [
    "df_patient_severe = df_new_merge[df_new_merge[\"OSA_Severity\"]=='4']\n",
    "df_patient_severe = df_patient_severe[df_patient_severe[\"MonDay\"].isin([1,2,3,4])]\n",
    "df_patient_severe['MonDay'].value_counts()"
   ]
  },
  {
   "cell_type": "code",
   "execution_count": null,
   "metadata": {
    "colab": {
     "base_uri": "https://localhost:8080/",
     "height": 423
    },
    "executionInfo": {
     "elapsed": 472,
     "status": "ok",
     "timestamp": 1649113241452,
     "user": {
      "displayName": "Riya Saha",
      "userId": "06182650084884906727"
     },
     "user_tz": -60
    },
    "id": "68dpYM9gQKHJ",
    "outputId": "c2c1ecd7-afd3-43d0-9cd6-151af74c6bc8"
   },
   "outputs": [
    {
     "data": {
      "text/html": [
       "\n",
       "  <div id=\"df-3857ff85-f3d3-490d-8a4b-6c10ddfa2fcc\">\n",
       "    <div class=\"colab-df-container\">\n",
       "      <div>\n",
       "<style scoped>\n",
       "    .dataframe tbody tr th:only-of-type {\n",
       "        vertical-align: middle;\n",
       "    }\n",
       "\n",
       "    .dataframe tbody tr th {\n",
       "        vertical-align: top;\n",
       "    }\n",
       "\n",
       "    .dataframe thead th {\n",
       "        text-align: right;\n",
       "    }\n",
       "</style>\n",
       "<table border=\"1\" class=\"dataframe\">\n",
       "  <thead>\n",
       "    <tr style=\"text-align: right;\">\n",
       "      <th></th>\n",
       "      <th>UNID</th>\n",
       "      <th>SBP</th>\n",
       "      <th>DBP</th>\n",
       "      <th>HR</th>\n",
       "      <th>OSA_Severity</th>\n",
       "      <th>Timestamp</th>\n",
       "    </tr>\n",
       "  </thead>\n",
       "  <tbody>\n",
       "    <tr>\n",
       "      <th>85</th>\n",
       "      <td>c27adf3f-9de5-4cb8-9861-6840c75e9f9b</td>\n",
       "      <td>67</td>\n",
       "      <td>49</td>\n",
       "      <td>68</td>\n",
       "      <td>4</td>\n",
       "      <td>Jan 1 2011 21:43:00</td>\n",
       "    </tr>\n",
       "    <tr>\n",
       "      <th>86</th>\n",
       "      <td>c27adf3f-9de5-4cb8-9861-6840c75e9f9b</td>\n",
       "      <td>69</td>\n",
       "      <td>46</td>\n",
       "      <td>74</td>\n",
       "      <td>4</td>\n",
       "      <td>Jan 1 2011 21:28:00</td>\n",
       "    </tr>\n",
       "    <tr>\n",
       "      <th>87</th>\n",
       "      <td>c27adf3f-9de5-4cb8-9861-6840c75e9f9b</td>\n",
       "      <td>73</td>\n",
       "      <td>46</td>\n",
       "      <td>75</td>\n",
       "      <td>4</td>\n",
       "      <td>Jan 1 2011 20:43:00</td>\n",
       "    </tr>\n",
       "    <tr>\n",
       "      <th>88</th>\n",
       "      <td>c27adf3f-9de5-4cb8-9861-6840c75e9f9b</td>\n",
       "      <td>74</td>\n",
       "      <td>51</td>\n",
       "      <td>73</td>\n",
       "      <td>4</td>\n",
       "      <td>Jan 1 2011 20:58:00</td>\n",
       "    </tr>\n",
       "    <tr>\n",
       "      <th>89</th>\n",
       "      <td>c27adf3f-9de5-4cb8-9861-6840c75e9f9b</td>\n",
       "      <td>80</td>\n",
       "      <td>53</td>\n",
       "      <td>73</td>\n",
       "      <td>4</td>\n",
       "      <td>Jan 1 2011 20:28:00</td>\n",
       "    </tr>\n",
       "    <tr>\n",
       "      <th>...</th>\n",
       "      <td>...</td>\n",
       "      <td>...</td>\n",
       "      <td>...</td>\n",
       "      <td>...</td>\n",
       "      <td>...</td>\n",
       "      <td>...</td>\n",
       "    </tr>\n",
       "    <tr>\n",
       "      <th>22211</th>\n",
       "      <td>4df07e13-4a0b-4da8-a960-66d18dba96eb</td>\n",
       "      <td>220</td>\n",
       "      <td>140</td>\n",
       "      <td>105</td>\n",
       "      <td>4</td>\n",
       "      <td>Jan 1 2011 17:20:00</td>\n",
       "    </tr>\n",
       "    <tr>\n",
       "      <th>22212</th>\n",
       "      <td>4df07e13-4a0b-4da8-a960-66d18dba96eb</td>\n",
       "      <td>221</td>\n",
       "      <td>140</td>\n",
       "      <td>88</td>\n",
       "      <td>4</td>\n",
       "      <td>Jan 1 2011 18:50:00</td>\n",
       "    </tr>\n",
       "    <tr>\n",
       "      <th>22213</th>\n",
       "      <td>4df07e13-4a0b-4da8-a960-66d18dba96eb</td>\n",
       "      <td>226</td>\n",
       "      <td>131</td>\n",
       "      <td>93</td>\n",
       "      <td>4</td>\n",
       "      <td>Jan 1 2011 20:20:00</td>\n",
       "    </tr>\n",
       "    <tr>\n",
       "      <th>22214</th>\n",
       "      <td>4df07e13-4a0b-4da8-a960-66d18dba96eb</td>\n",
       "      <td>233</td>\n",
       "      <td>147</td>\n",
       "      <td>84</td>\n",
       "      <td>4</td>\n",
       "      <td>Jan 1 2011 19:20:00</td>\n",
       "    </tr>\n",
       "    <tr>\n",
       "      <th>22215</th>\n",
       "      <td>4df07e13-4a0b-4da8-a960-66d18dba96eb</td>\n",
       "      <td>239</td>\n",
       "      <td>162</td>\n",
       "      <td>90</td>\n",
       "      <td>4</td>\n",
       "      <td>Jan 1 2011 19:05:00</td>\n",
       "    </tr>\n",
       "  </tbody>\n",
       "</table>\n",
       "<p>15107 rows × 6 columns</p>\n",
       "</div>\n",
       "      <button class=\"colab-df-convert\" onclick=\"convertToInteractive('df-3857ff85-f3d3-490d-8a4b-6c10ddfa2fcc')\"\n",
       "              title=\"Convert this dataframe to an interactive table.\"\n",
       "              style=\"display:none;\">\n",
       "        \n",
       "  <svg xmlns=\"http://www.w3.org/2000/svg\" height=\"24px\"viewBox=\"0 0 24 24\"\n",
       "       width=\"24px\">\n",
       "    <path d=\"M0 0h24v24H0V0z\" fill=\"none\"/>\n",
       "    <path d=\"M18.56 5.44l.94 2.06.94-2.06 2.06-.94-2.06-.94-.94-2.06-.94 2.06-2.06.94zm-11 1L8.5 8.5l.94-2.06 2.06-.94-2.06-.94L8.5 2.5l-.94 2.06-2.06.94zm10 10l.94 2.06.94-2.06 2.06-.94-2.06-.94-.94-2.06-.94 2.06-2.06.94z\"/><path d=\"M17.41 7.96l-1.37-1.37c-.4-.4-.92-.59-1.43-.59-.52 0-1.04.2-1.43.59L10.3 9.45l-7.72 7.72c-.78.78-.78 2.05 0 2.83L4 21.41c.39.39.9.59 1.41.59.51 0 1.02-.2 1.41-.59l7.78-7.78 2.81-2.81c.8-.78.8-2.07 0-2.86zM5.41 20L4 18.59l7.72-7.72 1.47 1.35L5.41 20z\"/>\n",
       "  </svg>\n",
       "      </button>\n",
       "      \n",
       "  <style>\n",
       "    .colab-df-container {\n",
       "      display:flex;\n",
       "      flex-wrap:wrap;\n",
       "      gap: 12px;\n",
       "    }\n",
       "\n",
       "    .colab-df-convert {\n",
       "      background-color: #E8F0FE;\n",
       "      border: none;\n",
       "      border-radius: 50%;\n",
       "      cursor: pointer;\n",
       "      display: none;\n",
       "      fill: #1967D2;\n",
       "      height: 32px;\n",
       "      padding: 0 0 0 0;\n",
       "      width: 32px;\n",
       "    }\n",
       "\n",
       "    .colab-df-convert:hover {\n",
       "      background-color: #E2EBFA;\n",
       "      box-shadow: 0px 1px 2px rgba(60, 64, 67, 0.3), 0px 1px 3px 1px rgba(60, 64, 67, 0.15);\n",
       "      fill: #174EA6;\n",
       "    }\n",
       "\n",
       "    [theme=dark] .colab-df-convert {\n",
       "      background-color: #3B4455;\n",
       "      fill: #D2E3FC;\n",
       "    }\n",
       "\n",
       "    [theme=dark] .colab-df-convert:hover {\n",
       "      background-color: #434B5C;\n",
       "      box-shadow: 0px 1px 3px 1px rgba(0, 0, 0, 0.15);\n",
       "      filter: drop-shadow(0px 1px 2px rgba(0, 0, 0, 0.3));\n",
       "      fill: #FFFFFF;\n",
       "    }\n",
       "  </style>\n",
       "\n",
       "      <script>\n",
       "        const buttonEl =\n",
       "          document.querySelector('#df-3857ff85-f3d3-490d-8a4b-6c10ddfa2fcc button.colab-df-convert');\n",
       "        buttonEl.style.display =\n",
       "          google.colab.kernel.accessAllowed ? 'block' : 'none';\n",
       "\n",
       "        async function convertToInteractive(key) {\n",
       "          const element = document.querySelector('#df-3857ff85-f3d3-490d-8a4b-6c10ddfa2fcc');\n",
       "          const dataTable =\n",
       "            await google.colab.kernel.invokeFunction('convertToInteractive',\n",
       "                                                     [key], {});\n",
       "          if (!dataTable) return;\n",
       "\n",
       "          const docLinkHtml = 'Like what you see? Visit the ' +\n",
       "            '<a target=\"_blank\" href=https://colab.research.google.com/notebooks/data_table.ipynb>data table notebook</a>'\n",
       "            + ' to learn more about interactive tables.';\n",
       "          element.innerHTML = '';\n",
       "          dataTable['output_type'] = 'display_data';\n",
       "          await google.colab.output.renderOutput(dataTable, element);\n",
       "          const docLink = document.createElement('div');\n",
       "          docLink.innerHTML = docLinkHtml;\n",
       "          element.appendChild(docLink);\n",
       "        }\n",
       "      </script>\n",
       "    </div>\n",
       "  </div>\n",
       "  "
      ],
      "text/plain": [
       "                                       UNID  SBP  DBP   HR OSA_Severity  \\\n",
       "85     c27adf3f-9de5-4cb8-9861-6840c75e9f9b   67   49   68            4   \n",
       "86     c27adf3f-9de5-4cb8-9861-6840c75e9f9b   69   46   74            4   \n",
       "87     c27adf3f-9de5-4cb8-9861-6840c75e9f9b   73   46   75            4   \n",
       "88     c27adf3f-9de5-4cb8-9861-6840c75e9f9b   74   51   73            4   \n",
       "89     c27adf3f-9de5-4cb8-9861-6840c75e9f9b   80   53   73            4   \n",
       "...                                     ...  ...  ...  ...          ...   \n",
       "22211  4df07e13-4a0b-4da8-a960-66d18dba96eb  220  140  105            4   \n",
       "22212  4df07e13-4a0b-4da8-a960-66d18dba96eb  221  140   88            4   \n",
       "22213  4df07e13-4a0b-4da8-a960-66d18dba96eb  226  131   93            4   \n",
       "22214  4df07e13-4a0b-4da8-a960-66d18dba96eb  233  147   84            4   \n",
       "22215  4df07e13-4a0b-4da8-a960-66d18dba96eb  239  162   90            4   \n",
       "\n",
       "                 Timestamp  \n",
       "85     Jan 1 2011 21:43:00  \n",
       "86     Jan 1 2011 21:28:00  \n",
       "87     Jan 1 2011 20:43:00  \n",
       "88     Jan 1 2011 20:58:00  \n",
       "89     Jan 1 2011 20:28:00  \n",
       "...                    ...  \n",
       "22211  Jan 1 2011 17:20:00  \n",
       "22212  Jan 1 2011 18:50:00  \n",
       "22213  Jan 1 2011 20:20:00  \n",
       "22214  Jan 1 2011 19:20:00  \n",
       "22215  Jan 1 2011 19:05:00  \n",
       "\n",
       "[15107 rows x 6 columns]"
      ]
     },
     "execution_count": 38,
     "metadata": {},
     "output_type": "execute_result"
    }
   ],
   "source": [
    "df_temp_severe= df_patient_severe\n",
    "df_temp_severe['Timestamp'] = 'Jan '+df_temp_severe['MonDay'].astype(str)+' 2011 '+df_temp_severe['Time'].str.split(':',n=1).str[-1]\n",
    "df_patient_severe = df_patient_severe.drop(['Time', 'MonDay'], axis=1)\n",
    "df_patient_severe"
   ]
  },
  {
   "cell_type": "code",
   "execution_count": null,
   "metadata": {
    "id": "NBoYkIK6QKJk"
   },
   "outputs": [],
   "source": [
    "df_patient_severe['Timestamp'] = pd.to_datetime(df_patient_severe['Timestamp'], format = \"%b %d %Y %H:%M:%S\")"
   ]
  },
  {
   "cell_type": "code",
   "execution_count": null,
   "metadata": {
    "colab": {
     "base_uri": "https://localhost:8080/"
    },
    "executionInfo": {
     "elapsed": 1085,
     "status": "ok",
     "timestamp": 1649113242535,
     "user": {
      "displayName": "Riya Saha",
      "userId": "06182650084884906727"
     },
     "user_tz": -60
    },
    "id": "bhiDzMH5QKM_",
    "outputId": "cedcf881-69b6-43c3-ec49-6e13b14a4eaf"
   },
   "outputs": [
    {
     "name": "stdout",
     "output_type": "stream",
     "text": [
      "4df07e13-4a0b-4da8-a960-66d18dba96eb\n"
     ]
    }
   ],
   "source": [
    "minimum = 9999999\n",
    "min_unid = -1\n",
    "for unid in df_patient_severe[\"UNID\"].unique().tolist():\n",
    "  df_patient = df_patient_severe[df_patient_severe[\"UNID\"]==unid]\n",
    "  diff = df_patient[\"Timestamp\"].max()-df_patient[\"Timestamp\"].min()\n",
    "  dbp = df_patient[\"DBP\"].var()\n",
    "  sbp = df_patient[\"SBP\"].var()\n",
    "  hr = df_patient[\"HR\"].var()\n",
    "  avg_var = (dbp+sbp+hr)/3\n",
    "  if avg_var < minimum:\n",
    "    minimum = avg_var\n",
    "    min_unid = unid\n",
    "  #print(unid,str(len(df_patient)),dbp,sbp,hr,avg_var)\n",
    "  #plot = df_patient[['Timestamp','SBP','DBP','HR']].plot(x='Timestamp', title='SEVERE-'+unid+'-'+str(len(df_patient))+'-'+df_patient[\"Timestamp\"].min().strftime('%d %H:%M:%S')+'-'+df_patient[\"Timestamp\"].max().strftime('%d %H:%M:%S'), )\n",
    "  #plot.xaxis.set_major_formatter(date_form)\n",
    "  #fig = plot.get_figure()\n",
    "  #fig.savefig('/content/drive/MyDrive/Data Science Projects/OSA Project PhD/Datasets/BP Time series alignment /plots2/SEVERE-'+unid+\".png\")\n",
    "print(unid)"
   ]
  },
  {
   "cell_type": "code",
   "execution_count": null,
   "metadata": {
    "colab": {
     "base_uri": "https://localhost:8080/"
    },
    "executionInfo": {
     "elapsed": 1132,
     "status": "ok",
     "timestamp": 1649113243664,
     "user": {
      "displayName": "Riya Saha",
      "userId": "06182650084884906727"
     },
     "user_tz": -60
    },
    "id": "l4nBwYWtzoQC",
    "outputId": "74d192be-a32f-4745-a6c3-e92084ebc482"
   },
   "outputs": [
    {
     "name": "stdout",
     "output_type": "stream",
     "text": [
      "4df07e13-4a0b-4da8-a960-66d18dba96eb 75780.0\n"
     ]
    }
   ],
   "source": [
    "minimum = 9999999999\n",
    "min_unid = -1\n",
    "for unid in df_patient_severe[\"UNID\"].unique().tolist():\n",
    " df_patient = df_patient_severe[df_patient_severe[\"UNID\"]==unid]\n",
    " diff = (df_patient[\"Timestamp\"].max()-df_patient[\"Timestamp\"].min()).total_seconds()\n",
    " #print(diff)\n",
    " dbp = df_patient[\"DBP\"].var()\n",
    " sbp = df_patient[\"SBP\"].var()\n",
    " hr = df_patient[\"HR\"].var()\n",
    " avg_var = (dbp+sbp+hr)/3\n",
    " if diff < minimum:\n",
    "   minimum = diff\n",
    "   min_unid = unid\n",
    "print(unid, minimum)"
   ]
  },
  {
   "cell_type": "code",
   "execution_count": null,
   "metadata": {
    "id": "2eosBqD5uOt8"
   },
   "outputs": [],
   "source": [
    "import scipy.spatial.distance as dist"
   ]
  },
  {
   "cell_type": "code",
   "execution_count": null,
   "metadata": {
    "id": "_g9_UD44LsD6"
   },
   "outputs": [],
   "source": [
    "def dtw(s, t):\n",
    "    n, m = len(s), len(t)\n",
    "    dtw_matrix = np.zeros((n+1, m+1))\n",
    "    for i in range(n+1):\n",
    "        for j in range(m+1):\n",
    "            dtw_matrix[i, j] = np.inf\n",
    "    dtw_matrix[0, 0] = 0\n",
    "    \n",
    "    for i in range(1, n+1):\n",
    "        for j in range(1, m+1):\n",
    "            cost = abs(s[i-1] - t[j-1])\n",
    "            # take last min from a square box\n",
    "            last_min = np.min([dtw_matrix[i-1, j], dtw_matrix[i, j-1], dtw_matrix[i-1, j-1]])\n",
    "            dtw_matrix[i, j] = cost + last_min\n",
    "    return dtw_matrix "
   ]
  },
  {
   "cell_type": "code",
   "execution_count": null,
   "metadata": {
    "colab": {
     "base_uri": "https://localhost:8080/"
    },
    "executionInfo": {
     "elapsed": 15,
     "status": "ok",
     "timestamp": 1649113243666,
     "user": {
      "displayName": "Riya Saha",
      "userId": "06182650084884906727"
     },
     "user_tz": -60
    },
    "id": "Tda04yl-PpXO",
    "outputId": "5e363588-6ad4-4528-d898-33bdc24c7dc0"
   },
   "outputs": [
    {
     "data": {
      "text/plain": [
       "array([[ 0., inf, inf, inf, inf],\n",
       "       [inf,  2.,  3.,  6., 14.],\n",
       "       [inf,  2.,  3.,  4., 10.],\n",
       "       [inf,  4.,  5.,  4.,  8.],\n",
       "       [inf,  7.,  8.,  6.,  7.],\n",
       "       [inf, 11., 12.,  9.,  8.],\n",
       "       [inf, 16., 17., 13.,  9.]])"
      ]
     },
     "execution_count": 44,
     "metadata": {},
     "output_type": "execute_result"
    }
   ],
   "source": [
    "a = [1,3,5,6,7,8]\n",
    "b = [3,2,4,9]\n",
    "\n",
    "dtw(a, b)"
   ]
  },
  {
   "cell_type": "code",
   "execution_count": null,
   "metadata": {
    "colab": {
     "base_uri": "https://localhost:8080/"
    },
    "executionInfo": {
     "elapsed": 381,
     "status": "ok",
     "timestamp": 1649117727818,
     "user": {
      "displayName": "Riya Saha",
      "userId": "06182650084884906727"
     },
     "user_tz": -60
    },
    "id": "WXY_BVLbNnOo",
    "outputId": "a7ea30dd-b4b1-4dff-a3f4-938bd50638bb"
   },
   "outputs": [
    {
     "name": "stdout",
     "output_type": "stream",
     "text": [
      "2.8284271247461903\n",
      "[(0, 0), (1, 0), (2, 1), (3, 2), (4, 2)]\n"
     ]
    }
   ],
   "source": [
    "from scipy.spatial.distance import euclidean\n",
    "from fastdtw import fastdtw\n",
    "\n",
    "\n",
    "x = np.array([[1,1], [2,2], [3,3], [4,4], [5,5]])\n",
    "y = np.array([[2,2],[3,3], [4,4]])\n",
    "distance, path = fastdtw(x, y, dist=euclidean)\n",
    "print(distance)\n",
    "print(path)"
   ]
  },
  {
   "cell_type": "code",
   "execution_count": null,
   "metadata": {
    "id": "N_bu8ofMO5_w"
   },
   "outputs": [],
   "source": [
    "# Distance between baseline patient and all other patients\n",
    "\n",
    "# distance, path = fastdtw(array1, array2, dist=euclidean)     #Formula for computing dynamic time warping\n",
    "# distance = fastdtw(array1, array2)[0]\n",
    "\n",
    "#print(“The distance between the two patients data points is %s” % distance)\n",
    "\n",
    "#distance, path = fastdtw(Patient1[\"SBP\"],patient2[\"SBP\"],dist=euclidean)\n",
    "\n",
    "\n",
    "\n"
   ]
  },
  {
   "cell_type": "code",
   "execution_count": null,
   "metadata": {
    "id": "EL6TmDI0Wh7u"
   },
   "outputs": [],
   "source": []
  },
  {
   "cell_type": "code",
   "execution_count": null,
   "metadata": {
    "id": "BWtV5iYuX4L9"
   },
   "outputs": [],
   "source": []
  }
 ],
 "metadata": {
  "colab": {
   "authorship_tag": "ABX9TyPXou4vCmXNpy3wgQuOyp7g",
   "collapsed_sections": [],
   "mount_file_id": "1AUZGnuAjSZPcd5ddYjBG8fZxktQn5NEf",
   "name": "BP Time series alignment 4.ipynb",
   "provenance": []
  },
  "kernelspec": {
   "display_name": "Python 3",
   "language": "python",
   "name": "python3"
  },
  "language_info": {
   "codemirror_mode": {
    "name": "ipython",
    "version": 3
   },
   "file_extension": ".py",
   "mimetype": "text/x-python",
   "name": "python",
   "nbconvert_exporter": "python",
   "pygments_lexer": "ipython3",
   "version": "3.8.8"
  }
 },
 "nbformat": 4,
 "nbformat_minor": 1
}
