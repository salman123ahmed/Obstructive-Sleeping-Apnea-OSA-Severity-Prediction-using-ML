{
 "cells": [
  {
   "cell_type": "code",
   "execution_count": 1,
   "metadata": {
    "executionInfo": {
     "elapsed": 736,
     "status": "ok",
     "timestamp": 1653991886404,
     "user": {
      "displayName": "Riya Saha",
      "userId": "06182650084884906727"
     },
     "user_tz": -60
    },
    "id": "HPA7rJxKT0t3"
   },
   "outputs": [],
   "source": [
    "import pandas as pd\n",
    "import numpy as np\n",
    "import sklearn\n",
    "import matplotlib.pyplot as plt\n",
    "%matplotlib inline\n",
    "plt.rcParams['figure.figsize'] = [18, 10] \n",
    "\n",
    "#import seaborn as sns\n",
    "import warnings\n",
    "warnings.filterwarnings('ignore')\n",
    "\n",
    "from sklearn.model_selection import train_test_split\n",
    "from sklearn import preprocessing\n",
    "from sklearn.metrics import accuracy_score, classification_report, confusion_matrix\n"
   ]
  },
  {
   "cell_type": "code",
   "execution_count": 3,
   "metadata": {
    "executionInfo": {
     "elapsed": 69,
     "status": "ok",
     "timestamp": 1653991886406,
     "user": {
      "displayName": "Riya Saha",
      "userId": "06182650084884906727"
     },
     "user_tz": -60
    },
    "id": "HmFUVdljUmj5"
   },
   "outputs": [],
   "source": [
    "df_merge = pd.read_csv(r'C:\\Users\\RCMS\\Downloads\\Machine Learning - BP Project - BCD 299-20220810T141111Z-001 (1)\\Machine Learning - BP Project - BCD 299\\BP(Day_Night)_Average.csv')\n",
    "df_patientfiles = pd.read_csv(r'C:\\Users\\RCMS\\Downloads\\Machine Learning - BP Project - BCD 299-20220810T141111Z-001 (1)\\Machine Learning - BP Project - BCD 299\\Grenoble.csv')"
   ]
  },
  {
   "cell_type": "code",
   "execution_count": 4,
   "metadata": {
    "colab": {
     "base_uri": "https://localhost:8080/",
     "height": 577
    },
    "executionInfo": {
     "elapsed": 69,
     "status": "ok",
     "timestamp": 1653991886407,
     "user": {
      "displayName": "Riya Saha",
      "userId": "06182650084884906727"
     },
     "user_tz": -60
    },
    "id": "dSvVR2mlXiLY",
    "outputId": "c694f6c7-e31e-497e-85d2-2c4636c12b56"
   },
   "outputs": [
    {
     "data": {
      "text/html": [
       "<div>\n",
       "<style scoped>\n",
       "    .dataframe tbody tr th:only-of-type {\n",
       "        vertical-align: middle;\n",
       "    }\n",
       "\n",
       "    .dataframe tbody tr th {\n",
       "        vertical-align: top;\n",
       "    }\n",
       "\n",
       "    .dataframe thead th {\n",
       "        text-align: right;\n",
       "    }\n",
       "</style>\n",
       "<table border=\"1\" class=\"dataframe\">\n",
       "  <thead>\n",
       "    <tr style=\"text-align: right;\">\n",
       "      <th></th>\n",
       "      <th>UNID</th>\n",
       "      <th>Day Avg SBP</th>\n",
       "      <th>Day Avg DBP</th>\n",
       "      <th>Night Avg SBP</th>\n",
       "      <th>Night Avg DBP</th>\n",
       "    </tr>\n",
       "  </thead>\n",
       "  <tbody>\n",
       "    <tr>\n",
       "      <th>0</th>\n",
       "      <td>00abb1bc-7621-4e68-8fe9-cb63838ae9ca</td>\n",
       "      <td>99.391753</td>\n",
       "      <td>65.783505</td>\n",
       "      <td>106.351351</td>\n",
       "      <td>67.540541</td>\n",
       "    </tr>\n",
       "    <tr>\n",
       "      <th>1</th>\n",
       "      <td>00cddb53-7b81-43db-98bb-1462e7843957</td>\n",
       "      <td>83.087719</td>\n",
       "      <td>46.114035</td>\n",
       "      <td>121.621622</td>\n",
       "      <td>64.945946</td>\n",
       "    </tr>\n",
       "    <tr>\n",
       "      <th>2</th>\n",
       "      <td>010037c3-c29f-4d72-8d55-765a491164bd</td>\n",
       "      <td>79.152174</td>\n",
       "      <td>45.384058</td>\n",
       "      <td>102.853658</td>\n",
       "      <td>56.292683</td>\n",
       "    </tr>\n",
       "    <tr>\n",
       "      <th>3</th>\n",
       "      <td>011f89f7-90b8-407b-9050-175194e9f9ea</td>\n",
       "      <td>97.242718</td>\n",
       "      <td>64.883495</td>\n",
       "      <td>110.736842</td>\n",
       "      <td>73.526316</td>\n",
       "    </tr>\n",
       "    <tr>\n",
       "      <th>4</th>\n",
       "      <td>01e13b8b-4fa9-428c-ac47-f55006524c0b</td>\n",
       "      <td>68.584746</td>\n",
       "      <td>46.194915</td>\n",
       "      <td>84.534884</td>\n",
       "      <td>54.813953</td>\n",
       "    </tr>\n",
       "  </tbody>\n",
       "</table>\n",
       "</div>"
      ],
      "text/plain": [
       "                                   UNID  Day Avg SBP  Day Avg DBP  \\\n",
       "0  00abb1bc-7621-4e68-8fe9-cb63838ae9ca    99.391753    65.783505   \n",
       "1  00cddb53-7b81-43db-98bb-1462e7843957    83.087719    46.114035   \n",
       "2  010037c3-c29f-4d72-8d55-765a491164bd    79.152174    45.384058   \n",
       "3  011f89f7-90b8-407b-9050-175194e9f9ea    97.242718    64.883495   \n",
       "4  01e13b8b-4fa9-428c-ac47-f55006524c0b    68.584746    46.194915   \n",
       "\n",
       "   Night Avg SBP  Night Avg DBP  \n",
       "0     106.351351      67.540541  \n",
       "1     121.621622      64.945946  \n",
       "2     102.853658      56.292683  \n",
       "3     110.736842      73.526316  \n",
       "4      84.534884      54.813953  "
      ]
     },
     "execution_count": 4,
     "metadata": {},
     "output_type": "execute_result"
    }
   ],
   "source": [
    "df_merge.head()"
   ]
  },
  {
   "cell_type": "code",
   "execution_count": 5,
   "metadata": {
    "executionInfo": {
     "elapsed": 69,
     "status": "ok",
     "timestamp": 1653991886408,
     "user": {
      "displayName": "Riya Saha",
      "userId": "06182650084884906727"
     },
     "user_tz": -60
    },
    "id": "cEbY7YJtXzkd"
   },
   "outputs": [
    {
     "ename": "KeyError",
     "evalue": "\"['a'] not found in axis\"",
     "output_type": "error",
     "traceback": [
      "\u001b[1;31m---------------------------------------------------------------------------\u001b[0m",
      "\u001b[1;31mKeyError\u001b[0m                                  Traceback (most recent call last)",
      "\u001b[1;32m~\\AppData\\Local\\Temp/ipykernel_1120/3938473546.py\u001b[0m in \u001b[0;36m<module>\u001b[1;34m\u001b[0m\n\u001b[0;32m      1\u001b[0m \u001b[0mdf_merge\u001b[0m\u001b[1;33m.\u001b[0m\u001b[0mrename\u001b[0m\u001b[1;33m(\u001b[0m\u001b[1;33m{\u001b[0m\u001b[1;34m\"Unnamed: 0\"\u001b[0m\u001b[1;33m:\u001b[0m\u001b[1;34m\"a\"\u001b[0m\u001b[1;33m}\u001b[0m\u001b[1;33m,\u001b[0m \u001b[0maxis\u001b[0m\u001b[1;33m=\u001b[0m\u001b[1;34m\"columns\"\u001b[0m\u001b[1;33m,\u001b[0m \u001b[0minplace\u001b[0m\u001b[1;33m=\u001b[0m\u001b[1;32mTrue\u001b[0m\u001b[1;33m)\u001b[0m \u001b[1;31m#drop unnamed column\u001b[0m\u001b[1;33m\u001b[0m\u001b[1;33m\u001b[0m\u001b[0m\n\u001b[1;32m----> 2\u001b[1;33m \u001b[0mdf_merge\u001b[0m\u001b[1;33m.\u001b[0m\u001b[0mdrop\u001b[0m\u001b[1;33m(\u001b[0m\u001b[1;33m[\u001b[0m\u001b[1;34m\"a\"\u001b[0m\u001b[1;33m]\u001b[0m\u001b[1;33m,\u001b[0m \u001b[0maxis\u001b[0m\u001b[1;33m=\u001b[0m\u001b[1;36m1\u001b[0m\u001b[1;33m,\u001b[0m \u001b[0minplace\u001b[0m\u001b[1;33m=\u001b[0m\u001b[1;32mTrue\u001b[0m\u001b[1;33m)\u001b[0m\u001b[1;33m\u001b[0m\u001b[1;33m\u001b[0m\u001b[0m\n\u001b[0m",
      "\u001b[1;32m~\\anaconda3\\lib\\site-packages\\pandas\\util\\_decorators.py\u001b[0m in \u001b[0;36mwrapper\u001b[1;34m(*args, **kwargs)\u001b[0m\n\u001b[0;32m    309\u001b[0m                     \u001b[0mstacklevel\u001b[0m\u001b[1;33m=\u001b[0m\u001b[0mstacklevel\u001b[0m\u001b[1;33m,\u001b[0m\u001b[1;33m\u001b[0m\u001b[1;33m\u001b[0m\u001b[0m\n\u001b[0;32m    310\u001b[0m                 )\n\u001b[1;32m--> 311\u001b[1;33m             \u001b[1;32mreturn\u001b[0m \u001b[0mfunc\u001b[0m\u001b[1;33m(\u001b[0m\u001b[1;33m*\u001b[0m\u001b[0margs\u001b[0m\u001b[1;33m,\u001b[0m \u001b[1;33m**\u001b[0m\u001b[0mkwargs\u001b[0m\u001b[1;33m)\u001b[0m\u001b[1;33m\u001b[0m\u001b[1;33m\u001b[0m\u001b[0m\n\u001b[0m\u001b[0;32m    312\u001b[0m \u001b[1;33m\u001b[0m\u001b[0m\n\u001b[0;32m    313\u001b[0m         \u001b[1;32mreturn\u001b[0m \u001b[0mwrapper\u001b[0m\u001b[1;33m\u001b[0m\u001b[1;33m\u001b[0m\u001b[0m\n",
      "\u001b[1;32m~\\anaconda3\\lib\\site-packages\\pandas\\core\\frame.py\u001b[0m in \u001b[0;36mdrop\u001b[1;34m(self, labels, axis, index, columns, level, inplace, errors)\u001b[0m\n\u001b[0;32m   4904\u001b[0m                 \u001b[0mweight\u001b[0m  \u001b[1;36m1.0\u001b[0m     \u001b[1;36m0.8\u001b[0m\u001b[1;33m\u001b[0m\u001b[1;33m\u001b[0m\u001b[0m\n\u001b[0;32m   4905\u001b[0m         \"\"\"\n\u001b[1;32m-> 4906\u001b[1;33m         return super().drop(\n\u001b[0m\u001b[0;32m   4907\u001b[0m             \u001b[0mlabels\u001b[0m\u001b[1;33m=\u001b[0m\u001b[0mlabels\u001b[0m\u001b[1;33m,\u001b[0m\u001b[1;33m\u001b[0m\u001b[1;33m\u001b[0m\u001b[0m\n\u001b[0;32m   4908\u001b[0m             \u001b[0maxis\u001b[0m\u001b[1;33m=\u001b[0m\u001b[0maxis\u001b[0m\u001b[1;33m,\u001b[0m\u001b[1;33m\u001b[0m\u001b[1;33m\u001b[0m\u001b[0m\n",
      "\u001b[1;32m~\\anaconda3\\lib\\site-packages\\pandas\\core\\generic.py\u001b[0m in \u001b[0;36mdrop\u001b[1;34m(self, labels, axis, index, columns, level, inplace, errors)\u001b[0m\n\u001b[0;32m   4148\u001b[0m         \u001b[1;32mfor\u001b[0m \u001b[0maxis\u001b[0m\u001b[1;33m,\u001b[0m \u001b[0mlabels\u001b[0m \u001b[1;32min\u001b[0m \u001b[0maxes\u001b[0m\u001b[1;33m.\u001b[0m\u001b[0mitems\u001b[0m\u001b[1;33m(\u001b[0m\u001b[1;33m)\u001b[0m\u001b[1;33m:\u001b[0m\u001b[1;33m\u001b[0m\u001b[1;33m\u001b[0m\u001b[0m\n\u001b[0;32m   4149\u001b[0m             \u001b[1;32mif\u001b[0m \u001b[0mlabels\u001b[0m \u001b[1;32mis\u001b[0m \u001b[1;32mnot\u001b[0m \u001b[1;32mNone\u001b[0m\u001b[1;33m:\u001b[0m\u001b[1;33m\u001b[0m\u001b[1;33m\u001b[0m\u001b[0m\n\u001b[1;32m-> 4150\u001b[1;33m                 \u001b[0mobj\u001b[0m \u001b[1;33m=\u001b[0m \u001b[0mobj\u001b[0m\u001b[1;33m.\u001b[0m\u001b[0m_drop_axis\u001b[0m\u001b[1;33m(\u001b[0m\u001b[0mlabels\u001b[0m\u001b[1;33m,\u001b[0m \u001b[0maxis\u001b[0m\u001b[1;33m,\u001b[0m \u001b[0mlevel\u001b[0m\u001b[1;33m=\u001b[0m\u001b[0mlevel\u001b[0m\u001b[1;33m,\u001b[0m \u001b[0merrors\u001b[0m\u001b[1;33m=\u001b[0m\u001b[0merrors\u001b[0m\u001b[1;33m)\u001b[0m\u001b[1;33m\u001b[0m\u001b[1;33m\u001b[0m\u001b[0m\n\u001b[0m\u001b[0;32m   4151\u001b[0m \u001b[1;33m\u001b[0m\u001b[0m\n\u001b[0;32m   4152\u001b[0m         \u001b[1;32mif\u001b[0m \u001b[0minplace\u001b[0m\u001b[1;33m:\u001b[0m\u001b[1;33m\u001b[0m\u001b[1;33m\u001b[0m\u001b[0m\n",
      "\u001b[1;32m~\\anaconda3\\lib\\site-packages\\pandas\\core\\generic.py\u001b[0m in \u001b[0;36m_drop_axis\u001b[1;34m(self, labels, axis, level, errors)\u001b[0m\n\u001b[0;32m   4183\u001b[0m                 \u001b[0mnew_axis\u001b[0m \u001b[1;33m=\u001b[0m \u001b[0maxis\u001b[0m\u001b[1;33m.\u001b[0m\u001b[0mdrop\u001b[0m\u001b[1;33m(\u001b[0m\u001b[0mlabels\u001b[0m\u001b[1;33m,\u001b[0m \u001b[0mlevel\u001b[0m\u001b[1;33m=\u001b[0m\u001b[0mlevel\u001b[0m\u001b[1;33m,\u001b[0m \u001b[0merrors\u001b[0m\u001b[1;33m=\u001b[0m\u001b[0merrors\u001b[0m\u001b[1;33m)\u001b[0m\u001b[1;33m\u001b[0m\u001b[1;33m\u001b[0m\u001b[0m\n\u001b[0;32m   4184\u001b[0m             \u001b[1;32melse\u001b[0m\u001b[1;33m:\u001b[0m\u001b[1;33m\u001b[0m\u001b[1;33m\u001b[0m\u001b[0m\n\u001b[1;32m-> 4185\u001b[1;33m                 \u001b[0mnew_axis\u001b[0m \u001b[1;33m=\u001b[0m \u001b[0maxis\u001b[0m\u001b[1;33m.\u001b[0m\u001b[0mdrop\u001b[0m\u001b[1;33m(\u001b[0m\u001b[0mlabels\u001b[0m\u001b[1;33m,\u001b[0m \u001b[0merrors\u001b[0m\u001b[1;33m=\u001b[0m\u001b[0merrors\u001b[0m\u001b[1;33m)\u001b[0m\u001b[1;33m\u001b[0m\u001b[1;33m\u001b[0m\u001b[0m\n\u001b[0m\u001b[0;32m   4186\u001b[0m             \u001b[0mresult\u001b[0m \u001b[1;33m=\u001b[0m \u001b[0mself\u001b[0m\u001b[1;33m.\u001b[0m\u001b[0mreindex\u001b[0m\u001b[1;33m(\u001b[0m\u001b[1;33m**\u001b[0m\u001b[1;33m{\u001b[0m\u001b[0maxis_name\u001b[0m\u001b[1;33m:\u001b[0m \u001b[0mnew_axis\u001b[0m\u001b[1;33m}\u001b[0m\u001b[1;33m)\u001b[0m\u001b[1;33m\u001b[0m\u001b[1;33m\u001b[0m\u001b[0m\n\u001b[0;32m   4187\u001b[0m \u001b[1;33m\u001b[0m\u001b[0m\n",
      "\u001b[1;32m~\\anaconda3\\lib\\site-packages\\pandas\\core\\indexes\\base.py\u001b[0m in \u001b[0;36mdrop\u001b[1;34m(self, labels, errors)\u001b[0m\n\u001b[0;32m   6015\u001b[0m         \u001b[1;32mif\u001b[0m \u001b[0mmask\u001b[0m\u001b[1;33m.\u001b[0m\u001b[0many\u001b[0m\u001b[1;33m(\u001b[0m\u001b[1;33m)\u001b[0m\u001b[1;33m:\u001b[0m\u001b[1;33m\u001b[0m\u001b[1;33m\u001b[0m\u001b[0m\n\u001b[0;32m   6016\u001b[0m             \u001b[1;32mif\u001b[0m \u001b[0merrors\u001b[0m \u001b[1;33m!=\u001b[0m \u001b[1;34m\"ignore\"\u001b[0m\u001b[1;33m:\u001b[0m\u001b[1;33m\u001b[0m\u001b[1;33m\u001b[0m\u001b[0m\n\u001b[1;32m-> 6017\u001b[1;33m                 \u001b[1;32mraise\u001b[0m \u001b[0mKeyError\u001b[0m\u001b[1;33m(\u001b[0m\u001b[1;34mf\"{labels[mask]} not found in axis\"\u001b[0m\u001b[1;33m)\u001b[0m\u001b[1;33m\u001b[0m\u001b[1;33m\u001b[0m\u001b[0m\n\u001b[0m\u001b[0;32m   6018\u001b[0m             \u001b[0mindexer\u001b[0m \u001b[1;33m=\u001b[0m \u001b[0mindexer\u001b[0m\u001b[1;33m[\u001b[0m\u001b[1;33m~\u001b[0m\u001b[0mmask\u001b[0m\u001b[1;33m]\u001b[0m\u001b[1;33m\u001b[0m\u001b[1;33m\u001b[0m\u001b[0m\n\u001b[0;32m   6019\u001b[0m         \u001b[1;32mreturn\u001b[0m \u001b[0mself\u001b[0m\u001b[1;33m.\u001b[0m\u001b[0mdelete\u001b[0m\u001b[1;33m(\u001b[0m\u001b[0mindexer\u001b[0m\u001b[1;33m)\u001b[0m\u001b[1;33m\u001b[0m\u001b[1;33m\u001b[0m\u001b[0m\n",
      "\u001b[1;31mKeyError\u001b[0m: \"['a'] not found in axis\""
     ]
    }
   ],
   "source": [
    "df_merge.rename({\"Unnamed: 0\":\"a\"}, axis=\"columns\", inplace=True) #drop unnamed column\n",
    "df_merge.drop([\"a\"], axis=1, inplace=True)"
   ]
  },
  {
   "cell_type": "code",
   "execution_count": 6,
   "metadata": {
    "colab": {
     "base_uri": "https://localhost:8080/",
     "height": 560
    },
    "executionInfo": {
     "elapsed": 70,
     "status": "ok",
     "timestamp": 1653991886409,
     "user": {
      "displayName": "Riya Saha",
      "userId": "06182650084884906727"
     },
     "user_tz": -60
    },
    "id": "9jpuraTMaQ6I",
    "outputId": "b4bb1130-73d4-464d-92eb-bc4609fa1d61"
   },
   "outputs": [
    {
     "data": {
      "text/html": [
       "<div>\n",
       "<style scoped>\n",
       "    .dataframe tbody tr th:only-of-type {\n",
       "        vertical-align: middle;\n",
       "    }\n",
       "\n",
       "    .dataframe tbody tr th {\n",
       "        vertical-align: top;\n",
       "    }\n",
       "\n",
       "    .dataframe thead th {\n",
       "        text-align: right;\n",
       "    }\n",
       "</style>\n",
       "<table border=\"1\" class=\"dataframe\">\n",
       "  <thead>\n",
       "    <tr style=\"text-align: right;\">\n",
       "      <th></th>\n",
       "      <th>UNID</th>\n",
       "      <th>Day Avg SBP</th>\n",
       "      <th>Day Avg DBP</th>\n",
       "      <th>Night Avg SBP</th>\n",
       "      <th>Night Avg DBP</th>\n",
       "    </tr>\n",
       "  </thead>\n",
       "  <tbody>\n",
       "    <tr>\n",
       "      <th>0</th>\n",
       "      <td>00abb1bc-7621-4e68-8fe9-cb63838ae9ca</td>\n",
       "      <td>99.391753</td>\n",
       "      <td>65.783505</td>\n",
       "      <td>106.351351</td>\n",
       "      <td>67.540541</td>\n",
       "    </tr>\n",
       "    <tr>\n",
       "      <th>1</th>\n",
       "      <td>00cddb53-7b81-43db-98bb-1462e7843957</td>\n",
       "      <td>83.087719</td>\n",
       "      <td>46.114035</td>\n",
       "      <td>121.621622</td>\n",
       "      <td>64.945946</td>\n",
       "    </tr>\n",
       "    <tr>\n",
       "      <th>2</th>\n",
       "      <td>010037c3-c29f-4d72-8d55-765a491164bd</td>\n",
       "      <td>79.152174</td>\n",
       "      <td>45.384058</td>\n",
       "      <td>102.853658</td>\n",
       "      <td>56.292683</td>\n",
       "    </tr>\n",
       "    <tr>\n",
       "      <th>3</th>\n",
       "      <td>011f89f7-90b8-407b-9050-175194e9f9ea</td>\n",
       "      <td>97.242718</td>\n",
       "      <td>64.883495</td>\n",
       "      <td>110.736842</td>\n",
       "      <td>73.526316</td>\n",
       "    </tr>\n",
       "    <tr>\n",
       "      <th>4</th>\n",
       "      <td>01e13b8b-4fa9-428c-ac47-f55006524c0b</td>\n",
       "      <td>68.584746</td>\n",
       "      <td>46.194915</td>\n",
       "      <td>84.534884</td>\n",
       "      <td>54.813953</td>\n",
       "    </tr>\n",
       "  </tbody>\n",
       "</table>\n",
       "</div>"
      ],
      "text/plain": [
       "                                   UNID  Day Avg SBP  Day Avg DBP  \\\n",
       "0  00abb1bc-7621-4e68-8fe9-cb63838ae9ca    99.391753    65.783505   \n",
       "1  00cddb53-7b81-43db-98bb-1462e7843957    83.087719    46.114035   \n",
       "2  010037c3-c29f-4d72-8d55-765a491164bd    79.152174    45.384058   \n",
       "3  011f89f7-90b8-407b-9050-175194e9f9ea    97.242718    64.883495   \n",
       "4  01e13b8b-4fa9-428c-ac47-f55006524c0b    68.584746    46.194915   \n",
       "\n",
       "   Night Avg SBP  Night Avg DBP  \n",
       "0     106.351351      67.540541  \n",
       "1     121.621622      64.945946  \n",
       "2     102.853658      56.292683  \n",
       "3     110.736842      73.526316  \n",
       "4      84.534884      54.813953  "
      ]
     },
     "execution_count": 6,
     "metadata": {},
     "output_type": "execute_result"
    }
   ],
   "source": [
    "df_merge.rename(columns={\"unid\": \"UNID\"}, inplace=True)\n",
    "\n",
    "df_merge.head()"
   ]
  },
  {
   "cell_type": "code",
   "execution_count": 7,
   "metadata": {
    "colab": {
     "base_uri": "https://localhost:8080/",
     "height": 299
    },
    "executionInfo": {
     "elapsed": 70,
     "status": "ok",
     "timestamp": 1653991886410,
     "user": {
      "displayName": "Riya Saha",
      "userId": "06182650084884906727"
     },
     "user_tz": -60
    },
    "id": "lmP4nEycafa9",
    "outputId": "bcdbf686-91d4-4a29-a459-8ecda5365b86"
   },
   "outputs": [
    {
     "data": {
      "text/html": [
       "<div>\n",
       "<style scoped>\n",
       "    .dataframe tbody tr th:only-of-type {\n",
       "        vertical-align: middle;\n",
       "    }\n",
       "\n",
       "    .dataframe tbody tr th {\n",
       "        vertical-align: top;\n",
       "    }\n",
       "\n",
       "    .dataframe thead th {\n",
       "        text-align: right;\n",
       "    }\n",
       "</style>\n",
       "<table border=\"1\" class=\"dataframe\">\n",
       "  <thead>\n",
       "    <tr style=\"text-align: right;\">\n",
       "      <th></th>\n",
       "      <th>num</th>\n",
       "      <th>Age__years_</th>\n",
       "      <th>Sex</th>\n",
       "      <th>Presence_of_coronary_artery_dise</th>\n",
       "      <th>Presence_of_cerebrovascula_disea</th>\n",
       "      <th>Presence_of_diabetes</th>\n",
       "      <th>Presence_of_dyslipidemia__hyperc</th>\n",
       "      <th>Smoking_behavior___current_smoki</th>\n",
       "      <th>Smoking_behavior__consumption__</th>\n",
       "      <th>Presence_of_hypertension__yes_no</th>\n",
       "      <th>...</th>\n",
       "      <th>nDBPnFix</th>\n",
       "      <th>nHRnFix</th>\n",
       "      <th>nSBPsdnFix</th>\n",
       "      <th>nMBPsdnFix</th>\n",
       "      <th>nDBPsdnFix</th>\n",
       "      <th>nHRsdnFix</th>\n",
       "      <th>ARV_SBP</th>\n",
       "      <th>ARV_DBP</th>\n",
       "      <th>ARV_HR</th>\n",
       "      <th>AASI</th>\n",
       "    </tr>\n",
       "  </thead>\n",
       "  <tbody>\n",
       "    <tr>\n",
       "      <th>0</th>\n",
       "      <td>1</td>\n",
       "      <td>42</td>\n",
       "      <td>M</td>\n",
       "      <td>no</td>\n",
       "      <td>no</td>\n",
       "      <td>no</td>\n",
       "      <td>no</td>\n",
       "      <td>yes</td>\n",
       "      <td>28</td>\n",
       "      <td>no</td>\n",
       "      <td>...</td>\n",
       "      <td>71.86667</td>\n",
       "      <td>99.30000</td>\n",
       "      <td>35.115380</td>\n",
       "      <td>25.355420</td>\n",
       "      <td>21.948370</td>\n",
       "      <td>21.681260</td>\n",
       "      <td>12.865390</td>\n",
       "      <td>10.173080</td>\n",
       "      <td>6.846154</td>\n",
       "      <td>0.370339</td>\n",
       "    </tr>\n",
       "    <tr>\n",
       "      <th>1</th>\n",
       "      <td>2</td>\n",
       "      <td>58</td>\n",
       "      <td>M</td>\n",
       "      <td>no</td>\n",
       "      <td>no</td>\n",
       "      <td>no</td>\n",
       "      <td>yes</td>\n",
       "      <td>no</td>\n",
       "      <td>16.25</td>\n",
       "      <td>yes</td>\n",
       "      <td>...</td>\n",
       "      <td>65.00000</td>\n",
       "      <td>54.75000</td>\n",
       "      <td>8.956460</td>\n",
       "      <td>8.295672</td>\n",
       "      <td>9.672830</td>\n",
       "      <td>4.390071</td>\n",
       "      <td>8.256757</td>\n",
       "      <td>6.148649</td>\n",
       "      <td>6.054054</td>\n",
       "      <td>0.406565</td>\n",
       "    </tr>\n",
       "    <tr>\n",
       "      <th>2</th>\n",
       "      <td>5</td>\n",
       "      <td>48</td>\n",
       "      <td>F</td>\n",
       "      <td>no</td>\n",
       "      <td>no</td>\n",
       "      <td>no</td>\n",
       "      <td>yes</td>\n",
       "      <td>yes</td>\n",
       "      <td>18</td>\n",
       "      <td>no</td>\n",
       "      <td>...</td>\n",
       "      <td>61.75000</td>\n",
       "      <td>69.08334</td>\n",
       "      <td>10.227710</td>\n",
       "      <td>7.246734</td>\n",
       "      <td>8.465169</td>\n",
       "      <td>7.153617</td>\n",
       "      <td>9.131147</td>\n",
       "      <td>7.131147</td>\n",
       "      <td>8.459017</td>\n",
       "      <td>0.427954</td>\n",
       "    </tr>\n",
       "    <tr>\n",
       "      <th>3</th>\n",
       "      <td>7</td>\n",
       "      <td>73</td>\n",
       "      <td>M</td>\n",
       "      <td>yes</td>\n",
       "      <td>no</td>\n",
       "      <td>no</td>\n",
       "      <td>yes</td>\n",
       "      <td>no</td>\n",
       "      <td>32</td>\n",
       "      <td>yes</td>\n",
       "      <td>...</td>\n",
       "      <td>68.83334</td>\n",
       "      <td>49.25000</td>\n",
       "      <td>8.233400</td>\n",
       "      <td>8.305955</td>\n",
       "      <td>10.049320</td>\n",
       "      <td>1.751190</td>\n",
       "      <td>10.222220</td>\n",
       "      <td>8.000000</td>\n",
       "      <td>2.666667</td>\n",
       "      <td>0.497447</td>\n",
       "    </tr>\n",
       "    <tr>\n",
       "      <th>4</th>\n",
       "      <td>8</td>\n",
       "      <td>51</td>\n",
       "      <td>M</td>\n",
       "      <td>no</td>\n",
       "      <td>no</td>\n",
       "      <td>yes</td>\n",
       "      <td>no</td>\n",
       "      <td>no</td>\n",
       "      <td>0</td>\n",
       "      <td>yes</td>\n",
       "      <td>...</td>\n",
       "      <td>66.41666</td>\n",
       "      <td>76.08334</td>\n",
       "      <td>7.577878</td>\n",
       "      <td>5.736645</td>\n",
       "      <td>4.601548</td>\n",
       "      <td>5.247654</td>\n",
       "      <td>10.250000</td>\n",
       "      <td>6.776316</td>\n",
       "      <td>5.552631</td>\n",
       "      <td>0.649434</td>\n",
       "    </tr>\n",
       "  </tbody>\n",
       "</table>\n",
       "<p>5 rows × 87 columns</p>\n",
       "</div>"
      ],
      "text/plain": [
       "   num  Age__years_ Sex Presence_of_coronary_artery_dise  \\\n",
       "0    1           42   M                               no   \n",
       "1    2           58   M                               no   \n",
       "2    5           48   F                               no   \n",
       "3    7           73   M                              yes   \n",
       "4    8           51   M                               no   \n",
       "\n",
       "  Presence_of_cerebrovascula_disea Presence_of_diabetes  \\\n",
       "0                               no                   no   \n",
       "1                               no                   no   \n",
       "2                               no                   no   \n",
       "3                               no                   no   \n",
       "4                               no                  yes   \n",
       "\n",
       "  Presence_of_dyslipidemia__hyperc Smoking_behavior___current_smoki  \\\n",
       "0                               no                              yes   \n",
       "1                              yes                               no   \n",
       "2                              yes                              yes   \n",
       "3                              yes                               no   \n",
       "4                               no                               no   \n",
       "\n",
       "  Smoking_behavior__consumption__ Presence_of_hypertension__yes_no  ...  \\\n",
       "0                              28                               no  ...   \n",
       "1                           16.25                              yes  ...   \n",
       "2                              18                               no  ...   \n",
       "3                              32                              yes  ...   \n",
       "4                               0                              yes  ...   \n",
       "\n",
       "   nDBPnFix   nHRnFix  nSBPsdnFix  nMBPsdnFix  nDBPsdnFix  nHRsdnFix  \\\n",
       "0  71.86667  99.30000   35.115380   25.355420   21.948370  21.681260   \n",
       "1  65.00000  54.75000    8.956460    8.295672    9.672830   4.390071   \n",
       "2  61.75000  69.08334   10.227710    7.246734    8.465169   7.153617   \n",
       "3  68.83334  49.25000    8.233400    8.305955   10.049320   1.751190   \n",
       "4  66.41666  76.08334    7.577878    5.736645    4.601548   5.247654   \n",
       "\n",
       "     ARV_SBP    ARV_DBP    ARV_HR      AASI  \n",
       "0  12.865390  10.173080  6.846154  0.370339  \n",
       "1   8.256757   6.148649  6.054054  0.406565  \n",
       "2   9.131147   7.131147  8.459017  0.427954  \n",
       "3  10.222220   8.000000  2.666667  0.497447  \n",
       "4  10.250000   6.776316  5.552631  0.649434  \n",
       "\n",
       "[5 rows x 87 columns]"
      ]
     },
     "execution_count": 7,
     "metadata": {},
     "output_type": "execute_result"
    }
   ],
   "source": [
    "df_patientfiles.rename(columns={\"UnID\": \"UNID\",\"VAR3\":\"Sex\",\"VAR6\":\"Presence_of_diabetes\",\"VAR15\":\"BMI\",\"VAR41\":\"Clinic_seated_sbp\",\"VAR42\":\"Clinic_seated_dbp\",\"VAR45\":\"AHI_tot\",\"VAR46\":\"Mean_nocturnal_satO2\",\"VAR47\":\"Min_nocturnal_satO2\",\"VAR49\":\"PWV\",\"VAR50\":\"Delay_time_car_fem\",\"VAR51\":\"Car_fem_distance\",\"VAR52\":\"Creatinine\",\"VAR53\":\"Glucose\",\"VAR54\":\"Total_cholesterol\",\"VAR55\":\"Triglycerides\",\"VAR56\":\"HDL\",\"VAR57\":\"LDL\"}, inplace=True)\n",
    "\n",
    "df_patientfiles.head()\n"
   ]
  },
  {
   "cell_type": "code",
   "execution_count": 9,
   "metadata": {
    "executionInfo": {
     "elapsed": 976,
     "status": "ok",
     "timestamp": 1653991887318,
     "user": {
      "displayName": "Riya Saha",
      "userId": "06182650084884906727"
     },
     "user_tz": -60
    },
    "id": "mpPmZ5PYjXLh"
   },
   "outputs": [],
   "source": [
    "df_patientfiles.to_csv(r'C:\\Users\\RCMS\\Downloads\\Machine Learning - BP Project - BCD 299-20220810T141111Z-001 (1)\\Machine Learning - BP Project - BCD 299/patient_data_rename.csv', index=False)"
   ]
  },
  {
   "cell_type": "code",
   "execution_count": 10,
   "metadata": {
    "colab": {
     "base_uri": "https://localhost:8080/"
    },
    "executionInfo": {
     "elapsed": 655,
     "status": "ok",
     "timestamp": 1653991887320,
     "user": {
      "displayName": "Riya Saha",
      "userId": "06182650084884906727"
     },
     "user_tz": -60
    },
    "id": "hVKgh-pCbHWB",
    "outputId": "d18b4c20-9bae-4ebf-942c-89bbd197a315"
   },
   "outputs": [
    {
     "data": {
      "text/plain": [
       "(283, 5)"
      ]
     },
     "execution_count": 10,
     "metadata": {},
     "output_type": "execute_result"
    }
   ],
   "source": [
    "df_merge.shape"
   ]
  },
  {
   "cell_type": "code",
   "execution_count": 11,
   "metadata": {
    "colab": {
     "base_uri": "https://localhost:8080/"
    },
    "executionInfo": {
     "elapsed": 638,
     "status": "ok",
     "timestamp": 1653991887321,
     "user": {
      "displayName": "Riya Saha",
      "userId": "06182650084884906727"
     },
     "user_tz": -60
    },
    "id": "CxSgCigrdwAN",
    "outputId": "d965fde0-8afa-4aae-fcc1-b8a9eaa7fc86"
   },
   "outputs": [
    {
     "data": {
      "text/plain": [
       "(283, 87)"
      ]
     },
     "execution_count": 11,
     "metadata": {},
     "output_type": "execute_result"
    }
   ],
   "source": [
    "df_patientfiles.shape"
   ]
  },
  {
   "cell_type": "code",
   "execution_count": 12,
   "metadata": {
    "colab": {
     "base_uri": "https://localhost:8080/",
     "height": 488
    },
    "executionInfo": {
     "elapsed": 641,
     "status": "ok",
     "timestamp": 1653991887327,
     "user": {
      "displayName": "Riya Saha",
      "userId": "06182650084884906727"
     },
     "user_tz": -60
    },
    "id": "SjGCKrWddy2g",
    "outputId": "5cd24cb2-38cb-4b4c-a2ea-9b0c55f1d3db"
   },
   "outputs": [
    {
     "data": {
      "text/html": [
       "<div>\n",
       "<style scoped>\n",
       "    .dataframe tbody tr th:only-of-type {\n",
       "        vertical-align: middle;\n",
       "    }\n",
       "\n",
       "    .dataframe tbody tr th {\n",
       "        vertical-align: top;\n",
       "    }\n",
       "\n",
       "    .dataframe thead th {\n",
       "        text-align: right;\n",
       "    }\n",
       "</style>\n",
       "<table border=\"1\" class=\"dataframe\">\n",
       "  <thead>\n",
       "    <tr style=\"text-align: right;\">\n",
       "      <th></th>\n",
       "      <th>num</th>\n",
       "      <th>Age__years_</th>\n",
       "      <th>Sex</th>\n",
       "      <th>Presence_of_coronary_artery_dise</th>\n",
       "      <th>Presence_of_cerebrovascula_disea</th>\n",
       "      <th>Presence_of_diabetes</th>\n",
       "      <th>Presence_of_dyslipidemia__hyperc</th>\n",
       "      <th>Smoking_behavior___current_smoki</th>\n",
       "      <th>Smoking_behavior__consumption__</th>\n",
       "      <th>Presence_of_hypertension__yes_no</th>\n",
       "      <th>...</th>\n",
       "      <th>nDBPsdnFix</th>\n",
       "      <th>nHRsdnFix</th>\n",
       "      <th>ARV_SBP</th>\n",
       "      <th>ARV_DBP</th>\n",
       "      <th>ARV_HR</th>\n",
       "      <th>AASI</th>\n",
       "      <th>Day Avg SBP</th>\n",
       "      <th>Day Avg DBP</th>\n",
       "      <th>Night Avg SBP</th>\n",
       "      <th>Night Avg DBP</th>\n",
       "    </tr>\n",
       "  </thead>\n",
       "  <tbody>\n",
       "    <tr>\n",
       "      <th>0</th>\n",
       "      <td>1</td>\n",
       "      <td>42</td>\n",
       "      <td>M</td>\n",
       "      <td>no</td>\n",
       "      <td>no</td>\n",
       "      <td>no</td>\n",
       "      <td>no</td>\n",
       "      <td>yes</td>\n",
       "      <td>28</td>\n",
       "      <td>no</td>\n",
       "      <td>...</td>\n",
       "      <td>21.948370</td>\n",
       "      <td>21.681260</td>\n",
       "      <td>12.865390</td>\n",
       "      <td>10.173080</td>\n",
       "      <td>6.846154</td>\n",
       "      <td>0.370339</td>\n",
       "      <td>28.237500</td>\n",
       "      <td>16.883333</td>\n",
       "      <td>27.364486</td>\n",
       "      <td>16.345794</td>\n",
       "    </tr>\n",
       "    <tr>\n",
       "      <th>1</th>\n",
       "      <td>2</td>\n",
       "      <td>58</td>\n",
       "      <td>M</td>\n",
       "      <td>no</td>\n",
       "      <td>no</td>\n",
       "      <td>no</td>\n",
       "      <td>yes</td>\n",
       "      <td>no</td>\n",
       "      <td>16.25</td>\n",
       "      <td>yes</td>\n",
       "      <td>...</td>\n",
       "      <td>9.672830</td>\n",
       "      <td>4.390071</td>\n",
       "      <td>8.256757</td>\n",
       "      <td>6.148649</td>\n",
       "      <td>6.054054</td>\n",
       "      <td>0.406565</td>\n",
       "      <td>98.740000</td>\n",
       "      <td>56.940000</td>\n",
       "      <td>108.000000</td>\n",
       "      <td>62.305556</td>\n",
       "    </tr>\n",
       "    <tr>\n",
       "      <th>2</th>\n",
       "      <td>5</td>\n",
       "      <td>48</td>\n",
       "      <td>F</td>\n",
       "      <td>no</td>\n",
       "      <td>no</td>\n",
       "      <td>no</td>\n",
       "      <td>yes</td>\n",
       "      <td>yes</td>\n",
       "      <td>18</td>\n",
       "      <td>no</td>\n",
       "      <td>...</td>\n",
       "      <td>8.465169</td>\n",
       "      <td>7.153617</td>\n",
       "      <td>9.131147</td>\n",
       "      <td>7.131147</td>\n",
       "      <td>8.459017</td>\n",
       "      <td>0.427954</td>\n",
       "      <td>70.194444</td>\n",
       "      <td>43.120370</td>\n",
       "      <td>105.228571</td>\n",
       "      <td>63.285714</td>\n",
       "    </tr>\n",
       "    <tr>\n",
       "      <th>3</th>\n",
       "      <td>7</td>\n",
       "      <td>73</td>\n",
       "      <td>M</td>\n",
       "      <td>yes</td>\n",
       "      <td>no</td>\n",
       "      <td>no</td>\n",
       "      <td>yes</td>\n",
       "      <td>no</td>\n",
       "      <td>32</td>\n",
       "      <td>yes</td>\n",
       "      <td>...</td>\n",
       "      <td>10.049320</td>\n",
       "      <td>1.751190</td>\n",
       "      <td>10.222220</td>\n",
       "      <td>8.000000</td>\n",
       "      <td>2.666667</td>\n",
       "      <td>0.497447</td>\n",
       "      <td>65.412844</td>\n",
       "      <td>37.018349</td>\n",
       "      <td>99.789474</td>\n",
       "      <td>55.842105</td>\n",
       "    </tr>\n",
       "    <tr>\n",
       "      <th>4</th>\n",
       "      <td>8</td>\n",
       "      <td>51</td>\n",
       "      <td>M</td>\n",
       "      <td>no</td>\n",
       "      <td>no</td>\n",
       "      <td>yes</td>\n",
       "      <td>no</td>\n",
       "      <td>no</td>\n",
       "      <td>0</td>\n",
       "      <td>yes</td>\n",
       "      <td>...</td>\n",
       "      <td>4.601548</td>\n",
       "      <td>5.247654</td>\n",
       "      <td>10.250000</td>\n",
       "      <td>6.776316</td>\n",
       "      <td>5.552631</td>\n",
       "      <td>0.649434</td>\n",
       "      <td>100.252427</td>\n",
       "      <td>56.825243</td>\n",
       "      <td>105.682927</td>\n",
       "      <td>59.219512</td>\n",
       "    </tr>\n",
       "    <tr>\n",
       "      <th>...</th>\n",
       "      <td>...</td>\n",
       "      <td>...</td>\n",
       "      <td>...</td>\n",
       "      <td>...</td>\n",
       "      <td>...</td>\n",
       "      <td>...</td>\n",
       "      <td>...</td>\n",
       "      <td>...</td>\n",
       "      <td>...</td>\n",
       "      <td>...</td>\n",
       "      <td>...</td>\n",
       "      <td>...</td>\n",
       "      <td>...</td>\n",
       "      <td>...</td>\n",
       "      <td>...</td>\n",
       "      <td>...</td>\n",
       "      <td>...</td>\n",
       "      <td>...</td>\n",
       "      <td>...</td>\n",
       "      <td>...</td>\n",
       "      <td>...</td>\n",
       "    </tr>\n",
       "    <tr>\n",
       "      <th>278</th>\n",
       "      <td>339</td>\n",
       "      <td>53</td>\n",
       "      <td>M</td>\n",
       "      <td>no</td>\n",
       "      <td>no</td>\n",
       "      <td>no</td>\n",
       "      <td>yes</td>\n",
       "      <td>no</td>\n",
       "      <td>8</td>\n",
       "      <td>yes</td>\n",
       "      <td>...</td>\n",
       "      <td>6.726249</td>\n",
       "      <td>6.499417</td>\n",
       "      <td>8.108434</td>\n",
       "      <td>6.674699</td>\n",
       "      <td>10.734940</td>\n",
       "      <td>0.597349</td>\n",
       "      <td>100.138298</td>\n",
       "      <td>62.617021</td>\n",
       "      <td>112.805556</td>\n",
       "      <td>67.666667</td>\n",
       "    </tr>\n",
       "    <tr>\n",
       "      <th>279</th>\n",
       "      <td>340</td>\n",
       "      <td>51</td>\n",
       "      <td>F</td>\n",
       "      <td>no</td>\n",
       "      <td>no</td>\n",
       "      <td>no</td>\n",
       "      <td>no</td>\n",
       "      <td>no</td>\n",
       "      <td>0</td>\n",
       "      <td>no</td>\n",
       "      <td>...</td>\n",
       "      <td>7.559862</td>\n",
       "      <td>3.824760</td>\n",
       "      <td>7.047059</td>\n",
       "      <td>6.411765</td>\n",
       "      <td>6.776471</td>\n",
       "      <td>0.374599</td>\n",
       "      <td>108.369565</td>\n",
       "      <td>68.695652</td>\n",
       "      <td>103.666667</td>\n",
       "      <td>63.564103</td>\n",
       "    </tr>\n",
       "    <tr>\n",
       "      <th>280</th>\n",
       "      <td>341</td>\n",
       "      <td>62</td>\n",
       "      <td>M</td>\n",
       "      <td>no</td>\n",
       "      <td>no</td>\n",
       "      <td>yes</td>\n",
       "      <td>no</td>\n",
       "      <td>no</td>\n",
       "      <td>0</td>\n",
       "      <td>yes</td>\n",
       "      <td>...</td>\n",
       "      <td>7.467505</td>\n",
       "      <td>4.818525</td>\n",
       "      <td>10.047620</td>\n",
       "      <td>7.726191</td>\n",
       "      <td>4.797619</td>\n",
       "      <td>0.406500</td>\n",
       "      <td>126.400000</td>\n",
       "      <td>85.390000</td>\n",
       "      <td>134.358974</td>\n",
       "      <td>85.435897</td>\n",
       "    </tr>\n",
       "    <tr>\n",
       "      <th>281</th>\n",
       "      <td>342</td>\n",
       "      <td>56</td>\n",
       "      <td>M</td>\n",
       "      <td>no</td>\n",
       "      <td>no</td>\n",
       "      <td>no</td>\n",
       "      <td>yes</td>\n",
       "      <td>yes</td>\n",
       "      <td>76</td>\n",
       "      <td>yes</td>\n",
       "      <td>...</td>\n",
       "      <td>9.704732</td>\n",
       "      <td>2.745520</td>\n",
       "      <td>10.078950</td>\n",
       "      <td>5.578948</td>\n",
       "      <td>3.907895</td>\n",
       "      <td>0.520752</td>\n",
       "      <td>89.846154</td>\n",
       "      <td>51.711538</td>\n",
       "      <td>106.550000</td>\n",
       "      <td>60.025000</td>\n",
       "    </tr>\n",
       "    <tr>\n",
       "      <th>282</th>\n",
       "      <td>343</td>\n",
       "      <td>49</td>\n",
       "      <td>M</td>\n",
       "      <td>no</td>\n",
       "      <td>no</td>\n",
       "      <td>yes</td>\n",
       "      <td>yes</td>\n",
       "      <td>no</td>\n",
       "      <td>0</td>\n",
       "      <td>no</td>\n",
       "      <td>...</td>\n",
       "      <td>5.770221</td>\n",
       "      <td>7.153617</td>\n",
       "      <td>10.708330</td>\n",
       "      <td>8.972222</td>\n",
       "      <td>5.708333</td>\n",
       "      <td>0.221953</td>\n",
       "      <td>89.461538</td>\n",
       "      <td>59.721154</td>\n",
       "      <td>116.783784</td>\n",
       "      <td>75.864865</td>\n",
       "    </tr>\n",
       "  </tbody>\n",
       "</table>\n",
       "<p>283 rows × 91 columns</p>\n",
       "</div>"
      ],
      "text/plain": [
       "     num  Age__years_ Sex Presence_of_coronary_artery_dise  \\\n",
       "0      1           42   M                               no   \n",
       "1      2           58   M                               no   \n",
       "2      5           48   F                               no   \n",
       "3      7           73   M                              yes   \n",
       "4      8           51   M                               no   \n",
       "..   ...          ...  ..                              ...   \n",
       "278  339           53   M                               no   \n",
       "279  340           51   F                               no   \n",
       "280  341           62   M                               no   \n",
       "281  342           56   M                               no   \n",
       "282  343           49   M                               no   \n",
       "\n",
       "    Presence_of_cerebrovascula_disea Presence_of_diabetes  \\\n",
       "0                                 no                   no   \n",
       "1                                 no                   no   \n",
       "2                                 no                   no   \n",
       "3                                 no                   no   \n",
       "4                                 no                  yes   \n",
       "..                               ...                  ...   \n",
       "278                               no                   no   \n",
       "279                               no                   no   \n",
       "280                               no                  yes   \n",
       "281                               no                   no   \n",
       "282                               no                  yes   \n",
       "\n",
       "    Presence_of_dyslipidemia__hyperc Smoking_behavior___current_smoki  \\\n",
       "0                                 no                              yes   \n",
       "1                                yes                               no   \n",
       "2                                yes                              yes   \n",
       "3                                yes                               no   \n",
       "4                                 no                               no   \n",
       "..                               ...                              ...   \n",
       "278                              yes                               no   \n",
       "279                               no                               no   \n",
       "280                               no                               no   \n",
       "281                              yes                              yes   \n",
       "282                              yes                               no   \n",
       "\n",
       "    Smoking_behavior__consumption__ Presence_of_hypertension__yes_no  ...  \\\n",
       "0                                28                               no  ...   \n",
       "1                             16.25                              yes  ...   \n",
       "2                                18                               no  ...   \n",
       "3                                32                              yes  ...   \n",
       "4                                 0                              yes  ...   \n",
       "..                              ...                              ...  ...   \n",
       "278                               8                              yes  ...   \n",
       "279                               0                               no  ...   \n",
       "280                               0                              yes  ...   \n",
       "281                              76                              yes  ...   \n",
       "282                               0                               no  ...   \n",
       "\n",
       "    nDBPsdnFix  nHRsdnFix    ARV_SBP    ARV_DBP     ARV_HR      AASI  \\\n",
       "0    21.948370  21.681260  12.865390  10.173080   6.846154  0.370339   \n",
       "1     9.672830   4.390071   8.256757   6.148649   6.054054  0.406565   \n",
       "2     8.465169   7.153617   9.131147   7.131147   8.459017  0.427954   \n",
       "3    10.049320   1.751190  10.222220   8.000000   2.666667  0.497447   \n",
       "4     4.601548   5.247654  10.250000   6.776316   5.552631  0.649434   \n",
       "..         ...        ...        ...        ...        ...       ...   \n",
       "278   6.726249   6.499417   8.108434   6.674699  10.734940  0.597349   \n",
       "279   7.559862   3.824760   7.047059   6.411765   6.776471  0.374599   \n",
       "280   7.467505   4.818525  10.047620   7.726191   4.797619  0.406500   \n",
       "281   9.704732   2.745520  10.078950   5.578948   3.907895  0.520752   \n",
       "282   5.770221   7.153617  10.708330   8.972222   5.708333  0.221953   \n",
       "\n",
       "     Day Avg SBP  Day Avg DBP  Night Avg SBP  Night Avg DBP  \n",
       "0      28.237500    16.883333      27.364486      16.345794  \n",
       "1      98.740000    56.940000     108.000000      62.305556  \n",
       "2      70.194444    43.120370     105.228571      63.285714  \n",
       "3      65.412844    37.018349      99.789474      55.842105  \n",
       "4     100.252427    56.825243     105.682927      59.219512  \n",
       "..           ...          ...            ...            ...  \n",
       "278   100.138298    62.617021     112.805556      67.666667  \n",
       "279   108.369565    68.695652     103.666667      63.564103  \n",
       "280   126.400000    85.390000     134.358974      85.435897  \n",
       "281    89.846154    51.711538     106.550000      60.025000  \n",
       "282    89.461538    59.721154     116.783784      75.864865  \n",
       "\n",
       "[283 rows x 91 columns]"
      ]
     },
     "execution_count": 12,
     "metadata": {},
     "output_type": "execute_result"
    }
   ],
   "source": [
    "combine_data = pd.merge(df_patientfiles, df_merge, on=\"UNID\")\n",
    "\n",
    "combine_data"
   ]
  },
  {
   "cell_type": "code",
   "execution_count": 23,
   "metadata": {},
   "outputs": [
    {
     "name": "stdout",
     "output_type": "stream",
     "text": [
      "num\n",
      "Age__years_\n",
      "Sex\n"
     ]
    },
    {
     "ename": "TypeError",
     "evalue": "Could not convert MMFMMMMMFMMMFFMMMFMMMMMMFMMFMMFFMMFFFMMMFMMMFMFFMMMMFMFFMMMMMFMMFFMMMMMMFFMMMMMFFMMMFFFMMMMMMFFMFMMMFMMMFMMMFMMMMFMMMFMMFFFMMMFMMFMMMMFMMMMMFMMFMMFMMMMMMMMFFMMMMMMMMFFMFMMFMMMFFMFMFFFFMMFMMMMMMMFMFMMMMMMMMMFMFMMMMMMMMMMMFFMMFMMFMMFMMMMMMFMMMMMFFMFFMMMMMMMMFMMFMMMMFMMMFMMMMMFMMFMFMMM to numeric",
     "output_type": "error",
     "traceback": [
      "\u001b[1;31m---------------------------------------------------------------------------\u001b[0m",
      "\u001b[1;31mValueError\u001b[0m                                Traceback (most recent call last)",
      "\u001b[1;32m~\\anaconda3\\lib\\site-packages\\pandas\\core\\nanops.py\u001b[0m in \u001b[0;36m_ensure_numeric\u001b[1;34m(x)\u001b[0m\n\u001b[0;32m   1601\u001b[0m         \u001b[1;32mtry\u001b[0m\u001b[1;33m:\u001b[0m\u001b[1;33m\u001b[0m\u001b[1;33m\u001b[0m\u001b[0m\n\u001b[1;32m-> 1602\u001b[1;33m             \u001b[0mx\u001b[0m \u001b[1;33m=\u001b[0m \u001b[0mfloat\u001b[0m\u001b[1;33m(\u001b[0m\u001b[0mx\u001b[0m\u001b[1;33m)\u001b[0m\u001b[1;33m\u001b[0m\u001b[1;33m\u001b[0m\u001b[0m\n\u001b[0m\u001b[0;32m   1603\u001b[0m         \u001b[1;32mexcept\u001b[0m \u001b[1;33m(\u001b[0m\u001b[0mTypeError\u001b[0m\u001b[1;33m,\u001b[0m \u001b[0mValueError\u001b[0m\u001b[1;33m)\u001b[0m\u001b[1;33m:\u001b[0m\u001b[1;33m\u001b[0m\u001b[1;33m\u001b[0m\u001b[0m\n",
      "\u001b[1;31mValueError\u001b[0m: could not convert string to float: 'MMFMMMMMFMMMFFMMMFMMMMMMFMMFMMFFMMFFFMMMFMMMFMFFMMMMFMFFMMMMMFMMFFMMMMMMFFMMMMMFFMMMFFFMMMMMMFFMFMMMFMMMFMMMFMMMMFMMMFMMFFFMMMFMMFMMMMFMMMMMFMMFMMFMMMMMMMMFFMMMMMMMMFFMFMMFMMMFFMFMFFFFMMFMMMMMMMFMFMMMMMMMMMFMFMMMMMMMMMMMFFMMFMMFMMFMMMMMMFMMMMMFFMFFMMMMMMMMFMMFMMMMFMMMFMMMMMFMMFMFMMM'",
      "\nDuring handling of the above exception, another exception occurred:\n",
      "\u001b[1;31mValueError\u001b[0m                                Traceback (most recent call last)",
      "\u001b[1;32m~\\anaconda3\\lib\\site-packages\\pandas\\core\\nanops.py\u001b[0m in \u001b[0;36m_ensure_numeric\u001b[1;34m(x)\u001b[0m\n\u001b[0;32m   1605\u001b[0m             \u001b[1;32mtry\u001b[0m\u001b[1;33m:\u001b[0m\u001b[1;33m\u001b[0m\u001b[1;33m\u001b[0m\u001b[0m\n\u001b[1;32m-> 1606\u001b[1;33m                 \u001b[0mx\u001b[0m \u001b[1;33m=\u001b[0m \u001b[0mcomplex\u001b[0m\u001b[1;33m(\u001b[0m\u001b[0mx\u001b[0m\u001b[1;33m)\u001b[0m\u001b[1;33m\u001b[0m\u001b[1;33m\u001b[0m\u001b[0m\n\u001b[0m\u001b[0;32m   1607\u001b[0m             \u001b[1;32mexcept\u001b[0m \u001b[0mValueError\u001b[0m \u001b[1;32mas\u001b[0m \u001b[0merr\u001b[0m\u001b[1;33m:\u001b[0m\u001b[1;33m\u001b[0m\u001b[1;33m\u001b[0m\u001b[0m\n",
      "\u001b[1;31mValueError\u001b[0m: complex() arg is a malformed string",
      "\nThe above exception was the direct cause of the following exception:\n",
      "\u001b[1;31mTypeError\u001b[0m                                 Traceback (most recent call last)",
      "\u001b[1;32m~\\AppData\\Local\\Temp/ipykernel_1120/3557469237.py\u001b[0m in \u001b[0;36m<module>\u001b[1;34m\u001b[0m\n\u001b[0;32m      1\u001b[0m \u001b[1;32mfor\u001b[0m \u001b[1;33m(\u001b[0m\u001b[0mcolname\u001b[0m\u001b[1;33m,\u001b[0m\u001b[0mcolval\u001b[0m\u001b[1;33m)\u001b[0m \u001b[1;32min\u001b[0m \u001b[0mcombine_data\u001b[0m\u001b[1;33m.\u001b[0m\u001b[0miteritems\u001b[0m\u001b[1;33m(\u001b[0m\u001b[1;33m)\u001b[0m\u001b[1;33m:\u001b[0m\u001b[1;33m\u001b[0m\u001b[1;33m\u001b[0m\u001b[0m\n\u001b[0;32m      2\u001b[0m     \u001b[0mprint\u001b[0m\u001b[1;33m(\u001b[0m\u001b[0mcolname\u001b[0m\u001b[1;33m)\u001b[0m\u001b[1;33m\u001b[0m\u001b[1;33m\u001b[0m\u001b[0m\n\u001b[1;32m----> 3\u001b[1;33m     \u001b[0mcombine_data\u001b[0m\u001b[1;33m[\u001b[0m\u001b[0mcolname\u001b[0m\u001b[1;33m]\u001b[0m\u001b[1;33m.\u001b[0m\u001b[0mfillna\u001b[0m\u001b[1;33m(\u001b[0m \u001b[0mcombine_data\u001b[0m\u001b[1;33m[\u001b[0m\u001b[0mcolname\u001b[0m\u001b[1;33m]\u001b[0m\u001b[1;33m.\u001b[0m\u001b[0mmean\u001b[0m\u001b[1;33m(\u001b[0m\u001b[1;33m)\u001b[0m\u001b[1;33m)\u001b[0m\u001b[1;33m\u001b[0m\u001b[1;33m\u001b[0m\u001b[0m\n\u001b[0m",
      "\u001b[1;32m~\\anaconda3\\lib\\site-packages\\pandas\\core\\generic.py\u001b[0m in \u001b[0;36mmean\u001b[1;34m(self, axis, skipna, level, numeric_only, **kwargs)\u001b[0m\n\u001b[0;32m  10749\u001b[0m         )\n\u001b[0;32m  10750\u001b[0m         \u001b[1;32mdef\u001b[0m \u001b[0mmean\u001b[0m\u001b[1;33m(\u001b[0m\u001b[0mself\u001b[0m\u001b[1;33m,\u001b[0m \u001b[0maxis\u001b[0m\u001b[1;33m=\u001b[0m\u001b[1;32mNone\u001b[0m\u001b[1;33m,\u001b[0m \u001b[0mskipna\u001b[0m\u001b[1;33m=\u001b[0m\u001b[1;32mNone\u001b[0m\u001b[1;33m,\u001b[0m \u001b[0mlevel\u001b[0m\u001b[1;33m=\u001b[0m\u001b[1;32mNone\u001b[0m\u001b[1;33m,\u001b[0m \u001b[0mnumeric_only\u001b[0m\u001b[1;33m=\u001b[0m\u001b[1;32mNone\u001b[0m\u001b[1;33m,\u001b[0m \u001b[1;33m**\u001b[0m\u001b[0mkwargs\u001b[0m\u001b[1;33m)\u001b[0m\u001b[1;33m:\u001b[0m\u001b[1;33m\u001b[0m\u001b[1;33m\u001b[0m\u001b[0m\n\u001b[1;32m> 10751\u001b[1;33m             \u001b[1;32mreturn\u001b[0m \u001b[0mNDFrame\u001b[0m\u001b[1;33m.\u001b[0m\u001b[0mmean\u001b[0m\u001b[1;33m(\u001b[0m\u001b[0mself\u001b[0m\u001b[1;33m,\u001b[0m \u001b[0maxis\u001b[0m\u001b[1;33m,\u001b[0m \u001b[0mskipna\u001b[0m\u001b[1;33m,\u001b[0m \u001b[0mlevel\u001b[0m\u001b[1;33m,\u001b[0m \u001b[0mnumeric_only\u001b[0m\u001b[1;33m,\u001b[0m \u001b[1;33m**\u001b[0m\u001b[0mkwargs\u001b[0m\u001b[1;33m)\u001b[0m\u001b[1;33m\u001b[0m\u001b[1;33m\u001b[0m\u001b[0m\n\u001b[0m\u001b[0;32m  10752\u001b[0m \u001b[1;33m\u001b[0m\u001b[0m\n\u001b[0;32m  10753\u001b[0m         \u001b[0msetattr\u001b[0m\u001b[1;33m(\u001b[0m\u001b[0mcls\u001b[0m\u001b[1;33m,\u001b[0m \u001b[1;34m\"mean\"\u001b[0m\u001b[1;33m,\u001b[0m \u001b[0mmean\u001b[0m\u001b[1;33m)\u001b[0m\u001b[1;33m\u001b[0m\u001b[1;33m\u001b[0m\u001b[0m\n",
      "\u001b[1;32m~\\anaconda3\\lib\\site-packages\\pandas\\core\\generic.py\u001b[0m in \u001b[0;36mmean\u001b[1;34m(self, axis, skipna, level, numeric_only, **kwargs)\u001b[0m\n\u001b[0;32m  10367\u001b[0m \u001b[1;33m\u001b[0m\u001b[0m\n\u001b[0;32m  10368\u001b[0m     \u001b[1;32mdef\u001b[0m \u001b[0mmean\u001b[0m\u001b[1;33m(\u001b[0m\u001b[0mself\u001b[0m\u001b[1;33m,\u001b[0m \u001b[0maxis\u001b[0m\u001b[1;33m=\u001b[0m\u001b[1;32mNone\u001b[0m\u001b[1;33m,\u001b[0m \u001b[0mskipna\u001b[0m\u001b[1;33m=\u001b[0m\u001b[1;32mNone\u001b[0m\u001b[1;33m,\u001b[0m \u001b[0mlevel\u001b[0m\u001b[1;33m=\u001b[0m\u001b[1;32mNone\u001b[0m\u001b[1;33m,\u001b[0m \u001b[0mnumeric_only\u001b[0m\u001b[1;33m=\u001b[0m\u001b[1;32mNone\u001b[0m\u001b[1;33m,\u001b[0m \u001b[1;33m**\u001b[0m\u001b[0mkwargs\u001b[0m\u001b[1;33m)\u001b[0m\u001b[1;33m:\u001b[0m\u001b[1;33m\u001b[0m\u001b[1;33m\u001b[0m\u001b[0m\n\u001b[1;32m> 10369\u001b[1;33m         return self._stat_function(\n\u001b[0m\u001b[0;32m  10370\u001b[0m             \u001b[1;34m\"mean\"\u001b[0m\u001b[1;33m,\u001b[0m \u001b[0mnanops\u001b[0m\u001b[1;33m.\u001b[0m\u001b[0mnanmean\u001b[0m\u001b[1;33m,\u001b[0m \u001b[0maxis\u001b[0m\u001b[1;33m,\u001b[0m \u001b[0mskipna\u001b[0m\u001b[1;33m,\u001b[0m \u001b[0mlevel\u001b[0m\u001b[1;33m,\u001b[0m \u001b[0mnumeric_only\u001b[0m\u001b[1;33m,\u001b[0m \u001b[1;33m**\u001b[0m\u001b[0mkwargs\u001b[0m\u001b[1;33m\u001b[0m\u001b[1;33m\u001b[0m\u001b[0m\n\u001b[0;32m  10371\u001b[0m         )\n",
      "\u001b[1;32m~\\anaconda3\\lib\\site-packages\\pandas\\core\\generic.py\u001b[0m in \u001b[0;36m_stat_function\u001b[1;34m(self, name, func, axis, skipna, level, numeric_only, **kwargs)\u001b[0m\n\u001b[0;32m  10352\u001b[0m                 \u001b[0mname\u001b[0m\u001b[1;33m,\u001b[0m \u001b[0maxis\u001b[0m\u001b[1;33m=\u001b[0m\u001b[0maxis\u001b[0m\u001b[1;33m,\u001b[0m \u001b[0mlevel\u001b[0m\u001b[1;33m=\u001b[0m\u001b[0mlevel\u001b[0m\u001b[1;33m,\u001b[0m \u001b[0mskipna\u001b[0m\u001b[1;33m=\u001b[0m\u001b[0mskipna\u001b[0m\u001b[1;33m,\u001b[0m \u001b[0mnumeric_only\u001b[0m\u001b[1;33m=\u001b[0m\u001b[0mnumeric_only\u001b[0m\u001b[1;33m\u001b[0m\u001b[1;33m\u001b[0m\u001b[0m\n\u001b[0;32m  10353\u001b[0m             )\n\u001b[1;32m> 10354\u001b[1;33m         return self._reduce(\n\u001b[0m\u001b[0;32m  10355\u001b[0m             \u001b[0mfunc\u001b[0m\u001b[1;33m,\u001b[0m \u001b[0mname\u001b[0m\u001b[1;33m=\u001b[0m\u001b[0mname\u001b[0m\u001b[1;33m,\u001b[0m \u001b[0maxis\u001b[0m\u001b[1;33m=\u001b[0m\u001b[0maxis\u001b[0m\u001b[1;33m,\u001b[0m \u001b[0mskipna\u001b[0m\u001b[1;33m=\u001b[0m\u001b[0mskipna\u001b[0m\u001b[1;33m,\u001b[0m \u001b[0mnumeric_only\u001b[0m\u001b[1;33m=\u001b[0m\u001b[0mnumeric_only\u001b[0m\u001b[1;33m\u001b[0m\u001b[1;33m\u001b[0m\u001b[0m\n\u001b[0;32m  10356\u001b[0m         )\n",
      "\u001b[1;32m~\\anaconda3\\lib\\site-packages\\pandas\\core\\series.py\u001b[0m in \u001b[0;36m_reduce\u001b[1;34m(self, op, name, axis, skipna, numeric_only, filter_type, **kwds)\u001b[0m\n\u001b[0;32m   4390\u001b[0m                 )\n\u001b[0;32m   4391\u001b[0m             \u001b[1;32mwith\u001b[0m \u001b[0mnp\u001b[0m\u001b[1;33m.\u001b[0m\u001b[0merrstate\u001b[0m\u001b[1;33m(\u001b[0m\u001b[0mall\u001b[0m\u001b[1;33m=\u001b[0m\u001b[1;34m\"ignore\"\u001b[0m\u001b[1;33m)\u001b[0m\u001b[1;33m:\u001b[0m\u001b[1;33m\u001b[0m\u001b[1;33m\u001b[0m\u001b[0m\n\u001b[1;32m-> 4392\u001b[1;33m                 \u001b[1;32mreturn\u001b[0m \u001b[0mop\u001b[0m\u001b[1;33m(\u001b[0m\u001b[0mdelegate\u001b[0m\u001b[1;33m,\u001b[0m \u001b[0mskipna\u001b[0m\u001b[1;33m=\u001b[0m\u001b[0mskipna\u001b[0m\u001b[1;33m,\u001b[0m \u001b[1;33m**\u001b[0m\u001b[0mkwds\u001b[0m\u001b[1;33m)\u001b[0m\u001b[1;33m\u001b[0m\u001b[1;33m\u001b[0m\u001b[0m\n\u001b[0m\u001b[0;32m   4393\u001b[0m \u001b[1;33m\u001b[0m\u001b[0m\n\u001b[0;32m   4394\u001b[0m     def _reindex_indexer(\n",
      "\u001b[1;32m~\\anaconda3\\lib\\site-packages\\pandas\\core\\nanops.py\u001b[0m in \u001b[0;36m_f\u001b[1;34m(*args, **kwargs)\u001b[0m\n\u001b[0;32m     91\u001b[0m             \u001b[1;32mtry\u001b[0m\u001b[1;33m:\u001b[0m\u001b[1;33m\u001b[0m\u001b[1;33m\u001b[0m\u001b[0m\n\u001b[0;32m     92\u001b[0m                 \u001b[1;32mwith\u001b[0m \u001b[0mnp\u001b[0m\u001b[1;33m.\u001b[0m\u001b[0merrstate\u001b[0m\u001b[1;33m(\u001b[0m\u001b[0minvalid\u001b[0m\u001b[1;33m=\u001b[0m\u001b[1;34m\"ignore\"\u001b[0m\u001b[1;33m)\u001b[0m\u001b[1;33m:\u001b[0m\u001b[1;33m\u001b[0m\u001b[1;33m\u001b[0m\u001b[0m\n\u001b[1;32m---> 93\u001b[1;33m                     \u001b[1;32mreturn\u001b[0m \u001b[0mf\u001b[0m\u001b[1;33m(\u001b[0m\u001b[1;33m*\u001b[0m\u001b[0margs\u001b[0m\u001b[1;33m,\u001b[0m \u001b[1;33m**\u001b[0m\u001b[0mkwargs\u001b[0m\u001b[1;33m)\u001b[0m\u001b[1;33m\u001b[0m\u001b[1;33m\u001b[0m\u001b[0m\n\u001b[0m\u001b[0;32m     94\u001b[0m             \u001b[1;32mexcept\u001b[0m \u001b[0mValueError\u001b[0m \u001b[1;32mas\u001b[0m \u001b[0me\u001b[0m\u001b[1;33m:\u001b[0m\u001b[1;33m\u001b[0m\u001b[1;33m\u001b[0m\u001b[0m\n\u001b[0;32m     95\u001b[0m                 \u001b[1;31m# we want to transform an object array\u001b[0m\u001b[1;33m\u001b[0m\u001b[1;33m\u001b[0m\u001b[0m\n",
      "\u001b[1;32m~\\anaconda3\\lib\\site-packages\\pandas\\core\\nanops.py\u001b[0m in \u001b[0;36mf\u001b[1;34m(values, axis, skipna, **kwds)\u001b[0m\n\u001b[0;32m    153\u001b[0m                     \u001b[0mresult\u001b[0m \u001b[1;33m=\u001b[0m \u001b[0malt\u001b[0m\u001b[1;33m(\u001b[0m\u001b[0mvalues\u001b[0m\u001b[1;33m,\u001b[0m \u001b[0maxis\u001b[0m\u001b[1;33m=\u001b[0m\u001b[0maxis\u001b[0m\u001b[1;33m,\u001b[0m \u001b[0mskipna\u001b[0m\u001b[1;33m=\u001b[0m\u001b[0mskipna\u001b[0m\u001b[1;33m,\u001b[0m \u001b[1;33m**\u001b[0m\u001b[0mkwds\u001b[0m\u001b[1;33m)\u001b[0m\u001b[1;33m\u001b[0m\u001b[1;33m\u001b[0m\u001b[0m\n\u001b[0;32m    154\u001b[0m             \u001b[1;32melse\u001b[0m\u001b[1;33m:\u001b[0m\u001b[1;33m\u001b[0m\u001b[1;33m\u001b[0m\u001b[0m\n\u001b[1;32m--> 155\u001b[1;33m                 \u001b[0mresult\u001b[0m \u001b[1;33m=\u001b[0m \u001b[0malt\u001b[0m\u001b[1;33m(\u001b[0m\u001b[0mvalues\u001b[0m\u001b[1;33m,\u001b[0m \u001b[0maxis\u001b[0m\u001b[1;33m=\u001b[0m\u001b[0maxis\u001b[0m\u001b[1;33m,\u001b[0m \u001b[0mskipna\u001b[0m\u001b[1;33m=\u001b[0m\u001b[0mskipna\u001b[0m\u001b[1;33m,\u001b[0m \u001b[1;33m**\u001b[0m\u001b[0mkwds\u001b[0m\u001b[1;33m)\u001b[0m\u001b[1;33m\u001b[0m\u001b[1;33m\u001b[0m\u001b[0m\n\u001b[0m\u001b[0;32m    156\u001b[0m \u001b[1;33m\u001b[0m\u001b[0m\n\u001b[0;32m    157\u001b[0m             \u001b[1;32mreturn\u001b[0m \u001b[0mresult\u001b[0m\u001b[1;33m\u001b[0m\u001b[1;33m\u001b[0m\u001b[0m\n",
      "\u001b[1;32m~\\anaconda3\\lib\\site-packages\\pandas\\core\\nanops.py\u001b[0m in \u001b[0;36mnew_func\u001b[1;34m(values, axis, skipna, mask, **kwargs)\u001b[0m\n\u001b[0;32m    408\u001b[0m             \u001b[0mmask\u001b[0m \u001b[1;33m=\u001b[0m \u001b[0misna\u001b[0m\u001b[1;33m(\u001b[0m\u001b[0mvalues\u001b[0m\u001b[1;33m)\u001b[0m\u001b[1;33m\u001b[0m\u001b[1;33m\u001b[0m\u001b[0m\n\u001b[0;32m    409\u001b[0m \u001b[1;33m\u001b[0m\u001b[0m\n\u001b[1;32m--> 410\u001b[1;33m         \u001b[0mresult\u001b[0m \u001b[1;33m=\u001b[0m \u001b[0mfunc\u001b[0m\u001b[1;33m(\u001b[0m\u001b[0mvalues\u001b[0m\u001b[1;33m,\u001b[0m \u001b[0maxis\u001b[0m\u001b[1;33m=\u001b[0m\u001b[0maxis\u001b[0m\u001b[1;33m,\u001b[0m \u001b[0mskipna\u001b[0m\u001b[1;33m=\u001b[0m\u001b[0mskipna\u001b[0m\u001b[1;33m,\u001b[0m \u001b[0mmask\u001b[0m\u001b[1;33m=\u001b[0m\u001b[0mmask\u001b[0m\u001b[1;33m,\u001b[0m \u001b[1;33m**\u001b[0m\u001b[0mkwargs\u001b[0m\u001b[1;33m)\u001b[0m\u001b[1;33m\u001b[0m\u001b[1;33m\u001b[0m\u001b[0m\n\u001b[0m\u001b[0;32m    411\u001b[0m \u001b[1;33m\u001b[0m\u001b[0m\n\u001b[0;32m    412\u001b[0m         \u001b[1;32mif\u001b[0m \u001b[0mdatetimelike\u001b[0m\u001b[1;33m:\u001b[0m\u001b[1;33m\u001b[0m\u001b[1;33m\u001b[0m\u001b[0m\n",
      "\u001b[1;32m~\\anaconda3\\lib\\site-packages\\pandas\\core\\nanops.py\u001b[0m in \u001b[0;36mnanmean\u001b[1;34m(values, axis, skipna, mask)\u001b[0m\n\u001b[0;32m    663\u001b[0m \u001b[1;33m\u001b[0m\u001b[0m\n\u001b[0;32m    664\u001b[0m     \u001b[0mcount\u001b[0m \u001b[1;33m=\u001b[0m \u001b[0m_get_counts\u001b[0m\u001b[1;33m(\u001b[0m\u001b[0mvalues\u001b[0m\u001b[1;33m.\u001b[0m\u001b[0mshape\u001b[0m\u001b[1;33m,\u001b[0m \u001b[0mmask\u001b[0m\u001b[1;33m,\u001b[0m \u001b[0maxis\u001b[0m\u001b[1;33m,\u001b[0m \u001b[0mdtype\u001b[0m\u001b[1;33m=\u001b[0m\u001b[0mdtype_count\u001b[0m\u001b[1;33m)\u001b[0m\u001b[1;33m\u001b[0m\u001b[1;33m\u001b[0m\u001b[0m\n\u001b[1;32m--> 665\u001b[1;33m     \u001b[0mthe_sum\u001b[0m \u001b[1;33m=\u001b[0m \u001b[0m_ensure_numeric\u001b[0m\u001b[1;33m(\u001b[0m\u001b[0mvalues\u001b[0m\u001b[1;33m.\u001b[0m\u001b[0msum\u001b[0m\u001b[1;33m(\u001b[0m\u001b[0maxis\u001b[0m\u001b[1;33m,\u001b[0m \u001b[0mdtype\u001b[0m\u001b[1;33m=\u001b[0m\u001b[0mdtype_sum\u001b[0m\u001b[1;33m)\u001b[0m\u001b[1;33m)\u001b[0m\u001b[1;33m\u001b[0m\u001b[1;33m\u001b[0m\u001b[0m\n\u001b[0m\u001b[0;32m    666\u001b[0m \u001b[1;33m\u001b[0m\u001b[0m\n\u001b[0;32m    667\u001b[0m     \u001b[1;32mif\u001b[0m \u001b[0maxis\u001b[0m \u001b[1;32mis\u001b[0m \u001b[1;32mnot\u001b[0m \u001b[1;32mNone\u001b[0m \u001b[1;32mand\u001b[0m \u001b[0mgetattr\u001b[0m\u001b[1;33m(\u001b[0m\u001b[0mthe_sum\u001b[0m\u001b[1;33m,\u001b[0m \u001b[1;34m\"ndim\"\u001b[0m\u001b[1;33m,\u001b[0m \u001b[1;32mFalse\u001b[0m\u001b[1;33m)\u001b[0m\u001b[1;33m:\u001b[0m\u001b[1;33m\u001b[0m\u001b[1;33m\u001b[0m\u001b[0m\n",
      "\u001b[1;32m~\\anaconda3\\lib\\site-packages\\pandas\\core\\nanops.py\u001b[0m in \u001b[0;36m_ensure_numeric\u001b[1;34m(x)\u001b[0m\n\u001b[0;32m   1607\u001b[0m             \u001b[1;32mexcept\u001b[0m \u001b[0mValueError\u001b[0m \u001b[1;32mas\u001b[0m \u001b[0merr\u001b[0m\u001b[1;33m:\u001b[0m\u001b[1;33m\u001b[0m\u001b[1;33m\u001b[0m\u001b[0m\n\u001b[0;32m   1608\u001b[0m                 \u001b[1;31m# e.g. \"foo\"\u001b[0m\u001b[1;33m\u001b[0m\u001b[1;33m\u001b[0m\u001b[0m\n\u001b[1;32m-> 1609\u001b[1;33m                 \u001b[1;32mraise\u001b[0m \u001b[0mTypeError\u001b[0m\u001b[1;33m(\u001b[0m\u001b[1;34mf\"Could not convert {x} to numeric\"\u001b[0m\u001b[1;33m)\u001b[0m \u001b[1;32mfrom\u001b[0m \u001b[0merr\u001b[0m\u001b[1;33m\u001b[0m\u001b[1;33m\u001b[0m\u001b[0m\n\u001b[0m\u001b[0;32m   1610\u001b[0m     \u001b[1;32mreturn\u001b[0m \u001b[0mx\u001b[0m\u001b[1;33m\u001b[0m\u001b[1;33m\u001b[0m\u001b[0m\n\u001b[0;32m   1611\u001b[0m \u001b[1;33m\u001b[0m\u001b[0m\n",
      "\u001b[1;31mTypeError\u001b[0m: Could not convert MMFMMMMMFMMMFFMMMFMMMMMMFMMFMMFFMMFFFMMMFMMMFMFFMMMMFMFFMMMMMFMMFFMMMMMMFFMMMMMFFMMMFFFMMMMMMFFMFMMMFMMMFMMMFMMMMFMMMFMMFFFMMMFMMFMMMMFMMMMMFMMFMMFMMMMMMMMFFMMMMMMMMFFMFMMFMMMFFMFMFFFFMMFMMMMMMMFMFMMMMMMMMMFMFMMMMMMMMMMMFFMMFMMFMMFMMMMMMFMMMMMFFMFFMMMMMMMMFMMFMMMMFMMMFMMMMMFMMFMFMMM to numeric"
     ]
    }
   ],
   "source": [
    "for (colname,colval) in combine_data.iteritems():\n",
    "    print(colname)\n",
    "    combine_data[colname].fillna( combine_data[colname].mean())"
   ]
  },
  {
   "cell_type": "code",
   "execution_count": 23,
   "metadata": {},
   "outputs": [
    {
     "name": "stdout",
     "output_type": "stream",
     "text": [
      "num\n",
      "Age__years_\n",
      "Sex\n"
     ]
    },
    {
     "ename": "TypeError",
     "evalue": "Could not convert MMFMMMMMFMMMFFMMMFMMMMMMFMMFMMFFMMFFFMMMFMMMFMFFMMMMFMFFMMMMMFMMFFMMMMMMFFMMMMMFFMMMFFFMMMMMMFFMFMMMFMMMFMMMFMMMMFMMMFMMFFFMMMFMMFMMMMFMMMMMFMMFMMFMMMMMMMMFFMMMMMMMMFFMFMMFMMMFFMFMFFFFMMFMMMMMMMFMFMMMMMMMMMFMFMMMMMMMMMMMFFMMFMMFMMFMMMMMMFMMMMMFFMFFMMMMMMMMFMMFMMMMFMMMFMMMMMFMMFMFMMM to numeric",
     "output_type": "error",
     "traceback": [
      "\u001b[1;31m---------------------------------------------------------------------------\u001b[0m",
      "\u001b[1;31mValueError\u001b[0m                                Traceback (most recent call last)",
      "\u001b[1;32m~\\anaconda3\\lib\\site-packages\\pandas\\core\\nanops.py\u001b[0m in \u001b[0;36m_ensure_numeric\u001b[1;34m(x)\u001b[0m\n\u001b[0;32m   1601\u001b[0m         \u001b[1;32mtry\u001b[0m\u001b[1;33m:\u001b[0m\u001b[1;33m\u001b[0m\u001b[1;33m\u001b[0m\u001b[0m\n\u001b[1;32m-> 1602\u001b[1;33m             \u001b[0mx\u001b[0m \u001b[1;33m=\u001b[0m \u001b[0mfloat\u001b[0m\u001b[1;33m(\u001b[0m\u001b[0mx\u001b[0m\u001b[1;33m)\u001b[0m\u001b[1;33m\u001b[0m\u001b[1;33m\u001b[0m\u001b[0m\n\u001b[0m\u001b[0;32m   1603\u001b[0m         \u001b[1;32mexcept\u001b[0m \u001b[1;33m(\u001b[0m\u001b[0mTypeError\u001b[0m\u001b[1;33m,\u001b[0m \u001b[0mValueError\u001b[0m\u001b[1;33m)\u001b[0m\u001b[1;33m:\u001b[0m\u001b[1;33m\u001b[0m\u001b[1;33m\u001b[0m\u001b[0m\n",
      "\u001b[1;31mValueError\u001b[0m: could not convert string to float: 'MMFMMMMMFMMMFFMMMFMMMMMMFMMFMMFFMMFFFMMMFMMMFMFFMMMMFMFFMMMMMFMMFFMMMMMMFFMMMMMFFMMMFFFMMMMMMFFMFMMMFMMMFMMMFMMMMFMMMFMMFFFMMMFMMFMMMMFMMMMMFMMFMMFMMMMMMMMFFMMMMMMMMFFMFMMFMMMFFMFMFFFFMMFMMMMMMMFMFMMMMMMMMMFMFMMMMMMMMMMMFFMMFMMFMMFMMMMMMFMMMMMFFMFFMMMMMMMMFMMFMMMMFMMMFMMMMMFMMFMFMMM'",
      "\nDuring handling of the above exception, another exception occurred:\n",
      "\u001b[1;31mValueError\u001b[0m                                Traceback (most recent call last)",
      "\u001b[1;32m~\\anaconda3\\lib\\site-packages\\pandas\\core\\nanops.py\u001b[0m in \u001b[0;36m_ensure_numeric\u001b[1;34m(x)\u001b[0m\n\u001b[0;32m   1605\u001b[0m             \u001b[1;32mtry\u001b[0m\u001b[1;33m:\u001b[0m\u001b[1;33m\u001b[0m\u001b[1;33m\u001b[0m\u001b[0m\n\u001b[1;32m-> 1606\u001b[1;33m                 \u001b[0mx\u001b[0m \u001b[1;33m=\u001b[0m \u001b[0mcomplex\u001b[0m\u001b[1;33m(\u001b[0m\u001b[0mx\u001b[0m\u001b[1;33m)\u001b[0m\u001b[1;33m\u001b[0m\u001b[1;33m\u001b[0m\u001b[0m\n\u001b[0m\u001b[0;32m   1607\u001b[0m             \u001b[1;32mexcept\u001b[0m \u001b[0mValueError\u001b[0m \u001b[1;32mas\u001b[0m \u001b[0merr\u001b[0m\u001b[1;33m:\u001b[0m\u001b[1;33m\u001b[0m\u001b[1;33m\u001b[0m\u001b[0m\n",
      "\u001b[1;31mValueError\u001b[0m: complex() arg is a malformed string",
      "\nThe above exception was the direct cause of the following exception:\n",
      "\u001b[1;31mTypeError\u001b[0m                                 Traceback (most recent call last)",
      "\u001b[1;32m~\\AppData\\Local\\Temp/ipykernel_1120/3557469237.py\u001b[0m in \u001b[0;36m<module>\u001b[1;34m\u001b[0m\n\u001b[0;32m      1\u001b[0m \u001b[1;32mfor\u001b[0m \u001b[1;33m(\u001b[0m\u001b[0mcolname\u001b[0m\u001b[1;33m,\u001b[0m\u001b[0mcolval\u001b[0m\u001b[1;33m)\u001b[0m \u001b[1;32min\u001b[0m \u001b[0mcombine_data\u001b[0m\u001b[1;33m.\u001b[0m\u001b[0miteritems\u001b[0m\u001b[1;33m(\u001b[0m\u001b[1;33m)\u001b[0m\u001b[1;33m:\u001b[0m\u001b[1;33m\u001b[0m\u001b[1;33m\u001b[0m\u001b[0m\n\u001b[0;32m      2\u001b[0m     \u001b[0mprint\u001b[0m\u001b[1;33m(\u001b[0m\u001b[0mcolname\u001b[0m\u001b[1;33m)\u001b[0m\u001b[1;33m\u001b[0m\u001b[1;33m\u001b[0m\u001b[0m\n\u001b[1;32m----> 3\u001b[1;33m     \u001b[0mcombine_data\u001b[0m\u001b[1;33m[\u001b[0m\u001b[0mcolname\u001b[0m\u001b[1;33m]\u001b[0m\u001b[1;33m.\u001b[0m\u001b[0mfillna\u001b[0m\u001b[1;33m(\u001b[0m \u001b[0mcombine_data\u001b[0m\u001b[1;33m[\u001b[0m\u001b[0mcolname\u001b[0m\u001b[1;33m]\u001b[0m\u001b[1;33m.\u001b[0m\u001b[0mmean\u001b[0m\u001b[1;33m(\u001b[0m\u001b[1;33m)\u001b[0m\u001b[1;33m)\u001b[0m\u001b[1;33m\u001b[0m\u001b[1;33m\u001b[0m\u001b[0m\n\u001b[0m",
      "\u001b[1;32m~\\anaconda3\\lib\\site-packages\\pandas\\core\\generic.py\u001b[0m in \u001b[0;36mmean\u001b[1;34m(self, axis, skipna, level, numeric_only, **kwargs)\u001b[0m\n\u001b[0;32m  10749\u001b[0m         )\n\u001b[0;32m  10750\u001b[0m         \u001b[1;32mdef\u001b[0m \u001b[0mmean\u001b[0m\u001b[1;33m(\u001b[0m\u001b[0mself\u001b[0m\u001b[1;33m,\u001b[0m \u001b[0maxis\u001b[0m\u001b[1;33m=\u001b[0m\u001b[1;32mNone\u001b[0m\u001b[1;33m,\u001b[0m \u001b[0mskipna\u001b[0m\u001b[1;33m=\u001b[0m\u001b[1;32mNone\u001b[0m\u001b[1;33m,\u001b[0m \u001b[0mlevel\u001b[0m\u001b[1;33m=\u001b[0m\u001b[1;32mNone\u001b[0m\u001b[1;33m,\u001b[0m \u001b[0mnumeric_only\u001b[0m\u001b[1;33m=\u001b[0m\u001b[1;32mNone\u001b[0m\u001b[1;33m,\u001b[0m \u001b[1;33m**\u001b[0m\u001b[0mkwargs\u001b[0m\u001b[1;33m)\u001b[0m\u001b[1;33m:\u001b[0m\u001b[1;33m\u001b[0m\u001b[1;33m\u001b[0m\u001b[0m\n\u001b[1;32m> 10751\u001b[1;33m             \u001b[1;32mreturn\u001b[0m \u001b[0mNDFrame\u001b[0m\u001b[1;33m.\u001b[0m\u001b[0mmean\u001b[0m\u001b[1;33m(\u001b[0m\u001b[0mself\u001b[0m\u001b[1;33m,\u001b[0m \u001b[0maxis\u001b[0m\u001b[1;33m,\u001b[0m \u001b[0mskipna\u001b[0m\u001b[1;33m,\u001b[0m \u001b[0mlevel\u001b[0m\u001b[1;33m,\u001b[0m \u001b[0mnumeric_only\u001b[0m\u001b[1;33m,\u001b[0m \u001b[1;33m**\u001b[0m\u001b[0mkwargs\u001b[0m\u001b[1;33m)\u001b[0m\u001b[1;33m\u001b[0m\u001b[1;33m\u001b[0m\u001b[0m\n\u001b[0m\u001b[0;32m  10752\u001b[0m \u001b[1;33m\u001b[0m\u001b[0m\n\u001b[0;32m  10753\u001b[0m         \u001b[0msetattr\u001b[0m\u001b[1;33m(\u001b[0m\u001b[0mcls\u001b[0m\u001b[1;33m,\u001b[0m \u001b[1;34m\"mean\"\u001b[0m\u001b[1;33m,\u001b[0m \u001b[0mmean\u001b[0m\u001b[1;33m)\u001b[0m\u001b[1;33m\u001b[0m\u001b[1;33m\u001b[0m\u001b[0m\n",
      "\u001b[1;32m~\\anaconda3\\lib\\site-packages\\pandas\\core\\generic.py\u001b[0m in \u001b[0;36mmean\u001b[1;34m(self, axis, skipna, level, numeric_only, **kwargs)\u001b[0m\n\u001b[0;32m  10367\u001b[0m \u001b[1;33m\u001b[0m\u001b[0m\n\u001b[0;32m  10368\u001b[0m     \u001b[1;32mdef\u001b[0m \u001b[0mmean\u001b[0m\u001b[1;33m(\u001b[0m\u001b[0mself\u001b[0m\u001b[1;33m,\u001b[0m \u001b[0maxis\u001b[0m\u001b[1;33m=\u001b[0m\u001b[1;32mNone\u001b[0m\u001b[1;33m,\u001b[0m \u001b[0mskipna\u001b[0m\u001b[1;33m=\u001b[0m\u001b[1;32mNone\u001b[0m\u001b[1;33m,\u001b[0m \u001b[0mlevel\u001b[0m\u001b[1;33m=\u001b[0m\u001b[1;32mNone\u001b[0m\u001b[1;33m,\u001b[0m \u001b[0mnumeric_only\u001b[0m\u001b[1;33m=\u001b[0m\u001b[1;32mNone\u001b[0m\u001b[1;33m,\u001b[0m \u001b[1;33m**\u001b[0m\u001b[0mkwargs\u001b[0m\u001b[1;33m)\u001b[0m\u001b[1;33m:\u001b[0m\u001b[1;33m\u001b[0m\u001b[1;33m\u001b[0m\u001b[0m\n\u001b[1;32m> 10369\u001b[1;33m         return self._stat_function(\n\u001b[0m\u001b[0;32m  10370\u001b[0m             \u001b[1;34m\"mean\"\u001b[0m\u001b[1;33m,\u001b[0m \u001b[0mnanops\u001b[0m\u001b[1;33m.\u001b[0m\u001b[0mnanmean\u001b[0m\u001b[1;33m,\u001b[0m \u001b[0maxis\u001b[0m\u001b[1;33m,\u001b[0m \u001b[0mskipna\u001b[0m\u001b[1;33m,\u001b[0m \u001b[0mlevel\u001b[0m\u001b[1;33m,\u001b[0m \u001b[0mnumeric_only\u001b[0m\u001b[1;33m,\u001b[0m \u001b[1;33m**\u001b[0m\u001b[0mkwargs\u001b[0m\u001b[1;33m\u001b[0m\u001b[1;33m\u001b[0m\u001b[0m\n\u001b[0;32m  10371\u001b[0m         )\n",
      "\u001b[1;32m~\\anaconda3\\lib\\site-packages\\pandas\\core\\generic.py\u001b[0m in \u001b[0;36m_stat_function\u001b[1;34m(self, name, func, axis, skipna, level, numeric_only, **kwargs)\u001b[0m\n\u001b[0;32m  10352\u001b[0m                 \u001b[0mname\u001b[0m\u001b[1;33m,\u001b[0m \u001b[0maxis\u001b[0m\u001b[1;33m=\u001b[0m\u001b[0maxis\u001b[0m\u001b[1;33m,\u001b[0m \u001b[0mlevel\u001b[0m\u001b[1;33m=\u001b[0m\u001b[0mlevel\u001b[0m\u001b[1;33m,\u001b[0m \u001b[0mskipna\u001b[0m\u001b[1;33m=\u001b[0m\u001b[0mskipna\u001b[0m\u001b[1;33m,\u001b[0m \u001b[0mnumeric_only\u001b[0m\u001b[1;33m=\u001b[0m\u001b[0mnumeric_only\u001b[0m\u001b[1;33m\u001b[0m\u001b[1;33m\u001b[0m\u001b[0m\n\u001b[0;32m  10353\u001b[0m             )\n\u001b[1;32m> 10354\u001b[1;33m         return self._reduce(\n\u001b[0m\u001b[0;32m  10355\u001b[0m             \u001b[0mfunc\u001b[0m\u001b[1;33m,\u001b[0m \u001b[0mname\u001b[0m\u001b[1;33m=\u001b[0m\u001b[0mname\u001b[0m\u001b[1;33m,\u001b[0m \u001b[0maxis\u001b[0m\u001b[1;33m=\u001b[0m\u001b[0maxis\u001b[0m\u001b[1;33m,\u001b[0m \u001b[0mskipna\u001b[0m\u001b[1;33m=\u001b[0m\u001b[0mskipna\u001b[0m\u001b[1;33m,\u001b[0m \u001b[0mnumeric_only\u001b[0m\u001b[1;33m=\u001b[0m\u001b[0mnumeric_only\u001b[0m\u001b[1;33m\u001b[0m\u001b[1;33m\u001b[0m\u001b[0m\n\u001b[0;32m  10356\u001b[0m         )\n",
      "\u001b[1;32m~\\anaconda3\\lib\\site-packages\\pandas\\core\\series.py\u001b[0m in \u001b[0;36m_reduce\u001b[1;34m(self, op, name, axis, skipna, numeric_only, filter_type, **kwds)\u001b[0m\n\u001b[0;32m   4390\u001b[0m                 )\n\u001b[0;32m   4391\u001b[0m             \u001b[1;32mwith\u001b[0m \u001b[0mnp\u001b[0m\u001b[1;33m.\u001b[0m\u001b[0merrstate\u001b[0m\u001b[1;33m(\u001b[0m\u001b[0mall\u001b[0m\u001b[1;33m=\u001b[0m\u001b[1;34m\"ignore\"\u001b[0m\u001b[1;33m)\u001b[0m\u001b[1;33m:\u001b[0m\u001b[1;33m\u001b[0m\u001b[1;33m\u001b[0m\u001b[0m\n\u001b[1;32m-> 4392\u001b[1;33m                 \u001b[1;32mreturn\u001b[0m \u001b[0mop\u001b[0m\u001b[1;33m(\u001b[0m\u001b[0mdelegate\u001b[0m\u001b[1;33m,\u001b[0m \u001b[0mskipna\u001b[0m\u001b[1;33m=\u001b[0m\u001b[0mskipna\u001b[0m\u001b[1;33m,\u001b[0m \u001b[1;33m**\u001b[0m\u001b[0mkwds\u001b[0m\u001b[1;33m)\u001b[0m\u001b[1;33m\u001b[0m\u001b[1;33m\u001b[0m\u001b[0m\n\u001b[0m\u001b[0;32m   4393\u001b[0m \u001b[1;33m\u001b[0m\u001b[0m\n\u001b[0;32m   4394\u001b[0m     def _reindex_indexer(\n",
      "\u001b[1;32m~\\anaconda3\\lib\\site-packages\\pandas\\core\\nanops.py\u001b[0m in \u001b[0;36m_f\u001b[1;34m(*args, **kwargs)\u001b[0m\n\u001b[0;32m     91\u001b[0m             \u001b[1;32mtry\u001b[0m\u001b[1;33m:\u001b[0m\u001b[1;33m\u001b[0m\u001b[1;33m\u001b[0m\u001b[0m\n\u001b[0;32m     92\u001b[0m                 \u001b[1;32mwith\u001b[0m \u001b[0mnp\u001b[0m\u001b[1;33m.\u001b[0m\u001b[0merrstate\u001b[0m\u001b[1;33m(\u001b[0m\u001b[0minvalid\u001b[0m\u001b[1;33m=\u001b[0m\u001b[1;34m\"ignore\"\u001b[0m\u001b[1;33m)\u001b[0m\u001b[1;33m:\u001b[0m\u001b[1;33m\u001b[0m\u001b[1;33m\u001b[0m\u001b[0m\n\u001b[1;32m---> 93\u001b[1;33m                     \u001b[1;32mreturn\u001b[0m \u001b[0mf\u001b[0m\u001b[1;33m(\u001b[0m\u001b[1;33m*\u001b[0m\u001b[0margs\u001b[0m\u001b[1;33m,\u001b[0m \u001b[1;33m**\u001b[0m\u001b[0mkwargs\u001b[0m\u001b[1;33m)\u001b[0m\u001b[1;33m\u001b[0m\u001b[1;33m\u001b[0m\u001b[0m\n\u001b[0m\u001b[0;32m     94\u001b[0m             \u001b[1;32mexcept\u001b[0m \u001b[0mValueError\u001b[0m \u001b[1;32mas\u001b[0m \u001b[0me\u001b[0m\u001b[1;33m:\u001b[0m\u001b[1;33m\u001b[0m\u001b[1;33m\u001b[0m\u001b[0m\n\u001b[0;32m     95\u001b[0m                 \u001b[1;31m# we want to transform an object array\u001b[0m\u001b[1;33m\u001b[0m\u001b[1;33m\u001b[0m\u001b[0m\n",
      "\u001b[1;32m~\\anaconda3\\lib\\site-packages\\pandas\\core\\nanops.py\u001b[0m in \u001b[0;36mf\u001b[1;34m(values, axis, skipna, **kwds)\u001b[0m\n\u001b[0;32m    153\u001b[0m                     \u001b[0mresult\u001b[0m \u001b[1;33m=\u001b[0m \u001b[0malt\u001b[0m\u001b[1;33m(\u001b[0m\u001b[0mvalues\u001b[0m\u001b[1;33m,\u001b[0m \u001b[0maxis\u001b[0m\u001b[1;33m=\u001b[0m\u001b[0maxis\u001b[0m\u001b[1;33m,\u001b[0m \u001b[0mskipna\u001b[0m\u001b[1;33m=\u001b[0m\u001b[0mskipna\u001b[0m\u001b[1;33m,\u001b[0m \u001b[1;33m**\u001b[0m\u001b[0mkwds\u001b[0m\u001b[1;33m)\u001b[0m\u001b[1;33m\u001b[0m\u001b[1;33m\u001b[0m\u001b[0m\n\u001b[0;32m    154\u001b[0m             \u001b[1;32melse\u001b[0m\u001b[1;33m:\u001b[0m\u001b[1;33m\u001b[0m\u001b[1;33m\u001b[0m\u001b[0m\n\u001b[1;32m--> 155\u001b[1;33m                 \u001b[0mresult\u001b[0m \u001b[1;33m=\u001b[0m \u001b[0malt\u001b[0m\u001b[1;33m(\u001b[0m\u001b[0mvalues\u001b[0m\u001b[1;33m,\u001b[0m \u001b[0maxis\u001b[0m\u001b[1;33m=\u001b[0m\u001b[0maxis\u001b[0m\u001b[1;33m,\u001b[0m \u001b[0mskipna\u001b[0m\u001b[1;33m=\u001b[0m\u001b[0mskipna\u001b[0m\u001b[1;33m,\u001b[0m \u001b[1;33m**\u001b[0m\u001b[0mkwds\u001b[0m\u001b[1;33m)\u001b[0m\u001b[1;33m\u001b[0m\u001b[1;33m\u001b[0m\u001b[0m\n\u001b[0m\u001b[0;32m    156\u001b[0m \u001b[1;33m\u001b[0m\u001b[0m\n\u001b[0;32m    157\u001b[0m             \u001b[1;32mreturn\u001b[0m \u001b[0mresult\u001b[0m\u001b[1;33m\u001b[0m\u001b[1;33m\u001b[0m\u001b[0m\n",
      "\u001b[1;32m~\\anaconda3\\lib\\site-packages\\pandas\\core\\nanops.py\u001b[0m in \u001b[0;36mnew_func\u001b[1;34m(values, axis, skipna, mask, **kwargs)\u001b[0m\n\u001b[0;32m    408\u001b[0m             \u001b[0mmask\u001b[0m \u001b[1;33m=\u001b[0m \u001b[0misna\u001b[0m\u001b[1;33m(\u001b[0m\u001b[0mvalues\u001b[0m\u001b[1;33m)\u001b[0m\u001b[1;33m\u001b[0m\u001b[1;33m\u001b[0m\u001b[0m\n\u001b[0;32m    409\u001b[0m \u001b[1;33m\u001b[0m\u001b[0m\n\u001b[1;32m--> 410\u001b[1;33m         \u001b[0mresult\u001b[0m \u001b[1;33m=\u001b[0m \u001b[0mfunc\u001b[0m\u001b[1;33m(\u001b[0m\u001b[0mvalues\u001b[0m\u001b[1;33m,\u001b[0m \u001b[0maxis\u001b[0m\u001b[1;33m=\u001b[0m\u001b[0maxis\u001b[0m\u001b[1;33m,\u001b[0m \u001b[0mskipna\u001b[0m\u001b[1;33m=\u001b[0m\u001b[0mskipna\u001b[0m\u001b[1;33m,\u001b[0m \u001b[0mmask\u001b[0m\u001b[1;33m=\u001b[0m\u001b[0mmask\u001b[0m\u001b[1;33m,\u001b[0m \u001b[1;33m**\u001b[0m\u001b[0mkwargs\u001b[0m\u001b[1;33m)\u001b[0m\u001b[1;33m\u001b[0m\u001b[1;33m\u001b[0m\u001b[0m\n\u001b[0m\u001b[0;32m    411\u001b[0m \u001b[1;33m\u001b[0m\u001b[0m\n\u001b[0;32m    412\u001b[0m         \u001b[1;32mif\u001b[0m \u001b[0mdatetimelike\u001b[0m\u001b[1;33m:\u001b[0m\u001b[1;33m\u001b[0m\u001b[1;33m\u001b[0m\u001b[0m\n",
      "\u001b[1;32m~\\anaconda3\\lib\\site-packages\\pandas\\core\\nanops.py\u001b[0m in \u001b[0;36mnanmean\u001b[1;34m(values, axis, skipna, mask)\u001b[0m\n\u001b[0;32m    663\u001b[0m \u001b[1;33m\u001b[0m\u001b[0m\n\u001b[0;32m    664\u001b[0m     \u001b[0mcount\u001b[0m \u001b[1;33m=\u001b[0m \u001b[0m_get_counts\u001b[0m\u001b[1;33m(\u001b[0m\u001b[0mvalues\u001b[0m\u001b[1;33m.\u001b[0m\u001b[0mshape\u001b[0m\u001b[1;33m,\u001b[0m \u001b[0mmask\u001b[0m\u001b[1;33m,\u001b[0m \u001b[0maxis\u001b[0m\u001b[1;33m,\u001b[0m \u001b[0mdtype\u001b[0m\u001b[1;33m=\u001b[0m\u001b[0mdtype_count\u001b[0m\u001b[1;33m)\u001b[0m\u001b[1;33m\u001b[0m\u001b[1;33m\u001b[0m\u001b[0m\n\u001b[1;32m--> 665\u001b[1;33m     \u001b[0mthe_sum\u001b[0m \u001b[1;33m=\u001b[0m \u001b[0m_ensure_numeric\u001b[0m\u001b[1;33m(\u001b[0m\u001b[0mvalues\u001b[0m\u001b[1;33m.\u001b[0m\u001b[0msum\u001b[0m\u001b[1;33m(\u001b[0m\u001b[0maxis\u001b[0m\u001b[1;33m,\u001b[0m \u001b[0mdtype\u001b[0m\u001b[1;33m=\u001b[0m\u001b[0mdtype_sum\u001b[0m\u001b[1;33m)\u001b[0m\u001b[1;33m)\u001b[0m\u001b[1;33m\u001b[0m\u001b[1;33m\u001b[0m\u001b[0m\n\u001b[0m\u001b[0;32m    666\u001b[0m \u001b[1;33m\u001b[0m\u001b[0m\n\u001b[0;32m    667\u001b[0m     \u001b[1;32mif\u001b[0m \u001b[0maxis\u001b[0m \u001b[1;32mis\u001b[0m \u001b[1;32mnot\u001b[0m \u001b[1;32mNone\u001b[0m \u001b[1;32mand\u001b[0m \u001b[0mgetattr\u001b[0m\u001b[1;33m(\u001b[0m\u001b[0mthe_sum\u001b[0m\u001b[1;33m,\u001b[0m \u001b[1;34m\"ndim\"\u001b[0m\u001b[1;33m,\u001b[0m \u001b[1;32mFalse\u001b[0m\u001b[1;33m)\u001b[0m\u001b[1;33m:\u001b[0m\u001b[1;33m\u001b[0m\u001b[1;33m\u001b[0m\u001b[0m\n",
      "\u001b[1;32m~\\anaconda3\\lib\\site-packages\\pandas\\core\\nanops.py\u001b[0m in \u001b[0;36m_ensure_numeric\u001b[1;34m(x)\u001b[0m\n\u001b[0;32m   1607\u001b[0m             \u001b[1;32mexcept\u001b[0m \u001b[0mValueError\u001b[0m \u001b[1;32mas\u001b[0m \u001b[0merr\u001b[0m\u001b[1;33m:\u001b[0m\u001b[1;33m\u001b[0m\u001b[1;33m\u001b[0m\u001b[0m\n\u001b[0;32m   1608\u001b[0m                 \u001b[1;31m# e.g. \"foo\"\u001b[0m\u001b[1;33m\u001b[0m\u001b[1;33m\u001b[0m\u001b[0m\n\u001b[1;32m-> 1609\u001b[1;33m                 \u001b[1;32mraise\u001b[0m \u001b[0mTypeError\u001b[0m\u001b[1;33m(\u001b[0m\u001b[1;34mf\"Could not convert {x} to numeric\"\u001b[0m\u001b[1;33m)\u001b[0m \u001b[1;32mfrom\u001b[0m \u001b[0merr\u001b[0m\u001b[1;33m\u001b[0m\u001b[1;33m\u001b[0m\u001b[0m\n\u001b[0m\u001b[0;32m   1610\u001b[0m     \u001b[1;32mreturn\u001b[0m \u001b[0mx\u001b[0m\u001b[1;33m\u001b[0m\u001b[1;33m\u001b[0m\u001b[0m\n\u001b[0;32m   1611\u001b[0m \u001b[1;33m\u001b[0m\u001b[0m\n",
      "\u001b[1;31mTypeError\u001b[0m: Could not convert MMFMMMMMFMMMFFMMMFMMMMMMFMMFMMFFMMFFFMMMFMMMFMFFMMMMFMFFMMMMMFMMFFMMMMMMFFMMMMMFFMMMFFFMMMMMMFFMFMMMFMMMFMMMFMMMMFMMMFMMFFFMMMFMMFMMMMFMMMMMFMMFMMFMMMMMMMMFFMMMMMMMMFFMFMMFMMMFFMFMFFFFMMFMMMMMMMFMFMMMMMMMMMFMFMMMMMMMMMMMFFMMFMMFMMFMMMMMMFMMMMMFFMFFMMMMMMMMFMMFMMMMFMMMFMMMMMFMMFMFMMM to numeric"
     ]
    }
   ],
   "source": [
    "for (colname,colval) in combine_data.iteritems():\n",
    "    print(colname)\n",
    "    combine_data.replace('MD', mean_value, regex=True)"
   ]
  },
  {
   "cell_type": "code",
   "execution_count": null,
   "metadata": {},
   "outputs": [],
   "source": [
    " combine_data.replace('history', 1\"\", regex=True)\n",
    "     combine_data.replace('MD', mean_value, regex=True)\n",
    "         combine_data.replace('MD', mean_value, regex=True) combine_data.replace('MD', mean_value, regex=True)\n",
    "             combine_data.replace('MD', mean_value, regex=True)"
   ]
  },
  {
   "cell_type": "code",
   "execution_count": 14,
   "metadata": {
    "colab": {
     "base_uri": "https://localhost:8080/"
    },
    "executionInfo": {
     "elapsed": 758,
     "status": "ok",
     "timestamp": 1653991887446,
     "user": {
      "displayName": "Riya Saha",
      "userId": "06182650084884906727"
     },
     "user_tz": -60
    },
    "id": "lVMZ844mfm8H",
    "outputId": "93f3c52d-1b0c-46f7-d91b-0935823e1fa6"
   },
   "outputs": [
    {
     "data": {
      "text/plain": [
       "num                                 0\n",
       "Age__years_                         0\n",
       "Sex                                 0\n",
       "Presence_of_coronary_artery_dise    0\n",
       "Presence_of_cerebrovascula_disea    0\n",
       "                                   ..\n",
       "AASI                                0\n",
       "Day Avg SBP                         0\n",
       "Day Avg DBP                         0\n",
       "Night Avg SBP                       0\n",
       "Night Avg DBP                       0\n",
       "Length: 91, dtype: int64"
      ]
     },
     "execution_count": 14,
     "metadata": {},
     "output_type": "execute_result"
    }
   ],
   "source": [
    "combine_data.to_csv(r'C:\\Users\\RCMS\\Downloads\\Machine Learning - BP Project - BCD 299-20220810T141111Z-001 (1)\\Machine Learning - BP Project - BCD 299/combine_datasets.csv', index=False)\n",
    "combine_data.isnull().sum()"
   ]
  },
  {
   "cell_type": "code",
   "execution_count": 12,
   "metadata": {
    "executionInfo": {
     "elapsed": 744,
     "status": "ok",
     "timestamp": 1653991887447,
     "user": {
      "displayName": "Riya Saha",
      "userId": "06182650084884906727"
     },
     "user_tz": -60
    },
    "id": "Mqn9p3SIgCxA"
   },
   "outputs": [],
   "source": [
    "missing_v1 = combine_data.isnull().sum().to_frame()\n",
    "missing_v1.to_csv(\"/content/drive/MyDrive/Data Science Projects/OSA Project PhD/Datasets/BP Time series alignment /BP_missing_v1.csv\")"
   ]
  },
  {
   "cell_type": "code",
   "execution_count": 15,
   "metadata": {
    "executionInfo": {
     "elapsed": 744,
     "status": "ok",
     "timestamp": 1653991887448,
     "user": {
      "displayName": "Riya Saha",
      "userId": "06182650084884906727"
     },
     "user_tz": -60
    },
    "id": "XLspolMHpL5F"
   },
   "outputs": [],
   "source": [
    "combine_data['OSA_Severity']='N'\n",
    "#Then replace the N with the number representing the severity of OSA value\n",
    "#(Normal=1, Mild=2, Moderate=3, Severe=4)\n",
    "\n",
    "for i in range(0,len(combine_data)):\n",
    "    if combine_data.loc[i,'AHI_tot']<=5:\n",
    "        combine_data.loc[i,'OSA_Severity']='1'\n",
    "    elif combine_data.loc[i,'AHI_tot']<=15:\n",
    "        combine_data.loc[i,'OSA_Severity']='2'\n",
    "    elif combine_data.loc[i,'AHI_tot']<=30:\n",
    "        combine_data.loc[i,'OSA_Severity']='3'\n",
    "    elif combine_data.loc[i,'AHI_tot']>30:\n",
    "        combine_data.loc[i,'OSA_Severity']='4'\n",
    "#print(combine_data)\n"
   ]
  },
  {
   "cell_type": "code",
   "execution_count": 16,
   "metadata": {
    "executionInfo": {
     "elapsed": 745,
     "status": "ok",
     "timestamp": 1653991887449,
     "user": {
      "displayName": "Riya Saha",
      "userId": "06182650084884906727"
     },
     "user_tz": -60
    },
    "id": "VPi56fmGh5Nc"
   },
   "outputs": [],
   "source": [
    "combine_data.to_csv(r'C:\\Users\\RCMS\\Downloads\\Machine Learning - BP Project - BCD 299-20220810T141111Z-001 (1)\\Machine Learning - BP Project - BCD 299/combine_OSA_severity.csv', index=False)"
   ]
  },
  {
   "cell_type": "code",
   "execution_count": 17,
   "metadata": {
    "colab": {
     "base_uri": "https://localhost:8080/"
    },
    "executionInfo": {
     "elapsed": 745,
     "status": "ok",
     "timestamp": 1653991887450,
     "user": {
      "displayName": "Riya Saha",
      "userId": "06182650084884906727"
     },
     "user_tz": -60
    },
    "id": "58dqGN9WqNa8",
    "outputId": "371dc98f-d28b-416b-f8e5-f20f68180e4b"
   },
   "outputs": [
    {
     "data": {
      "text/plain": [
       "4    193\n",
       "3     83\n",
       "2      7\n",
       "Name: OSA_Severity, dtype: int64"
      ]
     },
     "execution_count": 17,
     "metadata": {},
     "output_type": "execute_result"
    }
   ],
   "source": [
    "combine_data['OSA_Severity'].value_counts()"
   ]
  },
  {
   "cell_type": "code",
   "execution_count": 18,
   "metadata": {
    "executionInfo": {
     "elapsed": 145,
     "status": "ok",
     "timestamp": 1653991887450,
     "user": {
      "displayName": "Riya Saha",
      "userId": "06182650084884906727"
     },
     "user_tz": -60
    },
    "id": "_3JdMLmkoQYn"
   },
   "outputs": [
    {
     "ename": "KeyError",
     "evalue": "\"None of [Index(['0', '1', '2', '3', '4', '5', '6', '7', '8', '9', '10', '11', '12',\\n       '13', '14', '15', '16', '17', '18', '19', '20', '21', '22', '23'],\\n      dtype='object')] are in the [columns]\"",
     "output_type": "error",
     "traceback": [
      "\u001b[1;31m---------------------------------------------------------------------------\u001b[0m",
      "\u001b[1;31mKeyError\u001b[0m                                  Traceback (most recent call last)",
      "\u001b[1;32m~\\AppData\\Local\\Temp/ipykernel_1120/3870169668.py\u001b[0m in \u001b[0;36m<module>\u001b[1;34m\u001b[0m\n\u001b[1;32m----> 1\u001b[1;33m \u001b[0mfeatures\u001b[0m \u001b[1;33m=\u001b[0m \u001b[0mcombine_data\u001b[0m\u001b[1;33m[\u001b[0m\u001b[1;33m[\u001b[0m\u001b[1;34m'0'\u001b[0m\u001b[1;33m,\u001b[0m \u001b[1;34m'1'\u001b[0m\u001b[1;33m,\u001b[0m\u001b[1;34m'2'\u001b[0m\u001b[1;33m,\u001b[0m\u001b[1;34m'3'\u001b[0m\u001b[1;33m,\u001b[0m\u001b[1;34m'4'\u001b[0m\u001b[1;33m,\u001b[0m\u001b[1;34m'5'\u001b[0m\u001b[1;33m,\u001b[0m\u001b[1;34m'6'\u001b[0m\u001b[1;33m,\u001b[0m\u001b[1;34m'7'\u001b[0m\u001b[1;33m,\u001b[0m\u001b[1;34m'8'\u001b[0m\u001b[1;33m,\u001b[0m\u001b[1;34m'9'\u001b[0m\u001b[1;33m,\u001b[0m\u001b[1;34m'10'\u001b[0m\u001b[1;33m,\u001b[0m\u001b[1;34m'11'\u001b[0m\u001b[1;33m,\u001b[0m\u001b[1;34m'12'\u001b[0m\u001b[1;33m,\u001b[0m\u001b[1;34m'13'\u001b[0m\u001b[1;33m,\u001b[0m\u001b[1;34m'14'\u001b[0m\u001b[1;33m,\u001b[0m\u001b[1;34m'15'\u001b[0m\u001b[1;33m,\u001b[0m\u001b[1;34m'16'\u001b[0m\u001b[1;33m,\u001b[0m\u001b[1;34m'17'\u001b[0m\u001b[1;33m,\u001b[0m\u001b[1;34m'18'\u001b[0m\u001b[1;33m,\u001b[0m\u001b[1;34m'19'\u001b[0m\u001b[1;33m,\u001b[0m\u001b[1;34m'20'\u001b[0m\u001b[1;33m,\u001b[0m\u001b[1;34m'21'\u001b[0m\u001b[1;33m,\u001b[0m\u001b[1;34m'22'\u001b[0m\u001b[1;33m,\u001b[0m\u001b[1;34m'23'\u001b[0m\u001b[1;33m]\u001b[0m\u001b[1;33m]\u001b[0m\u001b[1;33m\u001b[0m\u001b[1;33m\u001b[0m\u001b[0m\n\u001b[0m\u001b[0;32m      2\u001b[0m \u001b[0mtarget\u001b[0m \u001b[1;33m=\u001b[0m \u001b[0mcombine_data\u001b[0m\u001b[1;33m[\u001b[0m\u001b[1;33m[\u001b[0m\u001b[1;34m\"OSA_Severity\"\u001b[0m\u001b[1;33m]\u001b[0m\u001b[1;33m]\u001b[0m\u001b[1;33m\u001b[0m\u001b[1;33m\u001b[0m\u001b[0m\n",
      "\u001b[1;32m~\\anaconda3\\lib\\site-packages\\pandas\\core\\frame.py\u001b[0m in \u001b[0;36m__getitem__\u001b[1;34m(self, key)\u001b[0m\n\u001b[0;32m   3462\u001b[0m             \u001b[1;32mif\u001b[0m \u001b[0mis_iterator\u001b[0m\u001b[1;33m(\u001b[0m\u001b[0mkey\u001b[0m\u001b[1;33m)\u001b[0m\u001b[1;33m:\u001b[0m\u001b[1;33m\u001b[0m\u001b[1;33m\u001b[0m\u001b[0m\n\u001b[0;32m   3463\u001b[0m                 \u001b[0mkey\u001b[0m \u001b[1;33m=\u001b[0m \u001b[0mlist\u001b[0m\u001b[1;33m(\u001b[0m\u001b[0mkey\u001b[0m\u001b[1;33m)\u001b[0m\u001b[1;33m\u001b[0m\u001b[1;33m\u001b[0m\u001b[0m\n\u001b[1;32m-> 3464\u001b[1;33m             \u001b[0mindexer\u001b[0m \u001b[1;33m=\u001b[0m \u001b[0mself\u001b[0m\u001b[1;33m.\u001b[0m\u001b[0mloc\u001b[0m\u001b[1;33m.\u001b[0m\u001b[0m_get_listlike_indexer\u001b[0m\u001b[1;33m(\u001b[0m\u001b[0mkey\u001b[0m\u001b[1;33m,\u001b[0m \u001b[0maxis\u001b[0m\u001b[1;33m=\u001b[0m\u001b[1;36m1\u001b[0m\u001b[1;33m)\u001b[0m\u001b[1;33m[\u001b[0m\u001b[1;36m1\u001b[0m\u001b[1;33m]\u001b[0m\u001b[1;33m\u001b[0m\u001b[1;33m\u001b[0m\u001b[0m\n\u001b[0m\u001b[0;32m   3465\u001b[0m \u001b[1;33m\u001b[0m\u001b[0m\n\u001b[0;32m   3466\u001b[0m         \u001b[1;31m# take() does not accept boolean indexers\u001b[0m\u001b[1;33m\u001b[0m\u001b[1;33m\u001b[0m\u001b[0m\n",
      "\u001b[1;32m~\\anaconda3\\lib\\site-packages\\pandas\\core\\indexing.py\u001b[0m in \u001b[0;36m_get_listlike_indexer\u001b[1;34m(self, key, axis)\u001b[0m\n\u001b[0;32m   1312\u001b[0m             \u001b[0mkeyarr\u001b[0m\u001b[1;33m,\u001b[0m \u001b[0mindexer\u001b[0m\u001b[1;33m,\u001b[0m \u001b[0mnew_indexer\u001b[0m \u001b[1;33m=\u001b[0m \u001b[0max\u001b[0m\u001b[1;33m.\u001b[0m\u001b[0m_reindex_non_unique\u001b[0m\u001b[1;33m(\u001b[0m\u001b[0mkeyarr\u001b[0m\u001b[1;33m)\u001b[0m\u001b[1;33m\u001b[0m\u001b[1;33m\u001b[0m\u001b[0m\n\u001b[0;32m   1313\u001b[0m \u001b[1;33m\u001b[0m\u001b[0m\n\u001b[1;32m-> 1314\u001b[1;33m         \u001b[0mself\u001b[0m\u001b[1;33m.\u001b[0m\u001b[0m_validate_read_indexer\u001b[0m\u001b[1;33m(\u001b[0m\u001b[0mkeyarr\u001b[0m\u001b[1;33m,\u001b[0m \u001b[0mindexer\u001b[0m\u001b[1;33m,\u001b[0m \u001b[0maxis\u001b[0m\u001b[1;33m)\u001b[0m\u001b[1;33m\u001b[0m\u001b[1;33m\u001b[0m\u001b[0m\n\u001b[0m\u001b[0;32m   1315\u001b[0m \u001b[1;33m\u001b[0m\u001b[0m\n\u001b[0;32m   1316\u001b[0m         if needs_i8_conversion(ax.dtype) or isinstance(\n",
      "\u001b[1;32m~\\anaconda3\\lib\\site-packages\\pandas\\core\\indexing.py\u001b[0m in \u001b[0;36m_validate_read_indexer\u001b[1;34m(self, key, indexer, axis)\u001b[0m\n\u001b[0;32m   1372\u001b[0m                 \u001b[1;32mif\u001b[0m \u001b[0muse_interval_msg\u001b[0m\u001b[1;33m:\u001b[0m\u001b[1;33m\u001b[0m\u001b[1;33m\u001b[0m\u001b[0m\n\u001b[0;32m   1373\u001b[0m                     \u001b[0mkey\u001b[0m \u001b[1;33m=\u001b[0m \u001b[0mlist\u001b[0m\u001b[1;33m(\u001b[0m\u001b[0mkey\u001b[0m\u001b[1;33m)\u001b[0m\u001b[1;33m\u001b[0m\u001b[1;33m\u001b[0m\u001b[0m\n\u001b[1;32m-> 1374\u001b[1;33m                 \u001b[1;32mraise\u001b[0m \u001b[0mKeyError\u001b[0m\u001b[1;33m(\u001b[0m\u001b[1;34mf\"None of [{key}] are in the [{axis_name}]\"\u001b[0m\u001b[1;33m)\u001b[0m\u001b[1;33m\u001b[0m\u001b[1;33m\u001b[0m\u001b[0m\n\u001b[0m\u001b[0;32m   1375\u001b[0m \u001b[1;33m\u001b[0m\u001b[0m\n\u001b[0;32m   1376\u001b[0m             \u001b[0mnot_found\u001b[0m \u001b[1;33m=\u001b[0m \u001b[0mlist\u001b[0m\u001b[1;33m(\u001b[0m\u001b[0mensure_index\u001b[0m\u001b[1;33m(\u001b[0m\u001b[0mkey\u001b[0m\u001b[1;33m)\u001b[0m\u001b[1;33m[\u001b[0m\u001b[0mmissing_mask\u001b[0m\u001b[1;33m.\u001b[0m\u001b[0mnonzero\u001b[0m\u001b[1;33m(\u001b[0m\u001b[1;33m)\u001b[0m\u001b[1;33m[\u001b[0m\u001b[1;36m0\u001b[0m\u001b[1;33m]\u001b[0m\u001b[1;33m]\u001b[0m\u001b[1;33m.\u001b[0m\u001b[0munique\u001b[0m\u001b[1;33m(\u001b[0m\u001b[1;33m)\u001b[0m\u001b[1;33m)\u001b[0m\u001b[1;33m\u001b[0m\u001b[1;33m\u001b[0m\u001b[0m\n",
      "\u001b[1;31mKeyError\u001b[0m: \"None of [Index(['0', '1', '2', '3', '4', '5', '6', '7', '8', '9', '10', '11', '12',\\n       '13', '14', '15', '16', '17', '18', '19', '20', '21', '22', '23'],\\n      dtype='object')] are in the [columns]\""
     ]
    }
   ],
   "source": [
    "features = combine_data.iloc['0', '1','2','3','4','5','6','7','8','9','10','11','12','13','14','15','16','17','18','19','20','21','22','23']\n",
    "target = combine_data[[\"OSA_Severity\"]]"
   ]
  },
  {
   "cell_type": "code",
   "execution_count": 17,
   "metadata": {
    "executionInfo": {
     "elapsed": 443,
     "status": "ok",
     "timestamp": 1653991887748,
     "user": {
      "displayName": "Riya Saha",
      "userId": "06182650084884906727"
     },
     "user_tz": -60
    },
    "id": "8d-xuUipoQiw"
   },
   "outputs": [],
   "source": [
    "from sklearn.naive_bayes import GaussianNB\n",
    "from sklearn.tree import DecisionTreeClassifier\n",
    "from sklearn.ensemble import RandomForestClassifier\n",
    "from sklearn.ensemble import AdaBoostClassifier\n",
    "from sklearn.ensemble import GradientBoostingClassifier\n",
    "from sklearn import neighbors\n",
    "from sklearn.linear_model import SGDClassifier\n",
    "from sklearn import svm\n",
    "from sklearn.neural_network import MLPClassifier\n",
    "nb = GaussianNB()\n",
    "dt = DecisionTreeClassifier(max_depth=None, min_samples_split=2,random_state=0)\n",
    "rf = RandomForestClassifier(n_estimators=100, random_state=0)\n",
    "ada = AdaBoostClassifier(n_estimators=100)\n",
    "gb = GradientBoostingClassifier(n_estimators=100, learning_rate=1.0,max_depth=1, random_state=0)\n",
    "knn = neighbors.KNeighborsClassifier(10)\n",
    "sgd = SGDClassifier(loss=\"hinge\", penalty=\"l2\", max_iter=1000)\n",
    "svm_rbf = svm.SVC()\n",
    "svm_poly = svm.SVC(kernel='poly')\n",
    "svm_linear = svm.SVC(kernel='linear')\n",
    "svm_sigmoid = svm.SVC(kernel='sigmoid')\n",
    "mlp_1 = MLPClassifier(solver='adam', alpha=1e-5, hidden_layer_sizes=(30), random_state=1, max_iter=10000)\n",
    "mlp_2 = MLPClassifier(solver='adam', alpha=1e-5, hidden_layer_sizes=(15, 25), random_state=1, max_iter=10000)\n",
    "mlp_3 = MLPClassifier(solver='adam', alpha=1e-5, hidden_layer_sizes=(15, 22, 30), random_state=1, max_iter=10000)\n",
    "\n",
    "classifiers = {\n",
    "    \"NB\" : nb,\n",
    "    \"DT\" : dt,\n",
    "    \"RF\" : rf,\n",
    "    \"ADA\": ada,\n",
    "    \"GB\" : gb,\n",
    "    \"KNN\": knn,\n",
    "    \"SGD\": sgd,\n",
    "    \"SVM_RBF\" : svm_rbf,\n",
    "    \"SVM_POLY\" : svm_poly,\n",
    "    #\"SVM_LINEAR\" : svm_linear,\n",
    "    \"SVM_SIGMOID\" : svm_sigmoid,\n",
    "    \"MLP_1\" : mlp_1,\n",
    "    \"MLP_2\" : mlp_2,\n",
    "    \"MLP_3\" : mlp_3\n",
    "}"
   ]
  },
  {
   "cell_type": "code",
   "execution_count": 18,
   "metadata": {
    "colab": {
     "base_uri": "https://localhost:8080/"
    },
    "executionInfo": {
     "elapsed": 35030,
     "status": "ok",
     "timestamp": 1653991922769,
     "user": {
      "displayName": "Riya Saha",
      "userId": "06182650084884906727"
     },
     "user_tz": -60
    },
    "id": "K2hlMjA7rMlS",
    "outputId": "22da4c9b-0493-40b8-df8a-aebfa8a6f9ee"
   },
   "outputs": [
    {
     "name": "stdout",
     "output_type": "stream",
     "text": [
      "NB 0.4743 0.1012 0.0102\n",
      "DT 0.4945 0.069 0.0048\n",
      "RF 0.6325 0.0392 0.0015\n",
      "ADA 0.583 0.0727 0.0053\n",
      "GB 0.5121 0.0972 0.0094\n",
      "KNN 0.5895 0.0609 0.0037\n",
      "SGD 0.5713 0.1403 0.0197\n",
      "SVM_RBF 0.6819 0.0051 0.0\n",
      "SVM_POLY 0.5506 0.0592 0.0035\n",
      "SVM_SIGMOID 0.6819 0.0051 0.0\n",
      "MLP_1 0.5727 0.0958 0.0092\n",
      "MLP_2 0.5868 0.039 0.0015\n",
      "MLP_3 0.6038 0.0591 0.0035\n"
     ]
    }
   ],
   "source": [
    "from sklearn.model_selection import cross_val_score\n",
    "\n",
    "for classifier in classifiers:\n",
    "      scores = cross_val_score(classifiers[classifier], features, target.values.ravel(), cv=10)\n",
    "      print(classifier, round(np.mean(scores), 4), round(np.std(scores), 4), round(np.var(scores), 4)) "
   ]
  },
  {
   "cell_type": "code",
   "execution_count": 19,
   "metadata": {
    "executionInfo": {
     "elapsed": 20,
     "status": "ok",
     "timestamp": 1653991922771,
     "user": {
      "displayName": "Riya Saha",
      "userId": "06182650084884906727"
     },
     "user_tz": -60
    },
    "id": "Batq_gn1rSkk"
   },
   "outputs": [],
   "source": [
    "combine_data = combine_data.drop(columns = ['PWV','MBP24','MBPsd24_1','dSBPnFix','dMBPnFix','dDBPnFix','dHRnFix','dSBPsdnFix','dMBPsdnFix','dDBPsdnFix','dHRsdnFix','nSBPnFix','nMBPnFix','nDBPnFix','nHRnFix','nSBPsdnFix','nMBPsdnFix','nDBPsdnFix','nHRsdnFix'])"
   ]
  },
  {
   "cell_type": "code",
   "execution_count": 20,
   "metadata": {
    "executionInfo": {
     "elapsed": 20,
     "status": "ok",
     "timestamp": 1653991922772,
     "user": {
      "displayName": "Riya Saha",
      "userId": "06182650084884906727"
     },
     "user_tz": -60
    },
    "id": "WujM9uKcrSsn"
   },
   "outputs": [],
   "source": [
    "missing_v2 = combine_data.isnull().sum().to_frame()\n",
    "missing_v2.to_csv(\"/content/drive/MyDrive/Data Science Projects/OSA Project PhD/Datasets/BP Time series alignment /BP_missing_v2.csv\")"
   ]
  },
  {
   "cell_type": "code",
   "execution_count": 21,
   "metadata": {
    "executionInfo": {
     "elapsed": 20,
     "status": "ok",
     "timestamp": 1653991922773,
     "user": {
      "displayName": "Riya Saha",
      "userId": "06182650084884906727"
     },
     "user_tz": -60
    },
    "id": "ftJMysdWrSui"
   },
   "outputs": [],
   "source": [
    "# one hot encoding\n",
    "\n",
    "one_hot_sex = pd.get_dummies(combine_data['Sex'])\n",
    "combine_data = combine_data.drop(['Sex'],axis = 1)\n",
    "combine_data = combine_data.join(one_hot_sex)\n",
    "\n",
    "one_hot_Presence_of_coronary_artery_dise = pd.get_dummies(combine_data['Presence_of_coronary_artery_dise'])\n",
    "combine_data = combine_data.drop(['Presence_of_coronary_artery_dise'],axis = 1)\n",
    "combine_data = combine_data.join(one_hot_Presence_of_coronary_artery_dise)\n",
    "\n",
    "\n",
    "one_hot_Presence_of_cerebrovascula_disea = pd.get_dummies(combine_data['Presence_of_cerebrovascula_disea'])\n",
    "\n",
    "one_hot_Presence_of_diabetes = pd.get_dummies(combine_data['Presence_of_diabetes'])\n",
    "\n",
    "one_hot_Presence_of_dyslipidemia__hyperc = pd.get_dummies(combine_data['Presence_of_dyslipidemia__hyperc'])\n",
    "\n",
    "one_hot_Smoking_behavior___current_smoki = pd.get_dummies(combine_data['Smoking_behavior___current_smoki'])\n",
    "\n",
    "one_hot_Presence_of_hypertension__yes_no = pd.get_dummies(combine_data['Presence_of_hypertension__yes_no'])\n",
    "\n",
    "#one_hot_Details_of_history_of_hyperten = pd.get_dummies(combine_data['Details_of_history_of_hyperten'])\n"
   ]
  },
  {
   "cell_type": "code",
   "execution_count": 22,
   "metadata": {
    "executionInfo": {
     "elapsed": 20,
     "status": "ok",
     "timestamp": 1653991922774,
     "user": {
      "displayName": "Riya Saha",
      "userId": "06182650084884906727"
     },
     "user_tz": -60
    },
    "id": "W3kmrjcg9Ju1"
   },
   "outputs": [],
   "source": [
    "one_hot_Presence_of_cerebrovascula_disea.columns = ['cerebrovascula_no','cerebrovascula_yes']\n",
    "#one_hot_Presence_of_cerebrovascula_disea\n",
    "\n",
    "combine_data = combine_data.drop(['Presence_of_cerebrovascula_disea'],axis = 1)\n",
    "combine_data = combine_data.join(one_hot_Presence_of_cerebrovascula_disea)\n"
   ]
  },
  {
   "cell_type": "code",
   "execution_count": 23,
   "metadata": {
    "executionInfo": {
     "elapsed": 21,
     "status": "ok",
     "timestamp": 1653991922775,
     "user": {
      "displayName": "Riya Saha",
      "userId": "06182650084884906727"
     },
     "user_tz": -60
    },
    "id": "_zBqPHsj9Mdj"
   },
   "outputs": [],
   "source": [
    "one_hot_Presence_of_diabetes.columns = ['diabetes_no','diabetes_yes']\n",
    "#one_hot_Presence_of_diabetes\n",
    "\n",
    "combine_data = combine_data.drop(['Presence_of_diabetes'],axis = 1)\n",
    "combine_data = combine_data.join(one_hot_Presence_of_diabetes)"
   ]
  },
  {
   "cell_type": "code",
   "execution_count": 24,
   "metadata": {
    "executionInfo": {
     "elapsed": 21,
     "status": "ok",
     "timestamp": 1653991922776,
     "user": {
      "displayName": "Riya Saha",
      "userId": "06182650084884906727"
     },
     "user_tz": -60
    },
    "id": "XtI8HkAL9NJ-"
   },
   "outputs": [],
   "source": [
    "one_hot_Presence_of_dyslipidemia__hyperc.columns = ['dyslipidemia_no','dyslipidemia_yes']\n",
    "#one_hot_Presence_of_dyslipidemia__hyperc\n",
    "\n",
    "combine_data = combine_data.drop(['Presence_of_dyslipidemia__hyperc'],axis = 1)\n",
    "combine_data = combine_data.join(one_hot_Presence_of_dyslipidemia__hyperc)"
   ]
  },
  {
   "cell_type": "code",
   "execution_count": 25,
   "metadata": {
    "executionInfo": {
     "elapsed": 21,
     "status": "ok",
     "timestamp": 1653991922776,
     "user": {
      "displayName": "Riya Saha",
      "userId": "06182650084884906727"
     },
     "user_tz": -60
    },
    "id": "91QYrgMS9Ppq"
   },
   "outputs": [],
   "source": [
    "one_hot_Smoking_behavior___current_smoki.columns = ['Smoking_behavior_no','Smoking_behavior_yes']\n",
    "\n",
    "combine_data = combine_data.drop(['Smoking_behavior___current_smoki'],axis = 1)\n",
    "combine_data = combine_data.join(one_hot_Smoking_behavior___current_smoki)"
   ]
  },
  {
   "cell_type": "code",
   "execution_count": 26,
   "metadata": {
    "executionInfo": {
     "elapsed": 21,
     "status": "ok",
     "timestamp": 1653991922777,
     "user": {
      "displayName": "Riya Saha",
      "userId": "06182650084884906727"
     },
     "user_tz": -60
    },
    "id": "NlQfywA49Tg_"
   },
   "outputs": [],
   "source": [
    "one_hot_Presence_of_hypertension__yes_no.columns = ['hypertension_no','hypertension_yes']\n",
    "\n",
    "combine_data = combine_data.drop(['Presence_of_hypertension__yes_no'],axis = 1)\n",
    "combine_data = combine_data.join(one_hot_Presence_of_hypertension__yes_no)"
   ]
  },
  {
   "cell_type": "code",
   "execution_count": 27,
   "metadata": {
    "executionInfo": {
     "elapsed": 4,
     "status": "ok",
     "timestamp": 1653991923175,
     "user": {
      "displayName": "Riya Saha",
      "userId": "06182650084884906727"
     },
     "user_tz": -60
    },
    "id": "6IjvRr3r9Tu0"
   },
   "outputs": [],
   "source": [
    "#one_hot_Details_of_history_of_hyperten.columns = ['history_no','history_yes']\n",
    "\n",
    "#one_hot_Details_of_history_of_hyperten.head(n=283)\n",
    "#one_hot_Details_of_history_of_hyperten\n",
    "\n",
    "#combine_data = combine_data.drop(['Details_of_history_of_hyperten'],axis = 1)\n",
    "#combine_data = combine_data.join(one_hot_Details_of_history_of_hyperten)"
   ]
  },
  {
   "cell_type": "code",
   "execution_count": 28,
   "metadata": {
    "executionInfo": {
     "elapsed": 5,
     "status": "ok",
     "timestamp": 1653991923176,
     "user": {
      "displayName": "Riya Saha",
      "userId": "06182650084884906727"
     },
     "user_tz": -60
    },
    "id": "qM9wNJwu9bA4"
   },
   "outputs": [],
   "source": [
    "combine_data = combine_data.replace(['nohistory of HT reported'], ['-999999999999'])\n",
    "\n",
    "combine_data = combine_data.replace(['MD'], ['-999999999999'])\n",
    "\n",
    "combine_data = combine_data.replace(['nan'], ['-999999999999'])"
   ]
  },
  {
   "cell_type": "code",
   "execution_count": 29,
   "metadata": {
    "executionInfo": {
     "elapsed": 225,
     "status": "ok",
     "timestamp": 1653992050418,
     "user": {
      "displayName": "Riya Saha",
      "userId": "06182650084884906727"
     },
     "user_tz": -60
    },
    "id": "ejrS1MiEmhMq"
   },
   "outputs": [],
   "source": [
    "\n",
    "features2 = combine_data.drop([\"OSA_Severity\"],axis=1)\n",
    "target2 = combine_data[[\"OSA_Severity\"]]"
   ]
  },
  {
   "cell_type": "code",
   "execution_count": 32,
   "metadata": {
    "colab": {
     "base_uri": "https://localhost:8080/"
    },
    "executionInfo": {
     "elapsed": 24585,
     "status": "ok",
     "timestamp": 1653992245874,
     "user": {
      "displayName": "Riya Saha",
      "userId": "06182650084884906727"
     },
     "user_tz": -60
    },
    "id": "XXEAMEX8m8uR",
    "outputId": "a95cf6cc-167a-4254-b868-fe1f374930fa"
   },
   "outputs": [
    {
     "name": "stdout",
     "output_type": "stream",
     "text": [
      "NB 0.4743 0.1012 0.0102\n",
      "DT 0.4945 0.069 0.0048\n",
      "RF 0.6325 0.0392 0.0015\n",
      "ADA 0.583 0.0727 0.0053\n",
      "GB 0.5121 0.0972 0.0094\n",
      "KNN 0.5895 0.0609 0.0037\n",
      "SGD 0.6569 0.057 0.0032\n",
      "SVM_RBF 0.6819 0.0051 0.0\n",
      "SVM_POLY 0.5506 0.0592 0.0035\n",
      "SVM_SIGMOID 0.6819 0.0051 0.0\n",
      "MLP_1 0.5727 0.0958 0.0092\n",
      "MLP_2 0.5868 0.039 0.0015\n",
      "MLP_3 0.6038 0.0591 0.0035\n"
     ]
    }
   ],
   "source": [
    "for classifier2 in classifiers:\n",
    "      scores = cross_val_score(classifiers[classifier2], features, target.values.ravel(), cv=10)\n",
    "      print(classifier2, round(np.mean(scores), 4), round(np.std(scores), 4), round(np.var(scores), 4)) "
   ]
  },
  {
   "cell_type": "code",
   "execution_count": null,
   "metadata": {
    "id": "OaImItZ1nMP2"
   },
   "outputs": [],
   "source": [
    "datapro2=datapro2[\"dMBPnFix\"].fillna(datapro2[\"dMBPnFix\"].mean())\n",
    "datapro2=datapro2[\"dDBPnFix\"].fillna(datapro2[\"dDBPnFix\"].mean())\n",
    "datapro2=datapro2[\"dHRnFix\"].fillna(datapro2[\"dHRnFix\"].mean())\n",
    "datapro2=datapro2[\"dSBPsdnFix\"].fillna(datapro2[\"dSBPsdnFix\"].mean())\n",
    "datapro2=datapro2[\"dMBPsdnFix\"].fillna(datapro2[\"dMBPsdnFix\"].mean())\n",
    "datapro2=datapro2[\"dDBPsdnFix\"].fillna(datapro2[\"dDBPsdnFix\"].mean())\n",
    "datapro2=datapro2[\"dHRsdnFix\"].fillna(datapro2[\"dHRsdnFix\"].mean())\n",
    "datapro2=datapro2[\"nSBPnFix\"].fillna(datapro2[\"nSBPnFix\"].mean())\n",
    "datapro2=datapro2[\"nMBPnFix\"].fillna(datapro2[\"nMBPnFix\"].mean())\n",
    "datapro2=datapro2[\"nDBPnFix\"].fillna(datapro2[\"nDBPnFix\"].mean())\n",
    "datapro2=datapro2[\"nHRnFix\"].fillna(datapro2[\"nHRnFix\"].mean())     \n",
    "datapro2=datapro2[\"nSBPsdnFix\"].fillna(datapro2[\"nSBPsdnFix\"].mean())\n",
    "datapro2=datapro2[\"nMBPsdnFix\"].fillna(datapro2[\"nMBPsdnFix\"].mean())\n",
    "datapro2=datapro2[\"nDBPsdnFix\"].fillna(datapro2[\"nDBPsdnFix\"].mean())\n",
    "datapro2=datapro2[\"nHRsdnFix\"].fillna(datapro2[\"nHRsdnFix\"].mean())"
   ]
  }
 ],
 "metadata": {
  "colab": {
   "authorship_tag": "ABX9TyMIZOVek3Lu6Zj7t3OBZgse",
   "mount_file_id": "1ttokFv8T-iFtNshwmcFWrRFS-I1O1nI7",
   "name": "combine1.ipynb",
   "provenance": []
  },
  "kernelspec": {
   "display_name": "Python 3 (ipykernel)",
   "language": "python",
   "name": "python3"
  },
  "language_info": {
   "codemirror_mode": {
    "name": "ipython",
    "version": 3
   },
   "file_extension": ".py",
   "mimetype": "text/x-python",
   "name": "python",
   "nbconvert_exporter": "python",
   "pygments_lexer": "ipython3",
   "version": "3.9.7"
  }
 },
 "nbformat": 4,
 "nbformat_minor": 1
}
