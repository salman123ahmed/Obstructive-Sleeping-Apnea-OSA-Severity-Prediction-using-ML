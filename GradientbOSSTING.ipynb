{
 "cells": [
  {
   "cell_type": "code",
   "execution_count": 1,
   "id": "8acc889a",
   "metadata": {},
   "outputs": [],
   "source": [
    "from sklearn.datasets import make_hastie_10_2\n",
    "from sklearn.ensemble import GradientBoostingClassifier\n",
    "import pandas as pd\n",
    "import numpy as np\n",
    "data = pd.read_csv(r\"C:\\Users\\mtalha.msbi20rcms\\Downloads\\Machine Learning - BP Project - BCD 299-20220810T141111Z-001 (1)\\Machine Learning - BP Project - BCD 299\\Processedversion2.csv\")"
   ]
  },
  {
   "cell_type": "code",
   "execution_count": 2,
   "id": "cc206cf1",
   "metadata": {},
   "outputs": [
    {
     "data": {
      "text/plain": [
       "(                                     UNID  Age__years_  Sex  \\\n",
       " 278  83616881-54a1-47c6-882d-328e44f119ae           53    1   \n",
       " 279  e5224cff-00f5-4b58-9389-3505db7a5559           51    0   \n",
       " 280  952dccfd-42b9-4d7c-960b-927ac519282a           62    1   \n",
       " 281  f356f0fc-24a1-49cd-bc46-d21db3cd2a8a           56    1   \n",
       " 282  40a4ff35-d5fd-4756-b321-a938e9487e65           49    1   \n",
       " \n",
       "      Presence_of_coronary_artery_dise  Presence_of_cerebrovascula_disea  \\\n",
       " 278                                 0                                 0   \n",
       " 279                                 0                                 0   \n",
       " 280                                 0                                 0   \n",
       " 281                                 0                                 0   \n",
       " 282                                 0                                 0   \n",
       " \n",
       "      Presence_of_diabetes  Presence_of_dyslipidemia__hyperc  \\\n",
       " 278                     0                                 1   \n",
       " 279                     0                                 0   \n",
       " 280                     1                                 0   \n",
       " 281                     0                                 1   \n",
       " 282                     1                                 1   \n",
       " \n",
       "      Smoking_behavior___current_smoki  Smoking_behavior__consumption__  \\\n",
       " 278                                 0                              8.0   \n",
       " 279                                 0                              0.0   \n",
       " 280                                 0                              0.0   \n",
       " 281                                 1                             76.0   \n",
       " 282                                 0                              0.0   \n",
       " \n",
       "      Presence_of_hypertension__yes_no  ...  nHRsdnFix    ARV_SBP   ARV_DBP  \\\n",
       " 278                                 1  ...   6.499417   8.108434  6.674699   \n",
       " 279                                 0  ...   3.824760   7.047059  6.411765   \n",
       " 280                                 1  ...   4.818525  10.047620  7.726191   \n",
       " 281                                 1  ...   2.745520  10.078950  5.578948   \n",
       " 282                                 0  ...   7.153617  10.708330  8.972222   \n",
       " \n",
       "         ARV_HR      AASI  Day Avg SBP  Day Avg DBP  Night Avg SBP  \\\n",
       " 278  10.734940  0.597349   100.138298    62.617021     112.805556   \n",
       " 279   6.776471  0.374599   108.369565    68.695652     103.666667   \n",
       " 280   4.797619  0.406500   126.400000    85.390000     134.358974   \n",
       " 281   3.907895  0.520752    89.846154    51.711538     106.550000   \n",
       " 282   5.708333  0.221953    89.461538    59.721154     116.783784   \n",
       " \n",
       "      Night Avg DBP  OSA_Severity  \n",
       " 278      67.666667             4  \n",
       " 279      63.564103             4  \n",
       " 280      85.435897             3  \n",
       " 281      60.025000             4  \n",
       " 282      75.864865             4  \n",
       " \n",
       " [5 rows x 90 columns],\n",
       "                                    UNID  Age__years_  Sex  \\\n",
       " 0  d1e81ac5-d7f3-4e83-aa02-6b36f517fc60           42    1   \n",
       " 1  100b6949-5b84-47c8-b8f5-cc24db323288           58    1   \n",
       " 2  fc7f9de0-f972-438f-8c04-e47fee2b4d7e           48    0   \n",
       " 3  a758b176-096d-4b6b-a2ff-29c572b56db9           73    1   \n",
       " 4  d012f10b-5add-49ac-b2bf-dd6e94567d01           51    1   \n",
       " \n",
       "    Presence_of_coronary_artery_dise  Presence_of_cerebrovascula_disea  \\\n",
       " 0                                 0                                 0   \n",
       " 1                                 0                                 0   \n",
       " 2                                 0                                 0   \n",
       " 3                                 1                                 0   \n",
       " 4                                 0                                 0   \n",
       " \n",
       "    Presence_of_diabetes  Presence_of_dyslipidemia__hyperc  \\\n",
       " 0                     0                                 0   \n",
       " 1                     0                                 1   \n",
       " 2                     0                                 1   \n",
       " 3                     0                                 1   \n",
       " 4                     1                                 0   \n",
       " \n",
       "    Smoking_behavior___current_smoki  Smoking_behavior__consumption__  \\\n",
       " 0                                 1                            28.00   \n",
       " 1                                 0                            16.25   \n",
       " 2                                 1                            18.00   \n",
       " 3                                 0                            32.00   \n",
       " 4                                 0                             0.00   \n",
       " \n",
       "    Presence_of_hypertension__yes_no  ...  nHRsdnFix    ARV_SBP    ARV_DBP  \\\n",
       " 0                                 0  ...  21.681260  12.865390  10.173080   \n",
       " 1                                 1  ...   4.390071   8.256757   6.148649   \n",
       " 2                                 0  ...   7.153617   9.131147   7.131147   \n",
       " 3                                 1  ...   1.751190  10.222220   8.000000   \n",
       " 4                                 1  ...   5.247654  10.250000   6.776316   \n",
       " \n",
       "      ARV_HR      AASI  Day Avg SBP  Day Avg DBP  Night Avg SBP  Night Avg DBP  \\\n",
       " 0  6.846154  0.370339    28.237500    16.883333      27.364486      16.345794   \n",
       " 1  6.054054  0.406565    98.740000    56.940000     108.000000      62.305556   \n",
       " 2  8.459017  0.427954    70.194444    43.120370     105.228571      63.285714   \n",
       " 3  2.666667  0.497447    65.412844    37.018349      99.789474      55.842105   \n",
       " 4  5.552631  0.649434   100.252427    56.825243     105.682927      59.219512   \n",
       " \n",
       "    OSA_Severity  \n",
       " 0             4  \n",
       " 1             4  \n",
       " 2             3  \n",
       " 3             4  \n",
       " 4             4  \n",
       " \n",
       " [5 rows x 90 columns])"
      ]
     },
     "execution_count": 2,
     "metadata": {},
     "output_type": "execute_result"
    }
   ],
   "source": [
    "data.tail(), data.head()"
   ]
  },
  {
   "cell_type": "code",
   "execution_count": 3,
   "id": "8708196e",
   "metadata": {},
   "outputs": [],
   "source": [
    "from sklearn.model_selection import train_test_split\n",
    "training_set, test_set = train_test_split(data, test_size = 0.3, random_state = 1)"
   ]
  },
  {
   "cell_type": "code",
   "execution_count": 6,
   "id": "90736892",
   "metadata": {},
   "outputs": [],
   "source": [
    "X_train = training_set.iloc[:,1:89].values\n",
    "Y_train = training_set.iloc[:,89].values\n",
    "X_test = test_set.iloc[:,1:89].values\n",
    "Y_test = test_set.iloc[:,89].values"
   ]
  },
  {
   "cell_type": "code",
   "execution_count": 7,
   "id": "881e9f68",
   "metadata": {},
   "outputs": [
    {
     "data": {
      "text/plain": [
       "1.0"
      ]
     },
     "execution_count": 7,
     "metadata": {},
     "output_type": "execute_result"
    }
   ],
   "source": [
    "clf = GradientBoostingClassifier(n_estimators=100, learning_rate=1.0, max_depth=1, random_state=0).fit(X_train, Y_train)\n",
    "clf.score(X_test, Y_test)"
   ]
  },
  {
   "cell_type": "code",
   "execution_count": 10,
   "id": "e6efb208",
   "metadata": {},
   "outputs": [
    {
     "ename": "ValueError",
     "evalue": "Classification metrics can't handle a mix of continuous-multioutput and multiclass targets",
     "output_type": "error",
     "traceback": [
      "\u001b[1;31m---------------------------------------------------------------------------\u001b[0m",
      "\u001b[1;31mValueError\u001b[0m                                Traceback (most recent call last)",
      "\u001b[1;32mC:\\Users\\MTALHA~1.MSB\\AppData\\Local\\Temp/ipykernel_16380/2210166193.py\u001b[0m in \u001b[0;36m<module>\u001b[1;34m\u001b[0m\n\u001b[0;32m      1\u001b[0m \u001b[1;32mfrom\u001b[0m \u001b[0msklearn\u001b[0m\u001b[1;33m.\u001b[0m\u001b[0mmetrics\u001b[0m  \u001b[1;32mimport\u001b[0m \u001b[0mprecision_score\u001b[0m\u001b[1;33m,\u001b[0m\u001b[0mrecall_score\u001b[0m\u001b[1;33m,\u001b[0m\u001b[0maccuracy_score\u001b[0m\u001b[1;33m,\u001b[0m\u001b[0mf1_score\u001b[0m\u001b[1;33m\u001b[0m\u001b[1;33m\u001b[0m\u001b[0m\n\u001b[1;32m----> 2\u001b[1;33m \u001b[0mprint\u001b[0m\u001b[1;33m(\u001b[0m\u001b[1;34m'Precision Score :'\u001b[0m \u001b[1;33m,\u001b[0m\u001b[0mprecision_score\u001b[0m\u001b[1;33m(\u001b[0m\u001b[0mX_test\u001b[0m\u001b[1;33m,\u001b[0m \u001b[0mY_test\u001b[0m\u001b[1;33m,\u001b[0m \u001b[0mpos_label\u001b[0m\u001b[1;33m=\u001b[0m\u001b[1;34m'positive'\u001b[0m\u001b[1;33m,\u001b[0m\u001b[0maverage\u001b[0m\u001b[1;33m=\u001b[0m\u001b[1;34m'micro'\u001b[0m\u001b[1;33m)\u001b[0m\u001b[1;33m)\u001b[0m\u001b[1;33m\u001b[0m\u001b[1;33m\u001b[0m\u001b[0m\n\u001b[0m\u001b[0;32m      3\u001b[0m \u001b[0mprint\u001b[0m\u001b[1;33m(\u001b[0m\u001b[1;34m'Recall Score :'\u001b[0m\u001b[1;33m,\u001b[0m\u001b[0mrecall_score\u001b[0m\u001b[1;33m(\u001b[0m\u001b[0mX_test\u001b[0m\u001b[1;33m,\u001b[0m \u001b[0mY_test\u001b[0m\u001b[1;33m,\u001b[0m  \u001b[0mpos_label\u001b[0m\u001b[1;33m=\u001b[0m\u001b[1;34m'positive'\u001b[0m\u001b[1;33m,\u001b[0m \u001b[0maverage\u001b[0m\u001b[1;33m=\u001b[0m\u001b[1;34m'micro'\u001b[0m\u001b[1;33m)\u001b[0m\u001b[1;33m)\u001b[0m\u001b[1;33m\u001b[0m\u001b[1;33m\u001b[0m\u001b[0m\n\u001b[0;32m      4\u001b[0m \u001b[0mprint\u001b[0m\u001b[1;33m(\u001b[0m\u001b[1;34m'Accuracy: %.2f'\u001b[0m \u001b[1;33m%\u001b[0m \u001b[0maccuracy_score\u001b[0m\u001b[1;33m(\u001b[0m\u001b[0mX_test\u001b[0m\u001b[1;33m,\u001b[0m \u001b[0mY_test\u001b[0m\u001b[1;33m)\u001b[0m\u001b[1;33m)\u001b[0m\u001b[1;33m\u001b[0m\u001b[1;33m\u001b[0m\u001b[0m\n\u001b[0;32m      5\u001b[0m \u001b[0mprint\u001b[0m\u001b[1;33m(\u001b[0m\u001b[1;34m'F1 Score: %.2f'\u001b[0m \u001b[1;33m%\u001b[0m \u001b[0mf1_score\u001b[0m\u001b[1;33m(\u001b[0m\u001b[0mX_test\u001b[0m\u001b[1;33m,\u001b[0m \u001b[0mY_test\u001b[0m\u001b[1;33m,\u001b[0m \u001b[0mpos_label\u001b[0m\u001b[1;33m=\u001b[0m\u001b[1;34m'positive'\u001b[0m\u001b[1;33m,\u001b[0m\u001b[0maverage\u001b[0m\u001b[1;33m=\u001b[0m\u001b[1;34m'micro'\u001b[0m\u001b[1;33m)\u001b[0m\u001b[1;33m)\u001b[0m\u001b[1;33m\u001b[0m\u001b[1;33m\u001b[0m\u001b[0m\n",
      "\u001b[1;32m~\\Anaconda3\\lib\\site-packages\\sklearn\\utils\\validation.py\u001b[0m in \u001b[0;36minner_f\u001b[1;34m(*args, **kwargs)\u001b[0m\n\u001b[0;32m     61\u001b[0m             \u001b[0mextra_args\u001b[0m \u001b[1;33m=\u001b[0m \u001b[0mlen\u001b[0m\u001b[1;33m(\u001b[0m\u001b[0margs\u001b[0m\u001b[1;33m)\u001b[0m \u001b[1;33m-\u001b[0m \u001b[0mlen\u001b[0m\u001b[1;33m(\u001b[0m\u001b[0mall_args\u001b[0m\u001b[1;33m)\u001b[0m\u001b[1;33m\u001b[0m\u001b[1;33m\u001b[0m\u001b[0m\n\u001b[0;32m     62\u001b[0m             \u001b[1;32mif\u001b[0m \u001b[0mextra_args\u001b[0m \u001b[1;33m<=\u001b[0m \u001b[1;36m0\u001b[0m\u001b[1;33m:\u001b[0m\u001b[1;33m\u001b[0m\u001b[1;33m\u001b[0m\u001b[0m\n\u001b[1;32m---> 63\u001b[1;33m                 \u001b[1;32mreturn\u001b[0m \u001b[0mf\u001b[0m\u001b[1;33m(\u001b[0m\u001b[1;33m*\u001b[0m\u001b[0margs\u001b[0m\u001b[1;33m,\u001b[0m \u001b[1;33m**\u001b[0m\u001b[0mkwargs\u001b[0m\u001b[1;33m)\u001b[0m\u001b[1;33m\u001b[0m\u001b[1;33m\u001b[0m\u001b[0m\n\u001b[0m\u001b[0;32m     64\u001b[0m \u001b[1;33m\u001b[0m\u001b[0m\n\u001b[0;32m     65\u001b[0m             \u001b[1;31m# extra_args > 0\u001b[0m\u001b[1;33m\u001b[0m\u001b[1;33m\u001b[0m\u001b[0m\n",
      "\u001b[1;32m~\\Anaconda3\\lib\\site-packages\\sklearn\\metrics\\_classification.py\u001b[0m in \u001b[0;36mprecision_score\u001b[1;34m(y_true, y_pred, labels, pos_label, average, sample_weight, zero_division)\u001b[0m\n\u001b[0;32m   1654\u001b[0m \u001b[1;33m\u001b[0m\u001b[0m\n\u001b[0;32m   1655\u001b[0m     \"\"\"\n\u001b[1;32m-> 1656\u001b[1;33m     p, _, _, _ = precision_recall_fscore_support(y_true, y_pred,\n\u001b[0m\u001b[0;32m   1657\u001b[0m                                                  \u001b[0mlabels\u001b[0m\u001b[1;33m=\u001b[0m\u001b[0mlabels\u001b[0m\u001b[1;33m,\u001b[0m\u001b[1;33m\u001b[0m\u001b[1;33m\u001b[0m\u001b[0m\n\u001b[0;32m   1658\u001b[0m                                                  \u001b[0mpos_label\u001b[0m\u001b[1;33m=\u001b[0m\u001b[0mpos_label\u001b[0m\u001b[1;33m,\u001b[0m\u001b[1;33m\u001b[0m\u001b[1;33m\u001b[0m\u001b[0m\n",
      "\u001b[1;32m~\\Anaconda3\\lib\\site-packages\\sklearn\\utils\\validation.py\u001b[0m in \u001b[0;36minner_f\u001b[1;34m(*args, **kwargs)\u001b[0m\n\u001b[0;32m     61\u001b[0m             \u001b[0mextra_args\u001b[0m \u001b[1;33m=\u001b[0m \u001b[0mlen\u001b[0m\u001b[1;33m(\u001b[0m\u001b[0margs\u001b[0m\u001b[1;33m)\u001b[0m \u001b[1;33m-\u001b[0m \u001b[0mlen\u001b[0m\u001b[1;33m(\u001b[0m\u001b[0mall_args\u001b[0m\u001b[1;33m)\u001b[0m\u001b[1;33m\u001b[0m\u001b[1;33m\u001b[0m\u001b[0m\n\u001b[0;32m     62\u001b[0m             \u001b[1;32mif\u001b[0m \u001b[0mextra_args\u001b[0m \u001b[1;33m<=\u001b[0m \u001b[1;36m0\u001b[0m\u001b[1;33m:\u001b[0m\u001b[1;33m\u001b[0m\u001b[1;33m\u001b[0m\u001b[0m\n\u001b[1;32m---> 63\u001b[1;33m                 \u001b[1;32mreturn\u001b[0m \u001b[0mf\u001b[0m\u001b[1;33m(\u001b[0m\u001b[1;33m*\u001b[0m\u001b[0margs\u001b[0m\u001b[1;33m,\u001b[0m \u001b[1;33m**\u001b[0m\u001b[0mkwargs\u001b[0m\u001b[1;33m)\u001b[0m\u001b[1;33m\u001b[0m\u001b[1;33m\u001b[0m\u001b[0m\n\u001b[0m\u001b[0;32m     64\u001b[0m \u001b[1;33m\u001b[0m\u001b[0m\n\u001b[0;32m     65\u001b[0m             \u001b[1;31m# extra_args > 0\u001b[0m\u001b[1;33m\u001b[0m\u001b[1;33m\u001b[0m\u001b[0m\n",
      "\u001b[1;32m~\\Anaconda3\\lib\\site-packages\\sklearn\\metrics\\_classification.py\u001b[0m in \u001b[0;36mprecision_recall_fscore_support\u001b[1;34m(y_true, y_pred, beta, labels, pos_label, average, warn_for, sample_weight, zero_division)\u001b[0m\n\u001b[0;32m   1462\u001b[0m     \u001b[1;32mif\u001b[0m \u001b[0mbeta\u001b[0m \u001b[1;33m<\u001b[0m \u001b[1;36m0\u001b[0m\u001b[1;33m:\u001b[0m\u001b[1;33m\u001b[0m\u001b[1;33m\u001b[0m\u001b[0m\n\u001b[0;32m   1463\u001b[0m         \u001b[1;32mraise\u001b[0m \u001b[0mValueError\u001b[0m\u001b[1;33m(\u001b[0m\u001b[1;34m\"beta should be >=0 in the F-beta score\"\u001b[0m\u001b[1;33m)\u001b[0m\u001b[1;33m\u001b[0m\u001b[1;33m\u001b[0m\u001b[0m\n\u001b[1;32m-> 1464\u001b[1;33m     labels = _check_set_wise_labels(y_true, y_pred, average, labels,\n\u001b[0m\u001b[0;32m   1465\u001b[0m                                     pos_label)\n\u001b[0;32m   1466\u001b[0m \u001b[1;33m\u001b[0m\u001b[0m\n",
      "\u001b[1;32m~\\Anaconda3\\lib\\site-packages\\sklearn\\metrics\\_classification.py\u001b[0m in \u001b[0;36m_check_set_wise_labels\u001b[1;34m(y_true, y_pred, average, labels, pos_label)\u001b[0m\n\u001b[0;32m   1275\u001b[0m                          str(average_options))\n\u001b[0;32m   1276\u001b[0m \u001b[1;33m\u001b[0m\u001b[0m\n\u001b[1;32m-> 1277\u001b[1;33m     \u001b[0my_type\u001b[0m\u001b[1;33m,\u001b[0m \u001b[0my_true\u001b[0m\u001b[1;33m,\u001b[0m \u001b[0my_pred\u001b[0m \u001b[1;33m=\u001b[0m \u001b[0m_check_targets\u001b[0m\u001b[1;33m(\u001b[0m\u001b[0my_true\u001b[0m\u001b[1;33m,\u001b[0m \u001b[0my_pred\u001b[0m\u001b[1;33m)\u001b[0m\u001b[1;33m\u001b[0m\u001b[1;33m\u001b[0m\u001b[0m\n\u001b[0m\u001b[0;32m   1278\u001b[0m     \u001b[1;31m# Convert to Python primitive type to avoid NumPy type / Python str\u001b[0m\u001b[1;33m\u001b[0m\u001b[1;33m\u001b[0m\u001b[0m\n\u001b[0;32m   1279\u001b[0m     \u001b[1;31m# comparison. See https://github.com/numpy/numpy/issues/6784\u001b[0m\u001b[1;33m\u001b[0m\u001b[1;33m\u001b[0m\u001b[0m\n",
      "\u001b[1;32m~\\Anaconda3\\lib\\site-packages\\sklearn\\metrics\\_classification.py\u001b[0m in \u001b[0;36m_check_targets\u001b[1;34m(y_true, y_pred)\u001b[0m\n\u001b[0;32m     90\u001b[0m \u001b[1;33m\u001b[0m\u001b[0m\n\u001b[0;32m     91\u001b[0m     \u001b[1;32mif\u001b[0m \u001b[0mlen\u001b[0m\u001b[1;33m(\u001b[0m\u001b[0my_type\u001b[0m\u001b[1;33m)\u001b[0m \u001b[1;33m>\u001b[0m \u001b[1;36m1\u001b[0m\u001b[1;33m:\u001b[0m\u001b[1;33m\u001b[0m\u001b[1;33m\u001b[0m\u001b[0m\n\u001b[1;32m---> 92\u001b[1;33m         raise ValueError(\"Classification metrics can't handle a mix of {0} \"\n\u001b[0m\u001b[0;32m     93\u001b[0m                          \"and {1} targets\".format(type_true, type_pred))\n\u001b[0;32m     94\u001b[0m \u001b[1;33m\u001b[0m\u001b[0m\n",
      "\u001b[1;31mValueError\u001b[0m: Classification metrics can't handle a mix of continuous-multioutput and multiclass targets"
     ]
    }
   ],
   "source": [
    "from sklearn.metrics  import precision_score,recall_score,accuracy_score,f1_score\n",
    "print('Precision Score :' ,precision_score(X_test, Y_test, pos_label='positive',average='micro'))\n",
    "print('Recall Score :',recall_score(X_test, Y_test,  pos_label='positive', average='micro'))\n",
    "print('Accuracy: %.2f' % accuracy_score(X_test, Y_test))\n",
    "print('F1 Score: %.2f' % f1_score(X_test, Y_test, pos_label='positive',average='micro'))"
   ]
  },
  {
   "cell_type": "code",
   "execution_count": null,
   "id": "d252b6a8",
   "metadata": {},
   "outputs": [],
   "source": []
  }
 ],
 "metadata": {
  "kernelspec": {
   "display_name": "Python 3 (ipykernel)",
   "language": "python",
   "name": "python3"
  },
  "language_info": {
   "codemirror_mode": {
    "name": "ipython",
    "version": 3
   },
   "file_extension": ".py",
   "mimetype": "text/x-python",
   "name": "python",
   "nbconvert_exporter": "python",
   "pygments_lexer": "ipython3",
   "version": "3.9.7"
  }
 },
 "nbformat": 4,
 "nbformat_minor": 5
}
